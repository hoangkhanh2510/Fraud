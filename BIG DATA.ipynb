{
 "cells": [
  {
   "cell_type": "markdown",
   "metadata": {},
   "source": [
    "# Détection de fraude bancaire\n",
    "### Big Data Mining M2 SISE : Pauline Lainé - Khanh Hoàng Lê"
   ]
  },
  {
   "cell_type": "markdown",
   "metadata": {},
   "source": [
    "## 1. Introduction"
   ]
  },
  {
   "cell_type": "markdown",
   "metadata": {},
   "source": [
    "Lorsqu'un client paye par chèque, il se peut que celui-ci ne paye jamais son panier, nous sommes alors dans le cas d'une fraude. Deux raisons peuvent être dû à une fraude. \n",
    "\n",
    "Le premier cas, c'est lorsque nous sommes dans le cas d'un chèque dit impayé, ce cas de figure apparait lorsque la personne ne possède pas le solde sur son compte en banque. L'autre cas de figure c'est lorsque nous avons à faire à un faux chèque. Un faux chèque peut se caractériser par une fausse identité ou lorsque le CMC7 est incorrect. Le CMC7 est une série de Caractères Magnétiques Codés à 7 bâtonnets situé en bas d'un chèque.\n",
    "\n",
    "Sur une période de 10 mois, ces fraudes se compte au nombre de 20 000 soit 0.6% des transactions réalisées, réprésentant un chiffre d'affaires de 2 millions d'euros qui équivaut à 1.1% du chiffre d'affaires total de l'enseigne. C'est un chiffre d'affaires perdu non négligable. \n",
    "\n",
    "Notre étude va alors se porter sur la détection des fraudes par chèque dans un contexte déséquilibré."
   ]
  },
  {
   "cell_type": "markdown",
   "metadata": {},
   "source": [
    "## 2. Les données"
   ]
  },
  {
   "cell_type": "markdown",
   "metadata": {},
   "source": [
    "Les données que nous allons utiliser provienne d'une enseigne de grande distribustion et d'organismes bancaires tels que la FNCI et la Banque de France. Nous avons une ligne par transaction sur la période du 21/03/2016 au 19/10/2016 soit une période de 7 mois. Chaque transaction est décrite par les 23 variables suivantes : \n",
    "\n",
    "- ZIBZIN : identifiant bancaire relatif à la personne\n",
    "- IDAvisAutorisAtionCheque : identifiant de la transaction en cours\n",
    "- Montant : montant de la transaction\n",
    "- DateTransaction : date de la transaction\n",
    "- CodeDecision : il s’agit d’une variable qui peut prendre ici 4 valeurs\n",
    "    - 0 : la transaction a été acceptée par le magasin\n",
    "    - 1 : la transaction et donc le client fait partie d’une liste blanche (bons payeurs). Aucun dans cette base de données\n",
    "    - 2 : le client fait d’une partie d’une liste noire, son historique indique c'est un mauvais payeur (des impayés en cours ou des incidents bancaires en cours), sa transaction est alors automatiquement refusée\n",
    "    - 3 : client ayant était arrêté par le système par le passé pour une raison plus ou moins fondée\n",
    "- VérifianceCPT1 : nombre de transactions effectuées par le même identifiant bancaire au cours du même jour\n",
    "- VérifianceCPT2 : nombre de transactions effectuées par le même identifiant bancaire au cours des trois derniers jours\n",
    "- VérifianceCPT3 : nombre de transactions effectuées par le même identifiant bancaire au cours des sept derniers jours\n",
    "- D2CB : durée de connaissance du client (par son identifiant bancaire), en jours. Pour des contraintes légales, cette durée de connaissance ne peut excéder deux ans\n",
    "- ScoringFP1 : score d’anormalité du panier relatif à une première famille de produits (ex : denrées alimentaires)\n",
    "- ScoringFP2 : score d’anormalité du panier relatif à une deuxième famille de produits(ex : électroniques)\n",
    "- ScoringFP3 : score d’anormalité du panier relatif à une troisième famille de produits (ex : autres)\n",
    "- TauxImpNb_RB : taux impayés enregistrés selon la région où a lieu la transaction\n",
    "- TauxImpNB_CPM : taux d’impayés relatif au magasin où a lieu la transaction\n",
    "- EcartNumCheq : différence entre les numéros de chèques\n",
    "- NbrMagasin3J : nombre de magasins différents fréquentés les 3 derniers jours\n",
    "- DiffDateTr1 : écart (en jours) à la précédente transaction\n",
    "- DiffDateTr2 : écart (en jours) à l’avant dernière transaction\n",
    "- DiffDateTr3 : écart (en jours) à l’antépénultième transaction\n",
    "-  CA3TRetMtt : montant des dernières transactions + montant de la transaction en cours\n",
    "- CA3TR : montant des trois dernières transactions\n",
    "- Heure : heure de la transaction\n",
    "- FlagImpaye : acception (0) ou refus de la transaction (1)\n",
    "\n",
    "Cette dernière variable \"FlagImpaye\" est celle que nous cherchons à prédire. La classe 0 correspondant aux transactions normales et acceptées et la classe 1 correspond aux fraudes, les transactions qui sont refusées.\n",
    "\n",
    "Voyons à présent de plus près à quoi ressemble nos données."
   ]
  },
  {
   "cell_type": "markdown",
   "metadata": {},
   "source": [
    "#### Importation des librairies "
   ]
  },
  {
   "cell_type": "code",
   "execution_count": 1,
   "metadata": {},
   "outputs": [
    {
     "name": "stdout",
     "output_type": "stream",
     "text": [
      "0.7.0\n"
     ]
    }
   ],
   "source": [
    "import numpy as np\n",
    "import pandas as pd\n",
    "import missingno as mn\n",
    "import matplotlib.pyplot as plt\n",
    "import plotly.express as px\n",
    "from sklearn.svm import LinearSVC\n",
    "from collections import Counter\n",
    "from sklearn.datasets import make_classification\n",
    "from sklearn.ensemble import RandomForestClassifier, VotingClassifier\n",
    "from sklearn.tree import DecisionTreeClassifier\n",
    "from sklearn.model_selection import train_test_split, GridSearchCV,TimeSeriesSplit, cross_val_score,cross_val_predict\n",
    "from sklearn.metrics import recall_score, f1_score, confusion_matrix\n",
    "from imblearn.over_sampling import SMOTE\n",
    "from sklearn.pipeline import make_pipeline\n",
    "from sklearn.preprocessing import StandardScaler\n",
    "from sklearn.discriminant_analysis import LinearDiscriminantAnalysis\n",
    "from sklearn.neighbors import KNeighborsClassifier\n",
    "from sklearn import metrics\n",
    "from time import time\n",
    "import seaborn as sns\n",
    "import imblearn\n",
    "from sklearn.decomposition import PCA\n",
    "from sklearn.svm import OneClassSVM\n",
    "import xgboost as xgb\n",
    "from sklearn.model_selection import TimeSeriesSplit\n",
    "from sklearn.model_selection import cross_val_score\n",
    "print(imblearn.__version__)"
   ]
  },
  {
   "cell_type": "markdown",
   "metadata": {},
   "source": [
    "### 2.1. Importation du jeu de données "
   ]
  },
  {
   "cell_type": "code",
   "execution_count": 27,
   "metadata": {},
   "outputs": [],
   "source": [
    "import os\n",
    "os.chdir(\"D:/OneDrive/Documents/COURS/M2 SISE/Big Data Mining/Projet\")\n",
    "df = pd.read_csv(\"dataproject.csv\",encoding=\"utf-8\",header=0, sep =\";\",decimal=',')\n",
    "#df =pd.read_csv(\"/Users/hoangkhanhle/Desktop/School/Master 2/Big Data/dataproject.csv\",encoding=\"utf-8\",header=0, sep =\";\",decimal=',')"
   ]
  },
  {
   "cell_type": "code",
   "execution_count": 17,
   "metadata": {},
   "outputs": [
    {
     "data": {
      "text/html": [
       "<div>\n",
       "<style scoped>\n",
       "    .dataframe tbody tr th:only-of-type {\n",
       "        vertical-align: middle;\n",
       "    }\n",
       "\n",
       "    .dataframe tbody tr th {\n",
       "        vertical-align: top;\n",
       "    }\n",
       "\n",
       "    .dataframe thead th {\n",
       "        text-align: right;\n",
       "    }\n",
       "</style>\n",
       "<table border=\"1\" class=\"dataframe\">\n",
       "  <thead>\n",
       "    <tr style=\"text-align: right;\">\n",
       "      <th></th>\n",
       "      <th>ZIBZIN</th>\n",
       "      <th>IDAvisAutorisAtionCheque</th>\n",
       "      <th>MontAnt</th>\n",
       "      <th>DAteTrAnsAction</th>\n",
       "      <th>CodeDecision</th>\n",
       "      <th>VerifiAnceCPT1</th>\n",
       "      <th>VerifiAnceCPT2</th>\n",
       "      <th>VerifiAnceCPT3</th>\n",
       "      <th>D2CB</th>\n",
       "      <th>ScoringFP1</th>\n",
       "      <th>...</th>\n",
       "      <th>TAuxImpNB_CPM</th>\n",
       "      <th>EcArtNumCheq</th>\n",
       "      <th>NbrMAgAsin3J</th>\n",
       "      <th>DiffDAteTr1</th>\n",
       "      <th>DiffDAteTr2</th>\n",
       "      <th>DiffDAteTr3</th>\n",
       "      <th>CA3TRetMtt</th>\n",
       "      <th>CA3TR</th>\n",
       "      <th>Heure</th>\n",
       "      <th>FlAgImpAye</th>\n",
       "    </tr>\n",
       "  </thead>\n",
       "  <tbody>\n",
       "    <tr>\n",
       "      <th>0</th>\n",
       "      <td>A034010041908012010710730</td>\n",
       "      <td>71051532</td>\n",
       "      <td>40.17</td>\n",
       "      <td>2016-03-21 07:47:38</td>\n",
       "      <td>0</td>\n",
       "      <td>1</td>\n",
       "      <td>1</td>\n",
       "      <td>1</td>\n",
       "      <td>535</td>\n",
       "      <td>0.0</td>\n",
       "      <td>...</td>\n",
       "      <td>21.834061</td>\n",
       "      <td>0</td>\n",
       "      <td>1</td>\n",
       "      <td>4.0</td>\n",
       "      <td>4.0</td>\n",
       "      <td>4.0</td>\n",
       "      <td>40.17</td>\n",
       "      <td>0.0</td>\n",
       "      <td>28058</td>\n",
       "      <td>0</td>\n",
       "    </tr>\n",
       "    <tr>\n",
       "      <th>1</th>\n",
       "      <td>A035010041908006493331734</td>\n",
       "      <td>71051533</td>\n",
       "      <td>20.00</td>\n",
       "      <td>2016-03-21 08:04:57</td>\n",
       "      <td>0</td>\n",
       "      <td>0</td>\n",
       "      <td>0</td>\n",
       "      <td>0</td>\n",
       "      <td>358</td>\n",
       "      <td>0.0</td>\n",
       "      <td>...</td>\n",
       "      <td>12.586532</td>\n",
       "      <td>0</td>\n",
       "      <td>1</td>\n",
       "      <td>4.0</td>\n",
       "      <td>4.0</td>\n",
       "      <td>4.0</td>\n",
       "      <td>20.00</td>\n",
       "      <td>0.0</td>\n",
       "      <td>29097</td>\n",
       "      <td>0</td>\n",
       "    </tr>\n",
       "    <tr>\n",
       "      <th>2</th>\n",
       "      <td>A013010003908005150136747</td>\n",
       "      <td>71051534</td>\n",
       "      <td>35.00</td>\n",
       "      <td>2016-03-21 08:06:45</td>\n",
       "      <td>0</td>\n",
       "      <td>0</td>\n",
       "      <td>0</td>\n",
       "      <td>0</td>\n",
       "      <td>199</td>\n",
       "      <td>0.0</td>\n",
       "      <td>...</td>\n",
       "      <td>39.274924</td>\n",
       "      <td>0</td>\n",
       "      <td>1</td>\n",
       "      <td>4.0</td>\n",
       "      <td>4.0</td>\n",
       "      <td>4.0</td>\n",
       "      <td>35.00</td>\n",
       "      <td>0.0</td>\n",
       "      <td>29205</td>\n",
       "      <td>0</td>\n",
       "    </tr>\n",
       "    <tr>\n",
       "      <th>3</th>\n",
       "      <td>A013010041908025639221029</td>\n",
       "      <td>71051536</td>\n",
       "      <td>20.00</td>\n",
       "      <td>2016-03-21 08:11:38</td>\n",
       "      <td>0</td>\n",
       "      <td>0</td>\n",
       "      <td>0</td>\n",
       "      <td>0</td>\n",
       "      <td>38</td>\n",
       "      <td>0.0</td>\n",
       "      <td>...</td>\n",
       "      <td>39.274924</td>\n",
       "      <td>0</td>\n",
       "      <td>1</td>\n",
       "      <td>4.0</td>\n",
       "      <td>4.0</td>\n",
       "      <td>4.0</td>\n",
       "      <td>20.00</td>\n",
       "      <td>0.0</td>\n",
       "      <td>29498</td>\n",
       "      <td>0</td>\n",
       "    </tr>\n",
       "    <tr>\n",
       "      <th>4</th>\n",
       "      <td>A013010003908005556100283</td>\n",
       "      <td>71051538</td>\n",
       "      <td>20.00</td>\n",
       "      <td>2016-03-21 08:17:11</td>\n",
       "      <td>0</td>\n",
       "      <td>0</td>\n",
       "      <td>0</td>\n",
       "      <td>0</td>\n",
       "      <td>26</td>\n",
       "      <td>0.0</td>\n",
       "      <td>...</td>\n",
       "      <td>39.274924</td>\n",
       "      <td>0</td>\n",
       "      <td>1</td>\n",
       "      <td>4.0</td>\n",
       "      <td>4.0</td>\n",
       "      <td>4.0</td>\n",
       "      <td>20.00</td>\n",
       "      <td>0.0</td>\n",
       "      <td>29831</td>\n",
       "      <td>0</td>\n",
       "    </tr>\n",
       "  </tbody>\n",
       "</table>\n",
       "<p>5 rows × 23 columns</p>\n",
       "</div>"
      ],
      "text/plain": [
       "                      ZIBZIN  IDAvisAutorisAtionCheque  MontAnt  \\\n",
       "0  A034010041908012010710730                  71051532    40.17   \n",
       "1  A035010041908006493331734                  71051533    20.00   \n",
       "2  A013010003908005150136747                  71051534    35.00   \n",
       "3  A013010041908025639221029                  71051536    20.00   \n",
       "4  A013010003908005556100283                  71051538    20.00   \n",
       "\n",
       "       DAteTrAnsAction  CodeDecision  VerifiAnceCPT1  VerifiAnceCPT2  \\\n",
       "0  2016-03-21 07:47:38             0               1               1   \n",
       "1  2016-03-21 08:04:57             0               0               0   \n",
       "2  2016-03-21 08:06:45             0               0               0   \n",
       "3  2016-03-21 08:11:38             0               0               0   \n",
       "4  2016-03-21 08:17:11             0               0               0   \n",
       "\n",
       "   VerifiAnceCPT3  D2CB  ScoringFP1  ...  TAuxImpNB_CPM  EcArtNumCheq  \\\n",
       "0               1   535         0.0  ...      21.834061             0   \n",
       "1               0   358         0.0  ...      12.586532             0   \n",
       "2               0   199         0.0  ...      39.274924             0   \n",
       "3               0    38         0.0  ...      39.274924             0   \n",
       "4               0    26         0.0  ...      39.274924             0   \n",
       "\n",
       "   NbrMAgAsin3J  DiffDAteTr1  DiffDAteTr2  DiffDAteTr3  CA3TRetMtt  CA3TR  \\\n",
       "0             1          4.0          4.0          4.0       40.17    0.0   \n",
       "1             1          4.0          4.0          4.0       20.00    0.0   \n",
       "2             1          4.0          4.0          4.0       35.00    0.0   \n",
       "3             1          4.0          4.0          4.0       20.00    0.0   \n",
       "4             1          4.0          4.0          4.0       20.00    0.0   \n",
       "\n",
       "   Heure  FlAgImpAye  \n",
       "0  28058           0  \n",
       "1  29097           0  \n",
       "2  29205           0  \n",
       "3  29498           0  \n",
       "4  29831           0  \n",
       "\n",
       "[5 rows x 23 columns]"
      ]
     },
     "execution_count": 17,
     "metadata": {},
     "output_type": "execute_result"
    }
   ],
   "source": [
    "df.head()"
   ]
  },
  {
   "cell_type": "code",
   "execution_count": 18,
   "metadata": {},
   "outputs": [
    {
     "name": "stdout",
     "output_type": "stream",
     "text": [
      "(2231369, 23)\n",
      "<class 'pandas.core.frame.DataFrame'>\n",
      "RangeIndex: 2231369 entries, 0 to 2231368\n",
      "Data columns (total 23 columns):\n",
      " #   Column                    Dtype  \n",
      "---  ------                    -----  \n",
      " 0   ZIBZIN                    object \n",
      " 1   IDAvisAutorisAtionCheque  int64  \n",
      " 2   MontAnt                   float64\n",
      " 3   DAteTrAnsAction           object \n",
      " 4   CodeDecision              int64  \n",
      " 5   VerifiAnceCPT1            int64  \n",
      " 6   VerifiAnceCPT2            int64  \n",
      " 7   VerifiAnceCPT3            int64  \n",
      " 8   D2CB                      int64  \n",
      " 9   ScoringFP1                float64\n",
      " 10  ScoringFP2                float64\n",
      " 11  ScoringFP3                float64\n",
      " 12  TAuxImpNb_RB              float64\n",
      " 13  TAuxImpNB_CPM             float64\n",
      " 14  EcArtNumCheq              int64  \n",
      " 15  NbrMAgAsin3J              int64  \n",
      " 16  DiffDAteTr1               float64\n",
      " 17  DiffDAteTr2               float64\n",
      " 18  DiffDAteTr3               float64\n",
      " 19  CA3TRetMtt                float64\n",
      " 20  CA3TR                     float64\n",
      " 21  Heure                     int64  \n",
      " 22  FlAgImpAye                int64  \n",
      "dtypes: float64(11), int64(10), object(2)\n",
      "memory usage: 391.6+ MB\n",
      "None\n"
     ]
    }
   ],
   "source": [
    "print(np.shape(df))\n",
    "print(df.info())"
   ]
  },
  {
   "cell_type": "markdown",
   "metadata": {},
   "source": [
    "Nous avons une base de données de plus de 2 millions de transactions (2 231 369) caractérisé par 23 variables. La plus part sont quantitatives de type \"int64\" et \"float64\". Deux variables sont de type qualitative : l'indentifiant de la personne (ZIBZIN) et la date de la transaction (DAteTrAnsAction)."
   ]
  },
  {
   "cell_type": "markdown",
   "metadata": {},
   "source": [
    "### 2.2. Valeurs manquantes\n",
    "\n",
    "Avant de faire des analyses sur nos données. Nous allons dans un premier vérifier si nous avons des valeurs manquantes dans notre jeu de données.  "
   ]
  },
  {
   "cell_type": "code",
   "execution_count": 19,
   "metadata": {},
   "outputs": [
    {
     "data": {
      "text/plain": [
       "<matplotlib.axes._subplots.AxesSubplot at 0x1869330fa60>"
      ]
     },
     "execution_count": 19,
     "metadata": {},
     "output_type": "execute_result"
    },
    {
     "data": {
      "image/png": "[encoded data removed]",
      "text/plain": [
       "<Figure size 1800x720 with 2 Axes>"
      ]
     },
     "metadata": {
      "needs_background": "light"
     },
     "output_type": "display_data"
    }
   ],
   "source": [
    "# Matrice des valeurs nulles\n",
    "mn.matrix(df)"
   ]
  },
  {
   "cell_type": "code",
   "execution_count": 21,
   "metadata": {},
   "outputs": [
    {
     "name": "stdout",
     "output_type": "stream",
     "text": [
      "ZIBZIN                      0\n",
      "IDAvisAutorisAtionCheque    0\n",
      "MontAnt                     0\n",
      "DAteTrAnsAction             0\n",
      "CodeDecision                0\n",
      "VerifiAnceCPT1              0\n",
      "VerifiAnceCPT2              0\n",
      "VerifiAnceCPT3              0\n",
      "D2CB                        0\n",
      "ScoringFP1                  0\n",
      "ScoringFP2                  0\n",
      "ScoringFP3                  0\n",
      "TAuxImpNb_RB                0\n",
      "TAuxImpNB_CPM               0\n",
      "EcArtNumCheq                0\n",
      "NbrMAgAsin3J                0\n",
      "DiffDAteTr1                 0\n",
      "DiffDAteTr2                 0\n",
      "DiffDAteTr3                 0\n",
      "CA3TRetMtt                  0\n",
      "CA3TR                       0\n",
      "Heure                       0\n",
      "FlAgImpAye                  0\n",
      "dtype: int64\n"
     ]
    }
   ],
   "source": [
    "#Nombre de valeurs nulles par variable\n",
    "print(df.isnull().sum())"
   ]
  },
  {
   "cell_type": "markdown",
   "metadata": {},
   "source": [
    "Notre jeu de données comporte aucune valeur nulle. Nous allons maintenant pouvoir faire quelques analyses sur nos données."
   ]
  },
  {
   "cell_type": "markdown",
   "metadata": {},
   "source": [
    "### 2.3. Analyse univarié\n",
    "\n",
    "##### Matrice de corrélation"
   ]
  },
  {
   "cell_type": "code",
   "execution_count": 22,
   "metadata": {},
   "outputs": [
    {
     "data": {
      "text/plain": [
       "<matplotlib.axes._subplots.AxesSubplot at 0x186efebc730>"
      ]
     },
     "execution_count": 22,
     "metadata": {},
     "output_type": "execute_result"
    },
    {
     "data": {
      "image/png": "[encoded data removed]",
      "text/plain": [
       "<Figure size 1440x1440 with 2 Axes>"
      ]
     },
     "metadata": {},
     "output_type": "display_data"
    }
   ],
   "source": [
    "from matplotlib import pyplot\n",
    "import seaborn as sns\n",
    "#Matrice de corrélation\n",
    "sns.set_style(\"darkgrid\")\n",
    "pyplot.figure(figsize=(20, 20))\n",
    "sns.heatmap(df.corr(), square=True, annot=True)"
   ]
  },
  {
   "cell_type": "markdown",
   "metadata": {},
   "source": [
    "Lorsqu'on regarde la matrice de correlation on voit qu'aucune variables est corrélées à notre variables cible. Le plus gros score qu'on observe est 0.041 ce qui est très faible.\n",
    "\n",
    "##### Description des variables"
   ]
  },
  {
   "cell_type": "code",
   "execution_count": 23,
   "metadata": {},
   "outputs": [
    {
     "data": {
      "text/html": [
       "<div>\n",
       "<style scoped>\n",
       "    .dataframe tbody tr th:only-of-type {\n",
       "        vertical-align: middle;\n",
       "    }\n",
       "\n",
       "    .dataframe tbody tr th {\n",
       "        vertical-align: top;\n",
       "    }\n",
       "\n",
       "    .dataframe thead th {\n",
       "        text-align: right;\n",
       "    }\n",
       "</style>\n",
       "<table border=\"1\" class=\"dataframe\">\n",
       "  <thead>\n",
       "    <tr style=\"text-align: right;\">\n",
       "      <th></th>\n",
       "      <th>IDAvisAutorisAtionCheque</th>\n",
       "      <th>MontAnt</th>\n",
       "      <th>CodeDecision</th>\n",
       "      <th>VerifiAnceCPT1</th>\n",
       "      <th>VerifiAnceCPT2</th>\n",
       "      <th>VerifiAnceCPT3</th>\n",
       "      <th>D2CB</th>\n",
       "      <th>ScoringFP1</th>\n",
       "      <th>ScoringFP2</th>\n",
       "      <th>ScoringFP3</th>\n",
       "      <th>...</th>\n",
       "      <th>TAuxImpNB_CPM</th>\n",
       "      <th>EcArtNumCheq</th>\n",
       "      <th>NbrMAgAsin3J</th>\n",
       "      <th>DiffDAteTr1</th>\n",
       "      <th>DiffDAteTr2</th>\n",
       "      <th>DiffDAteTr3</th>\n",
       "      <th>CA3TRetMtt</th>\n",
       "      <th>CA3TR</th>\n",
       "      <th>Heure</th>\n",
       "      <th>FlAgImpAye</th>\n",
       "    </tr>\n",
       "  </thead>\n",
       "  <tbody>\n",
       "    <tr>\n",
       "      <th>count</th>\n",
       "      <td>2.231369e+06</td>\n",
       "      <td>2.231369e+06</td>\n",
       "      <td>2.231369e+06</td>\n",
       "      <td>2.231369e+06</td>\n",
       "      <td>2.231369e+06</td>\n",
       "      <td>2.231369e+06</td>\n",
       "      <td>2.231369e+06</td>\n",
       "      <td>2.231369e+06</td>\n",
       "      <td>2.231369e+06</td>\n",
       "      <td>2.231369e+06</td>\n",
       "      <td>...</td>\n",
       "      <td>2.231369e+06</td>\n",
       "      <td>2.231369e+06</td>\n",
       "      <td>2.231369e+06</td>\n",
       "      <td>2.231369e+06</td>\n",
       "      <td>2.231369e+06</td>\n",
       "      <td>2.231369e+06</td>\n",
       "      <td>2.231369e+06</td>\n",
       "      <td>2.231369e+06</td>\n",
       "      <td>2.231369e+06</td>\n",
       "      <td>2.231369e+06</td>\n",
       "    </tr>\n",
       "    <tr>\n",
       "      <th>mean</th>\n",
       "      <td>7.356762e+07</td>\n",
       "      <td>5.991771e+01</td>\n",
       "      <td>1.288043e-02</td>\n",
       "      <td>3.991402e-01</td>\n",
       "      <td>4.296752e-01</td>\n",
       "      <td>4.816980e-01</td>\n",
       "      <td>2.477938e+02</td>\n",
       "      <td>3.100542e+00</td>\n",
       "      <td>6.882686e-01</td>\n",
       "      <td>1.769416e-01</td>\n",
       "      <td>...</td>\n",
       "      <td>3.256122e+01</td>\n",
       "      <td>6.724334e+03</td>\n",
       "      <td>1.034200e+00</td>\n",
       "      <td>3.947808e+00</td>\n",
       "      <td>4.234163e+00</td>\n",
       "      <td>4.266234e+00</td>\n",
       "      <td>6.683475e+01</td>\n",
       "      <td>6.917041e+00</td>\n",
       "      <td>5.347306e+04</td>\n",
       "      <td>2.804108e-03</td>\n",
       "    </tr>\n",
       "    <tr>\n",
       "      <th>std</th>\n",
       "      <td>1.458268e+06</td>\n",
       "      <td>7.980922e+01</td>\n",
       "      <td>1.682062e-01</td>\n",
       "      <td>5.250070e-01</td>\n",
       "      <td>6.056457e-01</td>\n",
       "      <td>7.339127e-01</td>\n",
       "      <td>2.131088e+02</td>\n",
       "      <td>3.047480e+01</td>\n",
       "      <td>9.336748e+00</td>\n",
       "      <td>5.662696e-01</td>\n",
       "      <td>...</td>\n",
       "      <td>3.475789e+01</td>\n",
       "      <td>1.742520e+05</td>\n",
       "      <td>1.862585e-01</td>\n",
       "      <td>1.078915e+00</td>\n",
       "      <td>5.510923e-01</td>\n",
       "      <td>4.643674e-01</td>\n",
       "      <td>8.929606e+01</td>\n",
       "      <td>3.550385e+01</td>\n",
       "      <td>1.200173e+04</td>\n",
       "      <td>5.287955e-02</td>\n",
       "    </tr>\n",
       "    <tr>\n",
       "      <th>min</th>\n",
       "      <td>7.105153e+07</td>\n",
       "      <td>1.000000e-02</td>\n",
       "      <td>0.000000e+00</td>\n",
       "      <td>0.000000e+00</td>\n",
       "      <td>0.000000e+00</td>\n",
       "      <td>0.000000e+00</td>\n",
       "      <td>1.000000e+00</td>\n",
       "      <td>0.000000e+00</td>\n",
       "      <td>-4.969986e+01</td>\n",
       "      <td>0.000000e+00</td>\n",
       "      <td>...</td>\n",
       "      <td>0.000000e+00</td>\n",
       "      <td>0.000000e+00</td>\n",
       "      <td>1.000000e+00</td>\n",
       "      <td>0.000000e+00</td>\n",
       "      <td>4.745370e-04</td>\n",
       "      <td>1.365741e-03</td>\n",
       "      <td>1.000000e-02</td>\n",
       "      <td>0.000000e+00</td>\n",
       "      <td>1.336000e+03</td>\n",
       "      <td>0.000000e+00</td>\n",
       "    </tr>\n",
       "    <tr>\n",
       "      <th>25%</th>\n",
       "      <td>7.232987e+07</td>\n",
       "      <td>2.500000e+01</td>\n",
       "      <td>0.000000e+00</td>\n",
       "      <td>0.000000e+00</td>\n",
       "      <td>0.000000e+00</td>\n",
       "      <td>0.000000e+00</td>\n",
       "      <td>1.000000e+00</td>\n",
       "      <td>5.874265e-03</td>\n",
       "      <td>-2.869431e+00</td>\n",
       "      <td>1.179973e-03</td>\n",
       "      <td>...</td>\n",
       "      <td>1.390821e+01</td>\n",
       "      <td>0.000000e+00</td>\n",
       "      <td>1.000000e+00</td>\n",
       "      <td>4.000000e+00</td>\n",
       "      <td>4.000000e+00</td>\n",
       "      <td>4.000000e+00</td>\n",
       "      <td>2.792000e+01</td>\n",
       "      <td>0.000000e+00</td>\n",
       "      <td>4.248500e+04</td>\n",
       "      <td>0.000000e+00</td>\n",
       "    </tr>\n",
       "    <tr>\n",
       "      <th>50%</th>\n",
       "      <td>7.353719e+07</td>\n",
       "      <td>4.235000e+01</td>\n",
       "      <td>0.000000e+00</td>\n",
       "      <td>0.000000e+00</td>\n",
       "      <td>0.000000e+00</td>\n",
       "      <td>0.000000e+00</td>\n",
       "      <td>2.430000e+02</td>\n",
       "      <td>1.543502e-02</td>\n",
       "      <td>0.000000e+00</td>\n",
       "      <td>2.131271e-03</td>\n",
       "      <td>...</td>\n",
       "      <td>2.526529e+01</td>\n",
       "      <td>0.000000e+00</td>\n",
       "      <td>1.000000e+00</td>\n",
       "      <td>4.000000e+00</td>\n",
       "      <td>4.000000e+00</td>\n",
       "      <td>4.000000e+00</td>\n",
       "      <td>4.732000e+01</td>\n",
       "      <td>0.000000e+00</td>\n",
       "      <td>5.488200e+04</td>\n",
       "      <td>0.000000e+00</td>\n",
       "    </tr>\n",
       "    <tr>\n",
       "      <th>75%</th>\n",
       "      <td>7.480167e+07</td>\n",
       "      <td>7.205000e+01</td>\n",
       "      <td>0.000000e+00</td>\n",
       "      <td>1.000000e+00</td>\n",
       "      <td>1.000000e+00</td>\n",
       "      <td>1.000000e+00</td>\n",
       "      <td>4.680000e+02</td>\n",
       "      <td>1.370299e-01</td>\n",
       "      <td>5.289664e+00</td>\n",
       "      <td>1.533859e-02</td>\n",
       "      <td>...</td>\n",
       "      <td>3.927492e+01</td>\n",
       "      <td>0.000000e+00</td>\n",
       "      <td>1.000000e+00</td>\n",
       "      <td>5.000000e+00</td>\n",
       "      <td>5.000000e+00</td>\n",
       "      <td>5.000000e+00</td>\n",
       "      <td>8.130000e+01</td>\n",
       "      <td>0.000000e+00</td>\n",
       "      <td>6.390700e+04</td>\n",
       "      <td>0.000000e+00</td>\n",
       "    </tr>\n",
       "    <tr>\n",
       "      <th>max</th>\n",
       "      <td>7.619241e+07</td>\n",
       "      <td>1.698534e+04</td>\n",
       "      <td>3.000000e+00</td>\n",
       "      <td>1.500000e+01</td>\n",
       "      <td>4.000000e+01</td>\n",
       "      <td>4.000000e+01</td>\n",
       "      <td>5.510000e+02</td>\n",
       "      <td>1.680000e+04</td>\n",
       "      <td>4.702998e+01</td>\n",
       "      <td>1.839140e+01</td>\n",
       "      <td>...</td>\n",
       "      <td>7.142857e+02</td>\n",
       "      <td>9.993474e+06</td>\n",
       "      <td>1.000000e+01</td>\n",
       "      <td>5.000000e+00</td>\n",
       "      <td>5.000000e+00</td>\n",
       "      <td>5.000000e+00</td>\n",
       "      <td>1.698534e+04</td>\n",
       "      <td>1.060000e+04</td>\n",
       "      <td>8.256400e+04</td>\n",
       "      <td>1.000000e+00</td>\n",
       "    </tr>\n",
       "  </tbody>\n",
       "</table>\n",
       "<p>8 rows × 21 columns</p>\n",
       "</div>"
      ],
      "text/plain": [
       "       IDAvisAutorisAtionCheque       MontAnt  CodeDecision  VerifiAnceCPT1  \\\n",
       "count              2.231369e+06  2.231369e+06  2.231369e+06    2.231369e+06   \n",
       "mean               7.356762e+07  5.991771e+01  1.288043e-02    3.991402e-01   \n",
       "std                1.458268e+06  7.980922e+01  1.682062e-01    5.250070e-01   \n",
       "min                7.105153e+07  1.000000e-02  0.000000e+00    0.000000e+00   \n",
       "25%                7.232987e+07  2.500000e+01  0.000000e+00    0.000000e+00   \n",
       "50%                7.353719e+07  4.235000e+01  0.000000e+00    0.000000e+00   \n",
       "75%                7.480167e+07  7.205000e+01  0.000000e+00    1.000000e+00   \n",
       "max                7.619241e+07  1.698534e+04  3.000000e+00    1.500000e+01   \n",
       "\n",
       "       VerifiAnceCPT2  VerifiAnceCPT3          D2CB    ScoringFP1  \\\n",
       "count    2.231369e+06    2.231369e+06  2.231369e+06  2.231369e+06   \n",
       "mean     4.296752e-01    4.816980e-01  2.477938e+02  3.100542e+00   \n",
       "std      6.056457e-01    7.339127e-01  2.131088e+02  3.047480e+01   \n",
       "min      0.000000e+00    0.000000e+00  1.000000e+00  0.000000e+00   \n",
       "25%      0.000000e+00    0.000000e+00  1.000000e+00  5.874265e-03   \n",
       "50%      0.000000e+00    0.000000e+00  2.430000e+02  1.543502e-02   \n",
       "75%      1.000000e+00    1.000000e+00  4.680000e+02  1.370299e-01   \n",
       "max      4.000000e+01    4.000000e+01  5.510000e+02  1.680000e+04   \n",
       "\n",
       "         ScoringFP2    ScoringFP3  ...  TAuxImpNB_CPM  EcArtNumCheq  \\\n",
       "count  2.231369e+06  2.231369e+06  ...   2.231369e+06  2.231369e+06   \n",
       "mean   6.882686e-01  1.769416e-01  ...   3.256122e+01  6.724334e+03   \n",
       "std    9.336748e+00  5.662696e-01  ...   3.475789e+01  1.742520e+05   \n",
       "min   -4.969986e+01  0.000000e+00  ...   0.000000e+00  0.000000e+00   \n",
       "25%   -2.869431e+00  1.179973e-03  ...   1.390821e+01  0.000000e+00   \n",
       "50%    0.000000e+00  2.131271e-03  ...   2.526529e+01  0.000000e+00   \n",
       "75%    5.289664e+00  1.533859e-02  ...   3.927492e+01  0.000000e+00   \n",
       "max    4.702998e+01  1.839140e+01  ...   7.142857e+02  9.993474e+06   \n",
       "\n",
       "       NbrMAgAsin3J   DiffDAteTr1   DiffDAteTr2   DiffDAteTr3    CA3TRetMtt  \\\n",
       "count  2.231369e+06  2.231369e+06  2.231369e+06  2.231369e+06  2.231369e+06   \n",
       "mean   1.034200e+00  3.947808e+00  4.234163e+00  4.266234e+00  6.683475e+01   \n",
       "std    1.862585e-01  1.078915e+00  5.510923e-01  4.643674e-01  8.929606e+01   \n",
       "min    1.000000e+00  0.000000e+00  4.745370e-04  1.365741e-03  1.000000e-02   \n",
       "25%    1.000000e+00  4.000000e+00  4.000000e+00  4.000000e+00  2.792000e+01   \n",
       "50%    1.000000e+00  4.000000e+00  4.000000e+00  4.000000e+00  4.732000e+01   \n",
       "75%    1.000000e+00  5.000000e+00  5.000000e+00  5.000000e+00  8.130000e+01   \n",
       "max    1.000000e+01  5.000000e+00  5.000000e+00  5.000000e+00  1.698534e+04   \n",
       "\n",
       "              CA3TR         Heure    FlAgImpAye  \n",
       "count  2.231369e+06  2.231369e+06  2.231369e+06  \n",
       "mean   6.917041e+00  5.347306e+04  2.804108e-03  \n",
       "std    3.550385e+01  1.200173e+04  5.287955e-02  \n",
       "min    0.000000e+00  1.336000e+03  0.000000e+00  \n",
       "25%    0.000000e+00  4.248500e+04  0.000000e+00  \n",
       "50%    0.000000e+00  5.488200e+04  0.000000e+00  \n",
       "75%    0.000000e+00  6.390700e+04  0.000000e+00  \n",
       "max    1.060000e+04  8.256400e+04  1.000000e+00  \n",
       "\n",
       "[8 rows x 21 columns]"
      ]
     },
     "execution_count": 23,
     "metadata": {},
     "output_type": "execute_result"
    }
   ],
   "source": [
    "df.describe()"
   ]
  },
  {
   "cell_type": "markdown",
   "metadata": {},
   "source": [
    "L'ordre de grandeur des variables varie enormement, il faudra penser à standardiser les données pour nos prédictions. \n",
    "Regardons le montant de la transaction, qui est une variable importante pour notre problématique. On peut voir que le montant moyen d'une transaction est proche de 60€. Avec la plus petite transaction qui est inférieur à 1€ et la transaction la plus élevé qui est d'environ 17K€. On voit donc un très grand écart entre c'est deux valeurs. La dispersion de cette variable est élevé. Regardons la distribution de cette variable."
   ]
  },
  {
   "cell_type": "code",
   "execution_count": 24,
   "metadata": {},
   "outputs": [
    {
     "data": {
      "text/plain": [
       "[Text(0, 0.5, 'Distribution')]"
      ]
     },
     "execution_count": 24,
     "metadata": {},
     "output_type": "execute_result"
    },
    {
     "data": {
      "image/png": "[encoded data removed]",
      "text/plain": [
       "<Figure size 1152x720 with 1 Axes>"
      ]
     },
     "metadata": {},
     "output_type": "display_data"
    }
   ],
   "source": [
    "#Distribution de la variable Montant\n",
    "plt.figure(figsize=(16, 10))\n",
    "ax = sns.distplot(df[\"MontAnt\"])\n",
    "ax.set(ylabel=\"Distribution\")  "
   ]
  },
  {
   "cell_type": "markdown",
   "metadata": {},
   "source": [
    "Quand on regarde la distribution du montant des transactions on voit que la plus part des transactions sont inférieur à 500€. On a très peu de transactions avec une montant très élevé. \n",
    "Regardons à présent les deux variables quantitatives discrètes \"FlAgImpAye\" et \"CodeDecision\" afin de voir la répartion de ces variables dans cette base.\n",
    "\n",
    "##### Code Décision : \n",
    "Cette variable rappelons-le elle permet de definir si la transaction à été accepter ou refuser soit parce que le client fait partie d'une liste noir soit parce que le système à déjà arrêtés le clients. Cette variable peut prendre 4 valeurs possible (0,1,2 ou 3). Sachant qu'il n'y a normalement aucune valeur 1 dans cette base de données. Nous souhaitons voir la répartition de chacune des valeurs possibles.  "
   ]
  },
  {
   "cell_type": "code",
   "execution_count": 25,
   "metadata": {},
   "outputs": [
    {
     "data": {
      "text/plain": [
       "0    2218002\n",
       "2      11360\n",
       "3       2007\n",
       "Name: CodeDecision, dtype: int64"
      ]
     },
     "execution_count": 25,
     "metadata": {},
     "output_type": "execute_result"
    }
   ],
   "source": [
    "#Répartion de la variable CodeDecision\n",
    "pd.value_counts(df['CodeDecision'])"
   ]
  },
  {
   "cell_type": "code",
   "execution_count": 26,
   "metadata": {},
   "outputs": [
    {
     "data": {
      "image/png": "[encoded data removed]",
      "text/plain": [
       "<Figure size 432x288 with 1 Axes>"
      ]
     },
     "metadata": {},
     "output_type": "display_data"
    }
   ],
   "source": [
    "#Barplot\n",
    "ax = sns.countplot(x=\"CodeDecision\", data=df)"
   ]
  },
  {
   "cell_type": "markdown",
   "metadata": {},
   "source": [
    "On voit donc que en effet la valeur 1 concernant les clients bon payeurs qui font partie d'une liste blanche ne fait pas partie de cette base. De plus on peut voir que notre jeu de données est composé en majorité de transactions qui ont été aceptées par l'enseigne.\n",
    "\n",
    "##### Variable cible : FlAgImpAyes\n",
    "\n",
    "Comme dit précedemment la variable que nous cherchons à prédire est \"FlAgImpAyes\", il semble donc important de voir la répartition de cette variable, sachant qu'elle peut prendre que 2 valeurs possibles (0 ou 1). \n"
   ]
  },
  {
   "cell_type": "code",
   "execution_count": 27,
   "metadata": {},
   "outputs": [
    {
     "name": "stdout",
     "output_type": "stream",
     "text": [
      "0    0.997196\n",
      "1    0.002804\n",
      "Name: FlAgImpAye, dtype: float64\n"
     ]
    }
   ],
   "source": [
    "#Répartion de la variable cible FlAgImpAye en %\n",
    "print(pd.value_counts(df['FlAgImpAye'])/len(df)) "
   ]
  },
  {
   "cell_type": "code",
   "execution_count": 28,
   "metadata": {},
   "outputs": [
    {
     "data": {
      "image/png": "[encoded data removed]",
      "text/plain": [
       "<Figure size 432x288 with 1 Axes>"
      ]
     },
     "metadata": {},
     "output_type": "display_data"
    }
   ],
   "source": [
    "#Barplot\n",
    "ax = sns.countplot(x=\"FlAgImpAye\", data=df)"
   ]
  },
  {
   "cell_type": "markdown",
   "metadata": {},
   "source": [
    "On voit donc voit que la classe 1 dite \"frauduleuse\" est extremement petite par rapport à la classe normale (0). Elle représente 0.28% de notre jeu de données. Plus de 99% de nos données sont donc de la classe normale. Nous sommes dans une environnement extrêmement déséquilibré. Nos prédictions seront faussées et risque de prédire tout le temps la classe majoritaire. Nous devons prendre en compte cet élément pour palier à ça. On va donc procéder à un oversampling pour équilibré nos classes sans perdre des informations importantes sur les classes. Nous allons également tester sur les modèles qui le permette une méthode qui permet de pondérer les données en fonction de sa classe. \n",
    "\n",
    "On se demande si le montant des transactions est différent en fonction de la classe. C'est ce que nous allons voir.\n",
    "\n",
    "##### Relation entre le type de transaction et le montant de celle ci"
   ]
  },
  {
   "cell_type": "code",
   "execution_count": 29,
   "metadata": {},
   "outputs": [
    {
     "data": {
      "text/plain": [
       "<seaborn.axisgrid.FacetGrid at 0x18693868c10>"
      ]
     },
     "execution_count": 29,
     "metadata": {},
     "output_type": "execute_result"
    },
    {
     "data": {
      "image/png": "[encoded data removed]",
      "text/plain": [
       "<Figure size 360x360 with 1 Axes>"
      ]
     },
     "metadata": {},
     "output_type": "display_data"
    }
   ],
   "source": [
    "#Relation entre la classe et le montant\n",
    "sns.catplot(x=\"FlAgImpAye\", y=\"MontAnt\", kind=\"box\", data=df)"
   ]
  },
  {
   "cell_type": "markdown",
   "metadata": {},
   "source": [
    "Il ne semble pas y avoir une grande différence entre le montant moyen des transaction de ces deux classes. Néanmoins on voit que les transactions les plus élevées sont des transactions qui ne sont pas frauduleuses. Les transactions de la classe frauduleuses sont moins dispersées.\n",
    "\n",
    "##### Date transaction\n",
    "\n",
    "Il nous reste une variable importante à regarder de plus près. C'est la variable de la date de transaction (DAteTrAnsAction). Nous allons commencer par la transformer pour quel soit au bon format \"datetime\"."
   ]
  },
  {
   "cell_type": "code",
   "execution_count": 28,
   "metadata": {},
   "outputs": [
    {
     "name": "stdout",
     "output_type": "stream",
     "text": [
      "<class 'pandas.core.frame.DataFrame'>\n",
      "RangeIndex: 2231369 entries, 0 to 2231368\n",
      "Data columns (total 23 columns):\n",
      " #   Column                    Dtype         \n",
      "---  ------                    -----         \n",
      " 0   ZIBZIN                    object        \n",
      " 1   IDAvisAutorisAtionCheque  int64         \n",
      " 2   MontAnt                   float64       \n",
      " 3   DAteTrAnsAction           datetime64[ns]\n",
      " 4   CodeDecision              int64         \n",
      " 5   VerifiAnceCPT1            int64         \n",
      " 6   VerifiAnceCPT2            int64         \n",
      " 7   VerifiAnceCPT3            int64         \n",
      " 8   D2CB                      int64         \n",
      " 9   ScoringFP1                float64       \n",
      " 10  ScoringFP2                float64       \n",
      " 11  ScoringFP3                float64       \n",
      " 12  TAuxImpNb_RB              float64       \n",
      " 13  TAuxImpNB_CPM             float64       \n",
      " 14  EcArtNumCheq              int64         \n",
      " 15  NbrMAgAsin3J              int64         \n",
      " 16  DiffDAteTr1               float64       \n",
      " 17  DiffDAteTr2               float64       \n",
      " 18  DiffDAteTr3               float64       \n",
      " 19  CA3TRetMtt                float64       \n",
      " 20  CA3TR                     float64       \n",
      " 21  Heure                     int64         \n",
      " 22  FlAgImpAye                int64         \n",
      "dtypes: datetime64[ns](1), float64(11), int64(10), object(1)\n",
      "memory usage: 391.6+ MB\n",
      "None\n"
     ]
    }
   ],
   "source": [
    "#Transformation de la date au format datetime\n",
    "df['DAteTrAnsAction'] = pd.to_datetime(df['DAteTrAnsAction'])\n",
    "print(df.info())"
   ]
  },
  {
   "cell_type": "code",
   "execution_count": 29,
   "metadata": {},
   "outputs": [
    {
     "name": "stdout",
     "output_type": "stream",
     "text": [
      "[ 3  4  5  6  7  8  9 10]\n"
     ]
    }
   ],
   "source": [
    "#Extraction du mois\n",
    "df['Month']=df['DAteTrAnsAction'].dt.month\n",
    "a=pd.value_counts(df['Month'])\n",
    "#Les différents mois present dans la base de données\n",
    "print(df['Month'].unique())"
   ]
  },
  {
   "cell_type": "code",
   "execution_count": 30,
   "metadata": {},
   "outputs": [
    {
     "data": {
      "image/png": "[encoded data removed]",
      "text/plain": [
       "<Figure size 360x360 with 1 Axes>"
      ]
     },
     "metadata": {},
     "output_type": "display_data"
    }
   ],
   "source": [
    "#Répartion par mois\n",
    "plot = a.plot.pie(y='Month', figsize=(5, 5),autopct='%1.1f%%')"
   ]
  },
  {
   "cell_type": "markdown",
   "metadata": {},
   "source": [
    "Donc notre base de données répresente 8 mois différents de mars à octobre. Ce graphique nous montre la répartition des transactions en fonction du mois. Le mois qui enregistre le plus de transactions est le mois de juillet. A contrario les mois qui ont le moins d'activité est le mois et mars suivit de près par octobre, ce qui s'explique nottament par le fait que nous n'avons pas les transactions sur le mois complet.\n",
    "\n",
    "La première étape d'analyse de la base est fini. Nous allons pouvoir passer à la création de nos bases de test et d'entrainement.\n",
    "\n",
    "## 3. Création des ensembles de données\n",
    "\n",
    "L'objectif ici est de creer notre base d'apprentissage et de test en fonction de la date de la transaction. Puis à partir de la base d'apprentissage nous créerons deux sous-ensembles. Un ensemble d'entrainement et un ensemble de validation.\n",
    "\n",
    "### 3.1. Ensembles d'apprentissage et de test\n",
    "\n",
    "- Notre base d'apprentissage comprendra les transactions ayant eu lieu entre le \"2016-03-21\" et le \"2016-09-19\". \n",
    "- Notre base de test les transactions ayant eu lieu entre le \"2016-09-20\" et le \"2016-10-19\"."
   ]
  },
  {
   "cell_type": "code",
   "execution_count": 32,
   "metadata": {},
   "outputs": [],
   "source": [
    "#Apprentissage\n",
    "Apprenti = df.loc[df['DAteTrAnsAction'] < '2016-09-20'] \n",
    "#Test\n",
    "Test = df.loc[df['DAteTrAnsAction'] >= '2016-09-20'] "
   ]
  },
  {
   "cell_type": "markdown",
   "metadata": {},
   "source": [
    "Une fois notre base divisé en deux ensembles. On créé notre ensemble de variables explicatives et notre variable cible. \n",
    "\n",
    "\n",
    "Nous allons garder seulement les variables qui nous semble les plus utiles. Nous avons donc décidés d'enlever les variables d'identifiants, la variable de date ainsi que l'heure des transactions. \n",
    "\n",
    "\n",
    "Nous regroupons ces variables dans une base nommée \"training_features\" pour la base d'apprentissage et \"test_features\" pour le test. Dans une base \"training_target\" et \"test_target\" nous mettons notre variable cible qui représente la classe de la transaction (FlAgImpAye). "
   ]
  },
  {
   "cell_type": "code",
   "execution_count": 33,
   "metadata": {},
   "outputs": [],
   "source": [
    "#Apprentissage\n",
    "#Variables explicatives\n",
    "training_features= Apprenti.drop(Apprenti.columns[[0, 1,3,21,22,23]], axis=1) \n",
    "#Variables cible\n",
    "training_target = Apprenti['FlAgImpAye']"
   ]
  },
  {
   "cell_type": "code",
   "execution_count": 34,
   "metadata": {},
   "outputs": [],
   "source": [
    "#Test\n",
    "#Variables explicatives\n",
    "test_features= Test.drop(Apprenti.columns[[0, 1, 3,21,22,23]], axis=1) \n",
    "#Variable cible\n",
    "test_target = Test['FlAgImpAye']"
   ]
  },
  {
   "cell_type": "markdown",
   "metadata": {},
   "source": [
    "### 3.2. Ensembles d'entrainement et de validation\n",
    "A partir de notre base d'apprentissage on va pouvoir créer notre ensemble d'entrainement et notre ensemble de validation. \n",
    "On a dans un premier temps décidé de répartir les données en 70% pour l'entrainement et 30% pour le test. La répartition était donc la suivante : \n",
    "- Transaction du 2016-03-21 au 2016-07-22 pour l'ensemble d'entrainement. \n",
    "- Transaction du 2016-07-22 au 2016-09-19 pour la base de validation.\n",
    "Avec cette répartition nous obtenions au maximun une mesure f1 de 13% lors de la phase de validation.\n",
    "\n",
    "\n",
    "Nous avons cherché à améliorer cette mesure en modifiant notre manière de diviser la base. Nous sommes donc partis sur une répartition en fonction de la date. En prenant 1 mois de transactions pour l'ensemble de validation et le reste pour l'ensemble d'entrainement, soit 5 mois. Cette répartition permet d'obtenir de meilleurs résultats nous avons donc choisit cette option et nous obtenons la répartition suivantes : \n",
    "- Transaction du 2016-03-21 au 2016-08-19 pour l'ensemble d'entrainement. \n",
    "- Transaction du 2016-08-20 au 2016-09-19 pour la base de validation."
   ]
  },
  {
   "cell_type": "code",
   "execution_count": 37,
   "metadata": {},
   "outputs": [],
   "source": [
    "#Entrainement\n",
    "entrainement = Apprenti.loc[df['DAteTrAnsAction'] < '2016-08-20'] \n",
    "#Validation\n",
    "validation = Apprenti.loc[df['DAteTrAnsAction'] >= '2016-08-20'] "
   ]
  },
  {
   "cell_type": "code",
   "execution_count": 38,
   "metadata": {},
   "outputs": [],
   "source": [
    "x_train= entrainement.drop(Apprenti.columns[[0, 1, 3,21,22,23]], axis=1) \n",
    "y_train = entrainement['FlAgImpAye']\n",
    "x_val= validation.drop(Apprenti.columns[[0, 1, 3,21,22,23]], axis=1) \n",
    "y_val = validation['FlAgImpAye']"
   ]
  },
  {
   "cell_type": "code",
   "execution_count": 39,
   "metadata": {},
   "outputs": [
    {
     "name": "stdout",
     "output_type": "stream",
     "text": [
      "0    1673087\n",
      "1       4454\n",
      "Name: FlAgImpAye, dtype: int64\n",
      "(1677541, 18)\n"
     ]
    }
   ],
   "source": [
    "#information sur train\n",
    "print(pd.value_counts(y_train))\n",
    "print(np.shape(x_train))"
   ]
  },
  {
   "cell_type": "markdown",
   "metadata": {},
   "source": [
    "## 4. Mesure d'évaluation le F1 Score \n",
    "\n",
    "En classification plusieurs mesures peuvent être utiliser pour evaluer la qualité d'un modèle. Par exemple la precision, le rappel, la courbe ROC, l'accuracy ou bien la f-mesure. Toutes ces mesures ne sont pas forcement adaptées à notre problème. \n",
    "\n",
    "Par exemple l'accuracy n'est pas une indicateur fiable lorsque nous somme dans un environnement déséquilibré. En effet avec un jeu de données où plus de 99% de nos données appartienne à la première classe si notre algorithme prédit toutes nos transaction comme appartenant à la première classe nous aurons une accuracy très élevée mais pourtant le modèle sera mauvais car il predira toujours la même classe.\n",
    "\n",
    "La précision permet de calculer la proportion de predictions positives qui sont réellement positives. Permet ainsi de réduire l'erreur de prédiction des transactions frauduleuses.  Le rappel lui nous donne la proportion de données positives qui ont été correctement predites. C'est à dire la part des fraudes qui ont été détecter. \n",
    "\n",
    "Dans notre problème il est important de detecter le maximum de fraudes mais il est également important de ne pas prédire des fausses fraudes. En effet accusé un client de fraudes alors que ce n'est pas la cas peut avoir des conséquences. Ainsi pour maximiser la prédiction de fraudes et minimiser l'erreur de prédiction, une mesure existe, c'est la f-mesure.  L'objectif va être de maximiser celle-ci pour obtenir le meilleur modèle.\n",
    "\n",
    "D'ailleurs, nous pouvons utiliser les measures suivant pour les bases de données imbalance:\n",
    "\n",
    "- Recall\n",
    "- Precision\n",
    "- F1-score\n",
    "- Area Under ROC curve.\n"
   ]
  },
  {
   "cell_type": "markdown",
   "metadata": {},
   "source": [
    "Formulaire:\n",
    "- Recall = TP / (TP + FN)\n",
    "- Precision = TP / (TP + FP)\n",
    "- F1-Score = 2*P*R / (P + R) here P for Precision, R for Recall"
   ]
  },
  {
   "cell_type": "markdown",
   "metadata": {},
   "source": [
    "## 5. SMOTE OverSampling\n",
    "\n",
    "Pour réssoudre le problème de classes déséquilibrés nous allons procéder à un ré échantillonage. Il éxiste deux catégories d'échantillonnages : les sous-echantillonnage (undersampling) qui consiste à supprimer des données de la classe majoritaire et sur-echantillonnage (oversampling) qui lui va rajouter des données dans la classe minoritaire. \n",
    "Comme nous l'avons vu la classe majoritaire contient plus de 99% des données. Réaliser un undersampling supprimerai alors presque la totalité des données. Ainsi pour garder le maximum de d'information, nous avons décidé de réaliser un oversampling avec la méthode SMOTE.\n",
    "\n",
    "Le principe de SMOTE est de générer de nouveaux échantillons en combinant les données de la classe minoritaire avec celles de leurs voisins proches. Techniquement, on peut décomposer SMOTE en 5 étapes :\n",
    "\n",
    "- Choix d’un vecteur caractéristique de notre classe minoritaire que nous appellerons vc ;\n",
    "\n",
    "- Sélection des k-voisins les plus proches (k=5 par défaut) et choix de l’un d’eux au hasard que l’on appellera pv ;\n",
    "\n",
    "- Calcul de la différence pour chaque valeur caractéristique (feature value) i, vc[i]-pv[i] et multiplication de celle-ci par un nombre aléatoire entre [0,1];\n",
    "\n",
    "- Ajout du résultat précédent à la valeur de la caractéristique i du vecteur vc afin d’obtenir un nouveau point (une nouvelle donnée) dans l’espace des caractéristiques ;\n",
    "\n",
    "- Répétition de ces opérations pour chaque point de données de la classe minoritaire ;\n",
    "\n",
    "https://beckernick.github.io/oversampling-modeling/"
   ]
  },
  {
   "cell_type": "code",
   "execution_count": 41,
   "metadata": {},
   "outputs": [],
   "source": [
    "#Réalisation du SMOTE\n",
    "sm = SMOTE(random_state=12)\n",
    "x_train_res, y_train_res = sm.fit_sample(x_train, y_train)"
   ]
  },
  {
   "cell_type": "code",
   "execution_count": 42,
   "metadata": {},
   "outputs": [
    {
     "name": "stdout",
     "output_type": "stream",
     "text": [
      "(3346174, 18)\n",
      "1    0.5\n",
      "0    0.5\n",
      "Name: FlAgImpAye, dtype: float64\n"
     ]
    }
   ],
   "source": [
    "#Vérification\n",
    "print(np.shape(x_train_res))\n",
    "print(pd.value_counts(y_train_res)/len(y_train_res))"
   ]
  },
  {
   "cell_type": "markdown",
   "metadata": {},
   "source": [
    "L'algorithme smote est exécuter sur l'algorithme d'entrainement. Notre variable cible est à présent équilibré, nous avons bien 50/50 dans chaque classe et plus de 3 millions de données."
   ]
  },
  {
   "cell_type": "markdown",
   "metadata": {},
   "source": [
    "# 6. ACP"
   ]
  },
  {
   "cell_type": "markdown",
   "metadata": {},
   "source": [
    "Sans SMOTE"
   ]
  },
  {
   "cell_type": "code",
   "execution_count": 43,
   "metadata": {
    "scrolled": true
   },
   "outputs": [
    {
     "name": "stdout",
     "output_type": "stream",
     "text": [
      "0    0.997345\n",
      "1    0.002655\n",
      "Name: FlAgImpAye, dtype: float64\n"
     ]
    }
   ],
   "source": [
    "print(pd.value_counts(y_train)/len(y_train))"
   ]
  },
  {
   "cell_type": "code",
   "execution_count": 44,
   "metadata": {},
   "outputs": [
    {
     "data": {
      "text/plain": [
       "Text(0.5, 0.98, 'Premier plan factoriel')"
      ]
     },
     "execution_count": 44,
     "metadata": {},
     "output_type": "execute_result"
    },
    {
     "data": {
      "image/png": "[encoded data removed]",
      "text/plain": [
       "<Figure size 402.375x360 with 1 Axes>"
      ]
     },
     "metadata": {
      "needs_background": "light"
     },
     "output_type": "display_data"
    }
   ],
   "source": [
    "pca = PCA(n_components=2)\n",
    "sc = StandardScaler() \n",
    "X_normalized = sc.fit_transform(x_train)  \n",
    "components = pca.fit_transform(X_normalized)\n",
    "# Transformation en DataFrame pandas\n",
    "fraud_pca_df = pd.DataFrame({\n",
    "    \"Dim1\" : components[:,0], \n",
    "    \"Dim2\" : components[:,1], \n",
    "    \"Flag\" : y_train\n",
    "})\n",
    "g_pca = sns.lmplot(\"Dim1\", \"Dim2\", hue = \"Flag\", data = fraud_pca_df,fit_reg = False)\n",
    "g_pca.set(xlabel = \"Dimension 1\", ylabel = \"Dimension 2\")\n",
    "g_pca.fig.suptitle(\"Premier plan factoriel\")"
   ]
  },
  {
   "cell_type": "markdown",
   "metadata": {},
   "source": [
    "Les données ne sont pas très clair à distiguer les classes à cause de nombreux classes. Nous pouvons voir qu'il y a beaucoup plus de classe 0 que classe 1. Les classe sont assez concentré mais aussi mélangé de l'un à l'autre"
   ]
  },
  {
   "cell_type": "markdown",
   "metadata": {},
   "source": [
    "Avec SMOTE:"
   ]
  },
  {
   "cell_type": "code",
   "execution_count": 45,
   "metadata": {},
   "outputs": [
    {
     "data": {
      "text/plain": [
       "Text(0.5, 0.98, 'Premier plan factoriel')"
      ]
     },
     "execution_count": 45,
     "metadata": {},
     "output_type": "execute_result"
    },
    {
     "data": {
      "image/png": "[encoded data removed]",
      "text/plain": [
       "<Figure size 402.375x360 with 1 Axes>"
      ]
     },
     "metadata": {
      "needs_background": "light"
     },
     "output_type": "display_data"
    }
   ],
   "source": [
    "pca = PCA(n_components=2)\n",
    "sc = StandardScaler() \n",
    "X_normalized_res = sc.fit_transform(x_train_res)  \n",
    "components_res = pca.fit_transform(X_normalized_res) \n",
    "# Transformation en DataFrame pandas\n",
    "fraud_pca_df_res = pd.DataFrame({\n",
    "    \"Dim1\" : components_res[:,0], \n",
    "    \"Dim2\" : components_res[:,1], \n",
    "    \"Flag\" : y_train_res\n",
    "})\n",
    "g_pca_res = sns.lmplot(\"Dim1\", \"Dim2\", hue = \"Flag\", data = fraud_pca_df_res, fit_reg = False)\n",
    "g_pca_res.set(xlabel = \"Dimension 1\", ylabel = \"Dimension 2\")\n",
    "g_pca_res.fig.suptitle(\"Premier plan factoriel\")"
   ]
  },
  {
   "cell_type": "markdown",
   "metadata": {},
   "source": [
    "Les classes sont encore dur à observer."
   ]
  },
  {
   "cell_type": "markdown",
   "metadata": {},
   "source": [
    "## 7. Algorithmes\n",
    "\n",
    "Now we can build models using different machine learning algorithms. Before creating a model, we need to find the type of problem statement, which means is supervised or unsupervised algorithms. \n",
    "\n",
    "Our problem statement falls under the supervised learning problem means the dataset has a target value for each row or sample in the dataset. \n",
    "\n",
    "Supervised machine learning algorithms are two types \n",
    "\n",
    "Classification Algorithms\n",
    "Regression Algorithms\n",
    "Our problem statement belongs to what type of algorithms? \n",
    "\n",
    "Yeah, exactly.\n",
    "\n",
    "Credit card fraud detection is a classification problem. Target variable values of Classification problems have integer(0,1) or categorical values(fraud, non-fraud). The target variable of our dataset ‘Class’ has only two labels - 0 (non-fraudulent) and 1 (fraudulent).\n",
    "\n",
    "\n",
    "Pour résoudre notre problème nous avons décidé de tester plusieurs modèles de prédiction afin de trouver le meilleur qui maximisera notre valeur de f1.\n",
    "\n",
    "Les algorithmes que nous allons appliquer sont :\n",
    "\n",
    "- La forêt aléatoire (random forest)\n",
    "- Les K plus proche voisins (k Nearest Neighbor)\n",
    "- L'arbre de décision (Decision Tree)\n",
    "- L'analyse discriminent linéaire\n",
    "- Des modèles ensembliste\n",
    "- Xgboost\n",
    "- Modèle de one class classification : isolation forest\n",
    "    \n",
    "Pour chacun des algorithmes nous avons tester plusieurs valeurs pour les hyper-paramètres afin de trouver les meilleurs."
   ]
  },
  {
   "cell_type": "markdown",
   "metadata": {},
   "source": [
    "### 7.1 Random Forest\n",
    "\n",
    "Le premier algorithme que nous avons tester est le random forest appelé en français la forêt aléatoire. Il consiste à assembler plusieurs arbres de décision.\n",
    "Cette algorithme donne la possibilité d'affecter un poid en fonction de la classe. Nous allons donc tester la forêt aléatoire en utilisant les données ré échantillonné puis les données déséquilibrés en rajoutant un poids.\n",
    "\n",
    "#### 7.1.1 Avec SMOTE\n"
   ]
  },
  {
   "cell_type": "code",
   "execution_count": 46,
   "metadata": {
    "scrolled": true
   },
   "outputs": [
    {
     "name": "stdout",
     "output_type": "stream",
     "text": [
      "temps de calcul :  23.194759583473207\n"
     ]
    }
   ],
   "source": [
    "pipeRFS = make_pipeline(StandardScaler(), RandomForestClassifier(n_estimators=60, random_state=12, bootstrap=True, criterion='entropy', max_depth=40))\n",
    "start = time()\n",
    "pipeRFS.fit(x_train_res, y_train_res) \n",
    "end = time()\n",
    "print(\"temps de calcul : \",((end-start)/60))"
   ]
  },
  {
   "cell_type": "code",
   "execution_count": 61,
   "metadata": {
    "scrolled": false
   },
   "outputs": [
    {
     "name": "stdout",
     "output_type": "stream",
     "text": [
      "              precision    recall  f1-score   support\n",
      "\n",
      "           0       1.00      1.00      1.00    288737\n",
      "           1       0.22      0.02      0.04       948\n",
      "\n",
      "    accuracy                           1.00    289685\n",
      "   macro avg       0.61      0.51      0.52    289685\n",
      "weighted avg       0.99      1.00      1.00    289685\n",
      "\n",
      "Validation score f1: 0.040307\n"
     ]
    }
   ],
   "source": [
    "f1_rfas = round(f1_score(y_val, pipeRFS.predict(x_val)),6)\n",
    "print(metrics.classification_report(y_val, pipeRFS.predict(x_val)))\n",
    "print (\"Validation score f1:\",f1_rfas)"
   ]
  },
  {
   "cell_type": "code",
   "execution_count": 62,
   "metadata": {},
   "outputs": [
    {
     "name": "stdout",
     "output_type": "stream",
     "text": [
      "              precision    recall  f1-score   support\n",
      "\n",
      "           0       1.00      1.00      1.00    263288\n",
      "           1       0.16      0.02      0.03       855\n",
      "\n",
      "    accuracy                           1.00    264143\n",
      "   macro avg       0.58      0.51      0.51    264143\n",
      "weighted avg       0.99      1.00      1.00    264143\n",
      "\n",
      "Test score f1: 0.027837\n"
     ]
    }
   ],
   "source": [
    "#ajout des resultats dans le dico\n",
    "test_rfas = round(f1_score(test_target, pipeRFS.predict(test_features)),6)\n",
    "print(metrics.classification_report(test_target, pipeRFS.predict(test_features)))\n",
    "print (\"Test score f1:\",test_rfas)"
   ]
  },
  {
   "cell_type": "markdown",
   "metadata": {},
   "source": [
    "Le f1 maximum que l'on a réussi à avoir avec cette algorithme est de 0.06, c'est un score pas très élevé, nous allons essayer de trouver un meilleur modèle."
   ]
  },
  {
   "cell_type": "code",
   "execution_count": 64,
   "metadata": {},
   "outputs": [
    {
     "name": "stdout",
     "output_type": "stream",
     "text": [
      "{'RandomForestSMOTE': 0.040307}\n"
     ]
    }
   ],
   "source": [
    "#Ajout dictionnaire\n",
    "test_result = {}\n",
    "valid_result = {}\n",
    "test_result['RandomForestSMOTE'] = test_rfas\n",
    "valid_result['RandomForestSMOTE'] = f1_rfas\n",
    "print(test_result)\n",
    "print(valid_result)"
   ]
  },
  {
   "cell_type": "markdown",
   "metadata": {},
   "source": [
    "#### 5.1.2 Sans SMOTE\n",
    "\n",
    "Ici, nous utilison un random forest sans utiliser les données rééquilibrées avec un smote. On va accorder un poid en fonction de la classe. Pour ce faire on utilise l'option \"class_weight\" dans notre algortihme. La classe négative, non-fraude (0) est 370 fois plus présente que la classe fraude (1), donc nous allons mettre l'option \"class_weight={0:1, 1:370}\""
   ]
  },
  {
   "cell_type": "code",
   "execution_count": 65,
   "metadata": {},
   "outputs": [
    {
     "name": "stdout",
     "output_type": "stream",
     "text": [
      "temps de calcul 22.56455\n"
     ]
    }
   ],
   "source": [
    "startRF = time()\n",
    "RDbest1 = RandomForestClassifier(bootstrap=True, class_weight={0:1, 1:370}, criterion='entropy', max_depth=100,min_samples_leaf=20,\n",
    "n_estimators=500, n_jobs=-1, random_state=5)\n",
    "RDbest1.fit(x_train, y_train) \n",
    "doneRF = time()\n",
    "\n",
    "tpsRF = round(doneRF - startRF,3)\n",
    "print(\"temps de calcul\" , tpsRF/60)"
   ]
  },
  {
   "cell_type": "markdown",
   "metadata": {},
   "source": [
    "##### Validation :"
   ]
  },
  {
   "cell_type": "code",
   "execution_count": 67,
   "metadata": {},
   "outputs": [
    {
     "data": {
      "text/plain": [
       "<matplotlib.axes._subplots.AxesSubplot at 0x186937fc850>"
      ]
     },
     "execution_count": 67,
     "metadata": {},
     "output_type": "execute_result"
    },
    {
     "data": {
      "image/png": "[encoded data removed]",
      "text/plain": [
       "<Figure size 432x288 with 2 Axes>"
      ]
     },
     "metadata": {},
     "output_type": "display_data"
    }
   ],
   "source": [
    "#Matrice de confusion\n",
    "RDbest_matrix_val = confusion_matrix(y_val, RDbest1.predict(x_val))\n",
    "group_names = ['True Neg','False Pos','False Neg','True Pos']\n",
    "group_counts = [\"{0:0.0f}\".format(value) for value in\n",
    "                RDbest_matrix_val.flatten()]\n",
    "group_percentages = [\"{0:.2%}\".format(value) for value in\n",
    "                     RDbest_matrix_val.flatten()/np.sum(RDbest_matrix_val)]\n",
    "labels = [f\"{v1}\\n{v2}\\n{v3}\" for v1, v2, v3 in\n",
    "          zip(group_names,group_counts,group_percentages)]\n",
    "labels = np.asarray(labels).reshape(2,2)\n",
    "sns.heatmap(RDbest_matrix_val, annot=labels, fmt='', cmap='Blues')"
   ]
  },
  {
   "cell_type": "code",
   "execution_count": 68,
   "metadata": {
    "scrolled": true
   },
   "outputs": [
    {
     "name": "stdout",
     "output_type": "stream",
     "text": [
      "              precision    recall  f1-score   support\n",
      "\n",
      "           0       1.00      1.00      1.00    288737\n",
      "           1       0.16      0.16      0.16       948\n",
      "\n",
      "    accuracy                           0.99    289685\n",
      "   macro avg       0.58      0.58      0.58    289685\n",
      "weighted avg       0.99      0.99      0.99    289685\n",
      "\n",
      "Validation score f1: 0.157978\n"
     ]
    }
   ],
   "source": [
    "#Métriques d'évaluation\n",
    "f1_rfss = round(f1_score(y_val, RDbest1.predict(x_val)),6)\n",
    "print(metrics.classification_report(y_val, RDbest1.predict(x_val)))\n",
    "print(\"Validation score f1:\", f1_rfss )"
   ]
  },
  {
   "cell_type": "markdown",
   "metadata": {},
   "source": [
    "Le score maximum que nous avons réussi à obtenir est de 16% ce qui est un bon score pour ce type de classification, c'est 2 fois plus qu'avec le modèle précédent. Voyons à présent si il est aussi bon sur l'échantillon de test. "
   ]
  },
  {
   "cell_type": "markdown",
   "metadata": {},
   "source": [
    "##### Sur test :"
   ]
  },
  {
   "cell_type": "code",
   "execution_count": 69,
   "metadata": {},
   "outputs": [
    {
     "name": "stdout",
     "output_type": "stream",
     "text": [
      "              precision    recall  f1-score   support\n",
      "\n",
      "           0       1.00      1.00      1.00    263288\n",
      "           1       0.15      0.14      0.15       855\n",
      "\n",
      "    accuracy                           0.99    264143\n",
      "   macro avg       0.58      0.57      0.57    264143\n",
      "weighted avg       0.99      0.99      0.99    264143\n",
      "\n",
      "Score f1: 0.14661\n"
     ]
    }
   ],
   "source": [
    "test_rfss = round(f1_score(test_target,RDbest1.predict(test_features) ),6)\n",
    "print(metrics.classification_report(test_target, RDbest1.predict(test_features)))\n",
    "print(\"Test score f1:\",test_rfss)"
   ]
  },
  {
   "cell_type": "code",
   "execution_count": 64,
   "metadata": {},
   "outputs": [
    {
     "name": "stdout",
     "output_type": "stream",
     "text": [
      "{'RandomForestSMOTE': 0.040307}\n"
     ]
    }
   ],
   "source": [
    "#Ajout dictionnaire\n",
    "test_result['RandomForestSsSMOTE'] = test_rfss\n",
    "valid_result['RandomForestSsSMOTE'] = f1_rfss\n",
    "print(test_result)\n",
    "print(valid_result)"
   ]
  },
  {
   "cell_type": "markdown",
   "metadata": {},
   "source": [
    "### 7.2 SMOTE et K Nearest Neighbor"
   ]
  },
  {
   "cell_type": "code",
   "execution_count": 25,
   "metadata": {},
   "outputs": [
    {
     "name": "stdout",
     "output_type": "stream",
     "text": [
      "108.8997655471166\n"
     ]
    }
   ],
   "source": [
    "pipeKNN = make_pipeline(StandardScaler(), KNeighborsClassifier())\n",
    "startKNN = time()\n",
    "pipeKNN.fit(x_train_res, y_train_res)  \n",
    "endKNN = time()\n",
    "doneKNN= (endKNN-startKNN)/60\n",
    "print(\"temps d'execution\",doneKNN)"
   ]
  },
  {
   "cell_type": "code",
   "execution_count": 26,
   "metadata": {},
   "outputs": [
    {
     "name": "stdout",
     "output_type": "stream",
     "text": [
      "              precision    recall  f1-score   support\n",
      "\n",
      "           0       1.00      0.95      0.97    288737\n",
      "           1       0.01      0.24      0.03       948\n",
      "\n",
      "    accuracy                           0.94    289685\n",
      "   macro avg       0.51      0.59      0.50    289685\n",
      "weighted avg       0.99      0.94      0.97    289685\n",
      "\n",
      "0.026514258779165686\n"
     ]
    }
   ],
   "source": [
    "#Validation\n",
    "f1_knn = round(f1_score(y_val, pipeKNN.predict(x_val)),6)\n",
    "print(metrics.classification_report(y_val, pipeKNN.predict(x_val)))\n",
    "print(\"Validation score f1 : \", f1_knn)"
   ]
  },
  {
   "cell_type": "code",
   "execution_count": 26,
   "metadata": {},
   "outputs": [
    {
     "name": "stdout",
     "output_type": "stream",
     "text": [
      "              precision    recall  f1-score   support\n",
      "\n",
      "           0       1.00      0.95      0.97    288737\n",
      "           1       0.01      0.24      0.03       948\n",
      "\n",
      "    accuracy                           0.94    289685\n",
      "   macro avg       0.51      0.59      0.50    289685\n",
      "weighted avg       0.99      0.94      0.97    289685\n",
      "\n",
      "0.026514258779165686\n"
     ]
    }
   ],
   "source": [
    "#Test\n",
    "test_knn = round(f1_score(test_target,pipeKNN.predict(test_features)),6)\n",
    "print(metrics.classification_report(test_target,pipeKNN.predict(test_features)))\n",
    "print(\"Test score f1 : \", test_knn)"
   ]
  },
  {
   "cell_type": "code",
   "execution_count": 70,
   "metadata": {},
   "outputs": [
    {
     "name": "stdout",
     "output_type": "stream",
     "text": [
      "{'RandomForestSMOTE': 0.040307, 'RandomForestSsSMOTE': 0.157978}\n"
     ]
    }
   ],
   "source": [
    "#Ajout dictionnaire\n",
    "test_result['KNN'] = test_knn\n",
    "valid_result['KNN'] = f1_knn\n",
    "print(test_result)\n",
    "print(valid_result)"
   ]
  },
  {
   "cell_type": "markdown",
   "metadata": {},
   "source": [
    "### 7.3 Decision Tree\n",
    "\n",
    "Le second algorithme de classification que nous avons utilisé est l’arbre de classification. Il permet de prédire une variable cible discrète. Le principe est le même celui de l’arbre de décision, et fonctionne comme l’arbre de régression. L’arbre est construit grâce à un partitionnement récursif des données. Le principe est alors celui de séparer les données via des partitions, qui vont elles-mêmes se séparer à leur tour à mesure que l’on va descendre en profondeur dans l’arbre. Les avantages de cette méthode sont les mêmes que ceux que l’arbre de régression, les résultats obtenus par cette méthode sont très satisfaisants quand on les compare avec le rapide temps de calcul et la faible complexité de l’algorithme."
   ]
  },
  {
   "cell_type": "code",
   "execution_count": 53,
   "metadata": {},
   "outputs": [],
   "source": [
    "pipelineDT = make_pipeline(StandardScaler(), DecisionTreeClassifier())"
   ]
  },
  {
   "cell_type": "code",
   "execution_count": 52,
   "metadata": {},
   "outputs": [],
   "source": [
    "paramsDT = {\"decisiontreeclassifier__max_depth\": [3,6,9,12, None],\n",
    "              \"decisiontreeclassifier__min_samples_leaf\": np.arange(1,9,1),\n",
    "              \"decisiontreeclassifier__criterion\": [\"gini\", \"entropy\"]}\n",
    "#params = {'decisiontreeclassifier__max_depth': [3, None]}"
   ]
  },
  {
   "cell_type": "code",
   "execution_count": 63,
   "metadata": {},
   "outputs": [
    {
     "data": {
      "text/plain": [
       "['decisiontreeclassifier',\n",
       " 'decisiontreeclassifier__ccp_alpha',\n",
       " 'decisiontreeclassifier__class_weight',\n",
       " 'decisiontreeclassifier__criterion',\n",
       " 'decisiontreeclassifier__max_depth',\n",
       " 'decisiontreeclassifier__max_features',\n",
       " 'decisiontreeclassifier__max_leaf_nodes',\n",
       " 'decisiontreeclassifier__min_impurity_decrease',\n",
       " 'decisiontreeclassifier__min_impurity_split',\n",
       " 'decisiontreeclassifier__min_samples_leaf',\n",
       " 'decisiontreeclassifier__min_samples_split',\n",
       " 'decisiontreeclassifier__min_weight_fraction_leaf',\n",
       " 'decisiontreeclassifier__presort',\n",
       " 'decisiontreeclassifier__random_state',\n",
       " 'decisiontreeclassifier__splitter',\n",
       " 'memory',\n",
       " 'standardscaler',\n",
       " 'standardscaler__copy',\n",
       " 'standardscaler__with_mean',\n",
       " 'standardscaler__with_std',\n",
       " 'steps',\n",
       " 'verbose']"
      ]
     },
     "execution_count": 63,
     "metadata": {},
     "output_type": "execute_result"
    }
   ],
   "source": [
    "sorted(pipeline_steps.get_params().keys())"
   ]
  },
  {
   "cell_type": "code",
   "execution_count": 65,
   "metadata": {
    "scrolled": true
   },
   "outputs": [
    {
     "data": {
      "text/plain": [
       "GridSearchCV(estimator=Pipeline(steps=[('standardscaler', StandardScaler()),\n",
       "                                       ('decisiontreeclassifier',\n",
       "                                        DecisionTreeClassifier())]),\n",
       "             n_jobs=-1,\n",
       "             param_grid={'decisiontreeclassifier__criterion': ['gini',\n",
       "                                                               'entropy'],\n",
       "                         'decisiontreeclassifier__max_depth': [3, 6, 9, 12,\n",
       "                                                               None],\n",
       "                         'decisiontreeclassifier__min_samples_leaf': array([1, 2, 3, 4, 5, 6, 7, 8])},\n",
       "             scoring='f1_micro')"
      ]
     },
     "execution_count": 65,
     "metadata": {},
     "output_type": "execute_result"
    }
   ],
   "source": [
    "gridsearchDT = GridSearchCV(estimator=pipelineDT,\n",
    "                       param_grid=paramsDT,\n",
    "                       n_jobs=-1,\n",
    "                       scoring='f1_micro')\n",
    "gridsearchDT.fit(x_train_res, y_train_res)"
   ]
  },
  {
   "cell_type": "code",
   "execution_count": 66,
   "metadata": {},
   "outputs": [
    {
     "data": {
      "text/plain": [
       "{'memory': None,\n",
       " 'steps': [('standardscaler', StandardScaler()),\n",
       "  ('decisiontreeclassifier', DecisionTreeClassifier(criterion='entropy'))],\n",
       " 'verbose': False,\n",
       " 'standardscaler': StandardScaler(),\n",
       " 'decisiontreeclassifier': DecisionTreeClassifier(criterion='entropy'),\n",
       " 'standardscaler__copy': True,\n",
       " 'standardscaler__with_mean': True,\n",
       " 'standardscaler__with_std': True,\n",
       " 'decisiontreeclassifier__ccp_alpha': 0.0,\n",
       " 'decisiontreeclassifier__class_weight': None,\n",
       " 'decisiontreeclassifier__criterion': 'entropy',\n",
       " 'decisiontreeclassifier__max_depth': None,\n",
       " 'decisiontreeclassifier__max_features': None,\n",
       " 'decisiontreeclassifier__max_leaf_nodes': None,\n",
       " 'decisiontreeclassifier__min_impurity_decrease': 0.0,\n",
       " 'decisiontreeclassifier__min_impurity_split': None,\n",
       " 'decisiontreeclassifier__min_samples_leaf': 1,\n",
       " 'decisiontreeclassifier__min_samples_split': 2,\n",
       " 'decisiontreeclassifier__min_weight_fraction_leaf': 0.0,\n",
       " 'decisiontreeclassifier__presort': 'deprecated',\n",
       " 'decisiontreeclassifier__random_state': None,\n",
       " 'decisiontreeclassifier__splitter': 'best'}"
      ]
     },
     "execution_count": 66,
     "metadata": {},
     "output_type": "execute_result"
    }
   ],
   "source": [
    "gridsearchDT.best_estimator_.get_params()"
   ]
  },
  {
   "cell_type": "code",
   "execution_count": 67,
   "metadata": {},
   "outputs": [
    {
     "name": "stdout",
     "output_type": "stream",
     "text": [
      "Validation Results\n",
      "0.9832674763796072\n",
      "0.10027700831024931\n",
      "0.03536192243821432\n",
      "\n",
      "Test Results\n",
      "0.9846446811007674\n",
      "0.10175438596491228\n",
      "0.04113475177304965\n"
     ]
    }
   ],
   "source": [
    "f1_dt = round(f1_score(y_val, gridsearchDT.predict(x_val)),6)\n",
    "test_dt = round(f1_score(test_target, gridsearchDT.predict(test_features)),6)\n",
    "print ('Validation Results')\n",
    "print (gridsearchDT.score(x_val, y_val))\n",
    "print (recall_score(y_val, gridsearchDT.predict(x_val)))\n",
    "print (f1_dt)\n",
    "print ('\\nTest Results')\n",
    "print (gridsearchDT.score(test_features, test_target))\n",
    "print (recall_score(test_target, gridsearchDT.predict(test_features)))\n",
    "print (test_dt)"
   ]
  },
  {
   "cell_type": "code",
   "execution_count": 70,
   "metadata": {},
   "outputs": [
    {
     "name": "stdout",
     "output_type": "stream",
     "text": [
      "{'RandomForestSMOTE': 0.040307, 'RandomForestSsSMOTE': 0.157978}\n"
     ]
    }
   ],
   "source": [
    "test_result['DecisionTree'] = test_dt\n",
    "valid_result['DecisionTree'] = f1_dt\n",
    "print(test_result)\n",
    "print(valid_result)"
   ]
  },
  {
   "cell_type": "markdown",
   "metadata": {},
   "source": [
    "### 7.4 Analyse discriminante linéaire\n",
    "\n",
    "Nous avons décidé de présenter les résultats de l’analyse discriminante linéaire. En effet c’est un modèle relativement simple à mettre en œuvre dont les résultats sont facilement interprétable. De même, le temps de calcul est plutôt rapide quel que soit la taille des données et est stable sur des petits échantillons. Pour appliquer cette méthode, deux hyper-paramètres peuvent être utilisés le « solver » et le «shrinkage». Le premier permet de changer la méthode de calcul et le second permet une régularisation lorsque la dimensionnalité augmente."
   ]
  },
  {
   "cell_type": "code",
   "execution_count": 47,
   "metadata": {},
   "outputs": [],
   "source": [
    "#Création de pipeline\n",
    "pipelineADL = make_pipeline(StandardScaler(),LinearDiscriminantAnalysis())"
   ]
  },
  {
   "cell_type": "code",
   "execution_count": 143,
   "metadata": {},
   "outputs": [
    {
     "data": {
      "text/plain": [
       "['lineardiscriminantanalysis',\n",
       " 'lineardiscriminantanalysis__n_components',\n",
       " 'lineardiscriminantanalysis__priors',\n",
       " 'lineardiscriminantanalysis__shrinkage',\n",
       " 'lineardiscriminantanalysis__solver',\n",
       " 'lineardiscriminantanalysis__store_covariance',\n",
       " 'lineardiscriminantanalysis__tol',\n",
       " 'memory',\n",
       " 'standardscaler',\n",
       " 'standardscaler__copy',\n",
       " 'standardscaler__with_mean',\n",
       " 'standardscaler__with_std',\n",
       " 'steps',\n",
       " 'verbose']"
      ]
     },
     "execution_count": 143,
     "metadata": {},
     "output_type": "execute_result"
    }
   ],
   "source": [
    "#Liste des paramètres\n",
    "sorted(pipelineADL.get_params().keys())"
   ]
  },
  {
   "cell_type": "markdown",
   "metadata": {},
   "source": [
    "On obtient la liste des paramètres du modèle, que l'on peut essayer dans le gridsearch"
   ]
  },
  {
   "cell_type": "code",
   "execution_count": 48,
   "metadata": {},
   "outputs": [],
   "source": [
    "#Paramètres à tester\n",
    "paramsADL = {'lineardiscriminantanalysis__solver':['svd', 'lsqr','eigen'],\n",
    "             'lineardiscriminantanalysis__shrinkage':[None, 'auto'],\n",
    "             'lineardiscriminantanalysis__tol':[0.0001,0.0002,0.0003]} #Paramètres à tester"
   ]
  },
  {
   "cell_type": "code",
   "execution_count": 49,
   "metadata": {},
   "outputs": [],
   "source": [
    "tscv = TimeSeriesSplit(n_splits=5)\n",
    "startADL = time()\n",
    "#instanciation - recherche des hyperparametres optimaux\n",
    "gridsearchADL = GridSearchCV(estimator=pipelineADL,\n",
    "                       param_grid=paramsADL,\n",
    "                       n_jobs=-1,\n",
    "                       scoring='f1_micro')\n",
    "gridsearchADL.fit(x_train_res, y_train_res)\n",
    "doneADL = time()\n",
    "tpsADL = round(doneADL - startADL,3)\n",
    "print(\"Temps de calcul:\",tpsADL/60)"
   ]
  },
  {
   "cell_type": "code",
   "execution_count": 142,
   "metadata": {},
   "outputs": [
    {
     "data": {
      "text/plain": [
       "<matplotlib.axes._subplots.AxesSubplot at 0x7fe8fc19f520>"
      ]
     },
     "execution_count": 142,
     "metadata": {},
     "output_type": "execute_result"
    },
    {
     "data": {
      "image/png": "[encoded data removed]",
      "text/plain": [
       "<Figure size 432x288 with 2 Axes>"
      ]
     },
     "metadata": {
      "needs_background": "light"
     },
     "output_type": "display_data"
    }
   ],
   "source": [
    "#Validation\n",
    "#Matrice de confusion\n",
    "ADL_matrix_val = confusion_matrix(y_val, gridsearchADL.predict(x_val))\n",
    "group_names = ['True Neg','False Pos','False Neg','True Pos']\n",
    "group_counts = [\"{0:0.0f}\".format(value) for value in\n",
    "                ADL_matrix_val.flatten()]\n",
    "group_percentages = [\"{0:.2%}\".format(value) for value in\n",
    "                     ADL_matrix_val.flatten()/np.sum(ADL_matrix_val)]\n",
    "labels = [f\"{v1}\\n{v2}\\n{v3}\" for v1, v2, v3 in\n",
    "          zip(group_names,group_counts,group_percentages)]\n",
    "labels = np.asarray(labels).reshape(2,2)\n",
    "sns.heatmap(ADL_matrix_val, annot=labels, fmt='', cmap='Blues')"
   ]
  },
  {
   "cell_type": "markdown",
   "metadata": {},
   "source": [
    "Les métriques d'evaluation :"
   ]
  },
  {
   "cell_type": "code",
   "execution_count": 115,
   "metadata": {},
   "outputs": [
    {
     "name": "stdout",
     "output_type": "stream",
     "text": [
      "Validation Results\n",
      "              precision    recall  f1-score   support\n",
      "\n",
      "           0       1.00      0.76      0.86    588363\n",
      "           1       0.01      0.69      0.02      1805\n",
      "\n",
      "    accuracy                           0.76    590168\n",
      "   macro avg       0.50      0.72      0.44    590168\n",
      "weighted avg       1.00      0.76      0.86    590168\n",
      "\n"
     ]
    }
   ],
   "source": [
    "f1_adl = round(f1_score(y_val, gridsearchADL.predict(x_val)),6)\n",
    "print ('Validation Results')\n",
    "indiceADL=metrics.classification_report(y_val, gridsearchADL.predict(x_val))\n",
    "indice=report_to_df(indiceADL)\n",
    "print(indiceADL)"
   ]
  },
  {
   "cell_type": "code",
   "execution_count": 122,
   "metadata": {},
   "outputs": [],
   "source": [
    "ADLbest=gridsearchADL.best_estimator_"
   ]
  },
  {
   "cell_type": "code",
   "execution_count": 119,
   "metadata": {},
   "outputs": [
    {
     "name": "stdout",
     "output_type": "stream",
     "text": [
      "Best Penalty: None\n",
      "Best C: 0.0001\n",
      "Best solver: svd\n"
     ]
    }
   ],
   "source": [
    "#Meilleurs paramètres\n",
    "print('Best Penalty:', gridsearchADL.best_estimator_.get_params()['lineardiscriminantanalysis__shrinkage'])\n",
    "print('Best C:', gridsearchADL.best_estimator_.get_params()['lineardiscriminantanalysis__tol'])\n",
    "print('Best solver:', gridsearchADL.best_estimator_.get_params()['lineardiscriminantanalysis__solver'])"
   ]
  },
  {
   "cell_type": "code",
   "execution_count": null,
   "metadata": {},
   "outputs": [],
   "source": [
    "#Test\n",
    "test_adl = round(f1_score(test_target, gridsearchADL.predict(test_features)),6)\n",
    "print ('Validation Results')\n",
    "indiceADL=metrics.classification_report(test_target, gridsearchADL.predict(test_features))\n",
    "indice=report_to_df(indiceADL)\n",
    "print(indiceADL)"
   ]
  },
  {
   "cell_type": "code",
   "execution_count": null,
   "metadata": {},
   "outputs": [],
   "source": [
    "#Ajout dans le dico\n",
    "test_result['ADL'] = test_adl\n",
    "valid_result['ADL'] = f1_adl\n",
    "print(test_result)\n",
    "print(valid_result)"
   ]
  },
  {
   "cell_type": "markdown",
   "metadata": {},
   "source": [
    "Le F1 maximum que l'on obtient avec cette algorithme est de 0.02 en utilisant les paramètres au-dessus. Le modèle ne semble pas adapter à notre problème."
   ]
  },
  {
   "cell_type": "markdown",
   "metadata": {},
   "source": [
    "### 7.5 ADL x Random Forest ( Ensemble modeling )"
   ]
  },
  {
   "cell_type": "code",
   "execution_count": 146,
   "metadata": {},
   "outputs": [],
   "source": [
    "VotingPredictorAR = VotingClassifier(estimators =\n",
    "                           [('ADL', ADLbest), \n",
    "                            ('RD', RDbest)],\n",
    "                           voting='soft', n_jobs = 4)\n",
    "VotingPredictorAR = VotingPredictorAR.fit(x_train, y_train)"
   ]
  },
  {
   "cell_type": "code",
   "execution_count": 149,
   "metadata": {},
   "outputs": [
    {
     "name": "stdout",
     "output_type": "stream",
     "text": [
      "Validation Results\n",
      "  Class Name Précision Sensiblité    F1 Fréquence\n",
      "0          0      1.00       1.00  1.00    588363\n",
      "1          1      0.09       0.13  0.11      1805\n",
      "0.1050055617352614\n"
     ]
    }
   ],
   "source": [
    "#Validation\n",
    "f1_adlrf = round(f1_score(y_val, VotingPredictorAR .predict(x_val)),6)\n",
    "print ('Validation Results')\n",
    "indiceAR=metrics.classification_report(y_val, VotingPredictorAR .predict(x_val))\n",
    "indiceAR=report_to_df(indiceAR)\n",
    "print(indiceAR)\n",
    "print(\"Validation score f1:\",f1_adlrf)"
   ]
  },
  {
   "cell_type": "code",
   "execution_count": 149,
   "metadata": {},
   "outputs": [
    {
     "name": "stdout",
     "output_type": "stream",
     "text": [
      "Validation Results\n",
      "  Class Name Précision Sensiblité    F1 Fréquence\n",
      "0          0      1.00       1.00  1.00    588363\n",
      "1          1      0.09       0.13  0.11      1805\n",
      "0.1050055617352614\n"
     ]
    }
   ],
   "source": [
    "#Test\n",
    "test_adlrf = round(f1_score(test_target, VotingPredictorAR .predict(test_features)),6)\n",
    "print ('Validation Results')\n",
    "indiceAR=metrics.classification_report(test_target, VotingPredictorAR .predict(test_features))\n",
    "indiceAR=report_to_df(indiceAR)\n",
    "print(indiceAR)\n",
    "print(\"Test score f1:\",test_adlrf)"
   ]
  },
  {
   "cell_type": "code",
   "execution_count": null,
   "metadata": {},
   "outputs": [],
   "source": [
    "#Ajout dans le dico\n",
    "test_result['ADLRF'] = test_adlrf\n",
    "valid_result['ADLRF'] = f1_adlrf\n",
    "print(test_result)\n",
    "print(valid_result)"
   ]
  },
  {
   "cell_type": "markdown",
   "metadata": {},
   "source": [
    "### 7.6 Modèle ensembliste de SVM\n",
    "\n",
    "Nous avons voulu essayer un SVM, tout d'abord seul et un modèle combinant plusieurs SVM. Ca n'a pas été concluant, nous n'avons pas réussi à faire tourné cet algorithme le temps d'execution est trop long. Les SVM ne sont pas adapté lorsque la base de données est trop importante.\n"
   ]
  },
  {
   "cell_type": "code",
   "execution_count": null,
   "metadata": {},
   "outputs": [],
   "source": [
    "from sklearn.svm import SVC\n",
    "pipeSVM = make_pipeline(StandardScaler(), SVC(gamma='auto'))\n",
    "pipeSVM.fit(x_train_res, y_train_res) \n",
    "print ('Validation Results')\n",
    "print (f1_score(y_val, pipeSVM.predict(x_val)))\n",
    "print ('\\nTest Results')\n",
    "print (f1_score(test_target, pipeSVM.predict(test_features)))"
   ]
  },
  {
   "cell_type": "code",
   "execution_count": null,
   "metadata": {},
   "outputs": [],
   "source": [
    "#bagging svm\n",
    "from sklearn.svm import SVC\n",
    "from sklearn.ensemble import BaggingClassifier\n",
    "bagging = make_pipeline(StandardScaler(), BaggingClassifier(SVC(), max_samples=0.5, max_features=0.5))\n",
    "bagging.fit(x_train_res, y_train_res)\n",
    "print ('Validation Results')\n",
    "print (f1_score(y_val, bagging.predict(x_val)))"
   ]
  },
  {
   "cell_type": "markdown",
   "metadata": {},
   "source": [
    "### 7.7 xgboost "
   ]
  },
  {
   "cell_type": "code",
   "execution_count": 29,
   "metadata": {},
   "outputs": [
    {
     "name": "stderr",
     "output_type": "stream",
     "text": [
      "C:\\Users\\paupa\\anaconda3\\lib\\site-packages\\xgboost\\sklearn.py:892: UserWarning: The use of label encoder in XGBClassifier is deprecated and will be removed in a future release. To remove this warning, do the following: 1) Pass option use_label_encoder=False when constructing XGBClassifier object; and 2) Encode your labels (y) as integers starting with 0, i.e. 0, 1, 2, ..., [num_class - 1].\n",
      "  warnings.warn(label_encoder_deprecation_msg, UserWarning)\n"
     ]
    },
    {
     "name": "stdout",
     "output_type": "stream",
     "text": [
      "[13:00:33] WARNING: C:/Users/Administrator/workspace/xgboost-win64_release_1.3.0/src/learner.cc:1061: Starting in XGBoost 1.3.0, the default evaluation metric used with the objective 'binary:logistic' was changed from 'error' to 'logloss'. Explicitly set eval_metric if you'd like to restore the old behavior.\n"
     ]
    },
    {
     "name": "stderr",
     "output_type": "stream",
     "text": [
      "C:\\Users\\paupa\\anaconda3\\lib\\site-packages\\xgboost\\sklearn.py:892: UserWarning: The use of label encoder in XGBClassifier is deprecated and will be removed in a future release. To remove this warning, do the following: 1) Pass option use_label_encoder=False when constructing XGBClassifier object; and 2) Encode your labels (y) as integers starting with 0, i.e. 0, 1, 2, ..., [num_class - 1].\n",
      "  warnings.warn(label_encoder_deprecation_msg, UserWarning)\n"
     ]
    },
    {
     "name": "stdout",
     "output_type": "stream",
     "text": [
      "[13:00:37] WARNING: C:/Users/Administrator/workspace/xgboost-win64_release_1.3.0/src/learner.cc:1061: Starting in XGBoost 1.3.0, the default evaluation metric used with the objective 'binary:logistic' was changed from 'error' to 'logloss'. Explicitly set eval_metric if you'd like to restore the old behavior.\n"
     ]
    },
    {
     "name": "stderr",
     "output_type": "stream",
     "text": [
      "C:\\Users\\paupa\\anaconda3\\lib\\site-packages\\xgboost\\sklearn.py:892: UserWarning: The use of label encoder in XGBClassifier is deprecated and will be removed in a future release. To remove this warning, do the following: 1) Pass option use_label_encoder=False when constructing XGBClassifier object; and 2) Encode your labels (y) as integers starting with 0, i.e. 0, 1, 2, ..., [num_class - 1].\n",
      "  warnings.warn(label_encoder_deprecation_msg, UserWarning)\n"
     ]
    },
    {
     "name": "stdout",
     "output_type": "stream",
     "text": [
      "[13:00:42] WARNING: C:/Users/Administrator/workspace/xgboost-win64_release_1.3.0/src/learner.cc:1061: Starting in XGBoost 1.3.0, the default evaluation metric used with the objective 'binary:logistic' was changed from 'error' to 'logloss'. Explicitly set eval_metric if you'd like to restore the old behavior.\n"
     ]
    },
    {
     "name": "stderr",
     "output_type": "stream",
     "text": [
      "C:\\Users\\paupa\\anaconda3\\lib\\site-packages\\xgboost\\sklearn.py:892: UserWarning: The use of label encoder in XGBClassifier is deprecated and will be removed in a future release. To remove this warning, do the following: 1) Pass option use_label_encoder=False when constructing XGBClassifier object; and 2) Encode your labels (y) as integers starting with 0, i.e. 0, 1, 2, ..., [num_class - 1].\n",
      "  warnings.warn(label_encoder_deprecation_msg, UserWarning)\n"
     ]
    },
    {
     "name": "stdout",
     "output_type": "stream",
     "text": [
      "[13:00:50] WARNING: C:/Users/Administrator/workspace/xgboost-win64_release_1.3.0/src/learner.cc:1061: Starting in XGBoost 1.3.0, the default evaluation metric used with the objective 'binary:logistic' was changed from 'error' to 'logloss'. Explicitly set eval_metric if you'd like to restore the old behavior.\n"
     ]
    },
    {
     "name": "stderr",
     "output_type": "stream",
     "text": [
      "C:\\Users\\paupa\\anaconda3\\lib\\site-packages\\xgboost\\sklearn.py:892: UserWarning: The use of label encoder in XGBClassifier is deprecated and will be removed in a future release. To remove this warning, do the following: 1) Pass option use_label_encoder=False when constructing XGBClassifier object; and 2) Encode your labels (y) as integers starting with 0, i.e. 0, 1, 2, ..., [num_class - 1].\n",
      "  warnings.warn(label_encoder_deprecation_msg, UserWarning)\n"
     ]
    },
    {
     "name": "stdout",
     "output_type": "stream",
     "text": [
      "[13:01:05] WARNING: C:/Users/Administrator/workspace/xgboost-win64_release_1.3.0/src/learner.cc:1061: Starting in XGBoost 1.3.0, the default evaluation metric used with the objective 'binary:logistic' was changed from 'error' to 'logloss'. Explicitly set eval_metric if you'd like to restore the old behavior.\n",
      "Validation croisé\n",
      "resultat validation croisé: [0.99740509 0.99714298 0.00784369 0.40749203 0.63242978]\n",
      "f1 mesure: 60.85% \n"
     ]
    },
    {
     "name": "stderr",
     "output_type": "stream",
     "text": [
      "C:\\Users\\paupa\\anaconda3\\lib\\site-packages\\xgboost\\sklearn.py:892: UserWarning: The use of label encoder in XGBClassifier is deprecated and will be removed in a future release. To remove this warning, do the following: 1) Pass option use_label_encoder=False when constructing XGBClassifier object; and 2) Encode your labels (y) as integers starting with 0, i.e. 0, 1, 2, ..., [num_class - 1].\n",
      "  warnings.warn(label_encoder_deprecation_msg, UserWarning)\n"
     ]
    },
    {
     "name": "stdout",
     "output_type": "stream",
     "text": [
      "[13:01:23] WARNING: C:/Users/Administrator/workspace/xgboost-win64_release_1.3.0/src/learner.cc:1061: Starting in XGBoost 1.3.0, the default evaluation metric used with the objective 'binary:logistic' was changed from 'error' to 'logloss'. Explicitly set eval_metric if you'd like to restore the old behavior.\n",
      "Validation Results\n",
      "0.01957109040189375\n",
      "1.0860333333333334\n"
     ]
    }
   ],
   "source": [
    "#xgboost\n",
    "# avec cross_val_score\n",
    "\n",
    "startboost = time()\n",
    "\n",
    "xg_clas = make_pipeline(StandardScaler(),xgb.XGBClassifier(objective='binary:logistic', colsample_bytree = 0.3, learning_rate = 0.1,max_depth = 5,  alpha = 10, n_estimators = 10))\n",
    "\n",
    "#preds = xg_clas.predict(x_val)\n",
    "tscv = TimeSeriesSplit(n_splits=5)\n",
    "results = cross_val_score(xg_clas,x_train_res,y_train_res, cv=tscv, scoring='f1_micro')\n",
    "print ('Validation croisé')\n",
    "print(\"resultat validation croisé:\", results)\n",
    "print(\"f1 mesure: %.2f%% \" % (results.mean()*100))\n",
    "\n",
    "xg_clas.fit(x_train_res,y_train_res)\n",
    "\n",
    "#Validation\n",
    "f1_xgboost = round(f1_score(y_val, xg_clas.predict(x_val)),6)\n",
    "print ('Validation Results')\n",
    "print (f1_score(y_val, xg_clas.predict(x_val)))\n",
    "\n",
    "#Test\n",
    "test_xgboost = round(f1_score(test_target, xg_clas.predict(test_features)),6)\n",
    "print ('Test Results')\n",
    "print (f1_score(test_target, xg_clas.predict(test_features)))\n",
    "\n",
    "doneboost = time()\n",
    "tpsADL = round(doneboost - startboost,3)\n",
    "print(\"Temps de calcul:\",tpsADL/60)\n",
    "\n",
    "###Resultat###\n",
    "#Validation croisé\n",
    "#resultat validation croisé: [0.99740509 0.99714298 0.00784369 0.40749203 0.63242978]\n",
    "#f1 mesure: 60.85% \n",
    "#resultat validation : 0.01957109040189375"
   ]
  },
  {
   "cell_type": "code",
   "execution_count": null,
   "metadata": {},
   "outputs": [],
   "source": [
    "#Ajout dans le dico\n",
    "test_result['XGBOOST'] = test_xgboost\n",
    "valid_result['XGBOOST'] = f1_xgboost\n",
    "print(test_result)\n",
    "print(valid_result)"
   ]
  },
  {
   "cell_type": "markdown",
   "metadata": {},
   "source": [
    "### 7.8 One class Classification Isolation forest\n",
    "Le dernier type de modèle que nous avons voulu essayer est un algorithme de type One-Class Classification. Ces algorithmes on pour objectif de détecter des anomalies dans les données en les isolants. Ils sont adaptés au données déséquilibrés comportant aucune ou très peu de données de la classe positif. Ce qui est le cas dans notre problème. Jusqu'a présent nos meilleurs résultat ont été obtenu avec la forêt aléatoire. Nous avons donc choisit le modèle isolation forest, qui repose également sur une représentation par arbre. C'est un algorithme d'apprentissage non-supervisé. "
   ]
  },
  {
   "cell_type": "code",
   "execution_count": 39,
   "metadata": {},
   "outputs": [
    {
     "name": "stdout",
     "output_type": "stream",
     "text": [
      "F1 Score: 0.162\n",
      "[[ 52062 538106]\n",
      " [     0      0]]\n",
      "0.97105\n"
     ]
    }
   ],
   "source": [
    "from sklearn.metrics import f1_score\n",
    "from sklearn.ensemble import IsolationForest\n",
    "\n",
    "start = time()\n",
    "# define outlier detection model\n",
    "model = make_pipeline(StandardScaler(),IsolationForest(contamination='auto'))\n",
    "trainX = x_train[y_train==0]\n",
    "model.fit(trainX)\n",
    "ypred = model.predict(x_val)\n",
    "newy = y_val\n",
    "newy[newy==1] = -1 \n",
    "newy[newy==0]=1\n",
    "\n",
    "#Validation\n",
    "f1_iforest = round(f1_score(newy,ypred, pos_label=-1),6)\n",
    "print('Validation F1 Score:' ,f1_iforest)\n",
    "matrix_valid= confusion_matrix(newy, ypred)\n",
    "print(matrix_valid)\n",
    "\n",
    "test_target\n",
    "test_features\n",
    "#test\n",
    "newy_test = test_target\n",
    "newy_test[newy_test==1] = -1 \n",
    "newy_test[newy_test==0]=1\n",
    "ypred_test = model.predict(test_features)\n",
    "test_iforest = round(f1_score(newy_test,ypred_test, pos_label=-1),6)\n",
    "print('Validation F1 Score:' ,test_iforest)\n",
    "matrix_test= confusion_matrix(newy_test, ypred_test)\n",
    "print(matrix_test)\n",
    "\n",
    "done = time()\n",
    "tpsADL = round(done - start,3)\n",
    "print(\"temps de calcul:\",tpsADL/60)"
   ]
  },
  {
   "cell_type": "code",
   "execution_count": null,
   "metadata": {},
   "outputs": [],
   "source": [
    "#Ajout dans le dico\n",
    "test_result['IFOREST'] = test_iforest\n",
    "valid_result['IFOREST'] = f1_iforest\n",
    "print(test_result)\n",
    "print(valid_result)"
   ]
  },
  {
   "cell_type": "markdown",
   "metadata": {},
   "source": [
    "## 8. Résultats et comparaison "
   ]
  },
  {
   "cell_type": "code",
   "execution_count": 91,
   "metadata": {},
   "outputs": [
    {
     "ename": "TypeError",
     "evalue": "'dict_values' object is not callable",
     "output_type": "error",
     "traceback": [
      "\u001b[1;31m---------------------------------------------------------------------------\u001b[0m",
      "\u001b[1;31mTypeError\u001b[0m                                 Traceback (most recent call last)",
      "\u001b[1;32m<ipython-input-91-54fd674168a3>\u001b[0m in \u001b[0;36m<module>\u001b[1;34m\u001b[0m\n\u001b[1;32m----> 1\u001b[1;33m \u001b[0msorted\u001b[0m\u001b[1;33m(\u001b[0m\u001b[0mresultats\u001b[0m\u001b[1;33m.\u001b[0m\u001b[0mitems\u001b[0m\u001b[1;33m(\u001b[0m\u001b[1;33m)\u001b[0m\u001b[1;33m,\u001b[0m \u001b[0mkey\u001b[0m\u001b[1;33m=\u001b[0m\u001b[0mresultats\u001b[0m\u001b[1;33m.\u001b[0m\u001b[0mvalues\u001b[0m\u001b[1;33m(\u001b[0m\u001b[1;33m)\u001b[0m\u001b[1;33m,\u001b[0m \u001b[0mreverse\u001b[0m\u001b[1;33m=\u001b[0m\u001b[1;32mTrue\u001b[0m\u001b[1;33m)\u001b[0m\u001b[1;33m\u001b[0m\u001b[1;33m\u001b[0m\u001b[0m\n\u001b[0m\u001b[0;32m      2\u001b[0m \u001b[0mprint\u001b[0m\u001b[1;33m(\u001b[0m\u001b[0mresultats\u001b[0m\u001b[1;33m)\u001b[0m\u001b[1;33m\u001b[0m\u001b[1;33m\u001b[0m\u001b[0m\n\u001b[0;32m      3\u001b[0m \u001b[0mplt\u001b[0m\u001b[1;33m.\u001b[0m\u001b[0mbar\u001b[0m\u001b[1;33m(\u001b[0m\u001b[0mresultats\u001b[0m\u001b[1;33m.\u001b[0m\u001b[0mkeys\u001b[0m\u001b[1;33m(\u001b[0m\u001b[1;33m)\u001b[0m\u001b[1;33m,\u001b[0m\u001b[0mresultats\u001b[0m\u001b[1;33m.\u001b[0m\u001b[0mvalues\u001b[0m\u001b[1;33m(\u001b[0m\u001b[1;33m)\u001b[0m\u001b[1;33m,\u001b[0m\u001b[0mcolor\u001b[0m\u001b[1;33m=\u001b[0m\u001b[1;34m\"orange\"\u001b[0m\u001b[1;33m)\u001b[0m\u001b[1;33m\u001b[0m\u001b[1;33m\u001b[0m\u001b[0m\n",
      "\u001b[1;31mTypeError\u001b[0m: 'dict_values' object is not callable"
     ]
    }
   ],
   "source": [
    "#barre plot validation\n",
    "sorted(valid_result.items(), key=lambda t: t[1], reverse=True)\n",
    "print(valid_result)\n",
    "plt.bar(valid_result.keys(),valid_result.values(),color=\"orange\")"
   ]
  },
  {
   "cell_type": "code",
   "execution_count": 91,
   "metadata": {},
   "outputs": [
    {
     "ename": "TypeError",
     "evalue": "'dict_values' object is not callable",
     "output_type": "error",
     "traceback": [
      "\u001b[1;31m---------------------------------------------------------------------------\u001b[0m",
      "\u001b[1;31mTypeError\u001b[0m                                 Traceback (most recent call last)",
      "\u001b[1;32m<ipython-input-91-54fd674168a3>\u001b[0m in \u001b[0;36m<module>\u001b[1;34m\u001b[0m\n\u001b[1;32m----> 1\u001b[1;33m \u001b[0msorted\u001b[0m\u001b[1;33m(\u001b[0m\u001b[0mresultats\u001b[0m\u001b[1;33m.\u001b[0m\u001b[0mitems\u001b[0m\u001b[1;33m(\u001b[0m\u001b[1;33m)\u001b[0m\u001b[1;33m,\u001b[0m \u001b[0mkey\u001b[0m\u001b[1;33m=\u001b[0m\u001b[0mresultats\u001b[0m\u001b[1;33m.\u001b[0m\u001b[0mvalues\u001b[0m\u001b[1;33m(\u001b[0m\u001b[1;33m)\u001b[0m\u001b[1;33m,\u001b[0m \u001b[0mreverse\u001b[0m\u001b[1;33m=\u001b[0m\u001b[1;32mTrue\u001b[0m\u001b[1;33m)\u001b[0m\u001b[1;33m\u001b[0m\u001b[1;33m\u001b[0m\u001b[0m\n\u001b[0m\u001b[0;32m      2\u001b[0m \u001b[0mprint\u001b[0m\u001b[1;33m(\u001b[0m\u001b[0mresultats\u001b[0m\u001b[1;33m)\u001b[0m\u001b[1;33m\u001b[0m\u001b[1;33m\u001b[0m\u001b[0m\n\u001b[0;32m      3\u001b[0m \u001b[0mplt\u001b[0m\u001b[1;33m.\u001b[0m\u001b[0mbar\u001b[0m\u001b[1;33m(\u001b[0m\u001b[0mresultats\u001b[0m\u001b[1;33m.\u001b[0m\u001b[0mkeys\u001b[0m\u001b[1;33m(\u001b[0m\u001b[1;33m)\u001b[0m\u001b[1;33m,\u001b[0m\u001b[0mresultats\u001b[0m\u001b[1;33m.\u001b[0m\u001b[0mvalues\u001b[0m\u001b[1;33m(\u001b[0m\u001b[1;33m)\u001b[0m\u001b[1;33m,\u001b[0m\u001b[0mcolor\u001b[0m\u001b[1;33m=\u001b[0m\u001b[1;34m\"orange\"\u001b[0m\u001b[1;33m)\u001b[0m\u001b[1;33m\u001b[0m\u001b[1;33m\u001b[0m\u001b[0m\n",
      "\u001b[1;31mTypeError\u001b[0m: 'dict_values' object is not callable"
     ]
    }
   ],
   "source": [
    "#barre plot test\n",
    "sorted(test_result.items(), key=lambda t: t[1], reverse=True)\n",
    "print(test_result)\n",
    "plt.bar(test_result.keys(),test_result.values(),color=\"orange\")"
   ]
  },
  {
   "cell_type": "markdown",
   "metadata": {},
   "source": [
    "## Bonus"
   ]
  },
  {
   "cell_type": "markdown",
   "metadata": {},
   "source": [
    "https://www.kaggle.com/currie32/predicting-fraud-with-tensorflow"
   ]
  },
  {
   "cell_type": "markdown",
   "metadata": {},
   "source": [
    "Nous voudrons maximiser le chiffre d'affaire "
   ]
  },
  {
   "cell_type": "markdown",
   "metadata": {},
   "source": [
    "https://www.kaggle.com/currie32/predicting-fraud-with-tensorflow"
   ]
  },
  {
   "cell_type": "markdown",
   "metadata": {},
   "source": [
    "- si on accepte une bonne transaction (TN) : le chiffre d’affaire généré est égal au montant de la transaction f(m) = m\n",
    "- si on accepte une mauvaise transaction (FN) : le chiffre d’affaire perdu est proportionnel au montant à f(m) = m(1 − exp(-m))\n",
    "Plus le montant de la transaction est élevé,\n",
    "plus la perte est importante.\n",
    "- lorsque vous refusez une bonne transaction (FP) : vous générez un chiffre d’affaire égal à 80% du montant de la transaction, f(m) = 0.8m\n",
    "- lorsque vous refusez une transaction frauduleuse, le chiffre d’affaire est nul f(m) = 0"
   ]
  },
  {
   "cell_type": "markdown",
   "metadata": {},
   "source": [
    "On a le formule de chiffre d'affaire :"
   ]
  },
  {
   "cell_type": "markdown",
   "metadata": {},
   "source": [
    "CA = TN -FN*(1-exp(-FN))+0.8*FP+0*TP"
   ]
  },
  {
   "cell_type": "markdown",
   "metadata": {},
   "source": [
    "### Analyse Univarié"
   ]
  },
  {
   "cell_type": "markdown",
   "metadata": {},
   "source": [
    "On va diviser le bdd en Fraud et Normal :"
   ]
  },
  {
   "cell_type": "code",
   "execution_count": null,
   "metadata": {},
   "outputs": [],
   "source": [
    "frauds = df[df.Class == 1]\n",
    "normal = df[df.Class == 0]\n",
    "frauds.shape"
   ]
  },
  {
   "cell_type": "markdown",
   "metadata": {},
   "source": [
    "### Caculer le CA"
   ]
  },
  {
   "cell_type": "markdown",
   "metadata": {},
   "source": [
    "Le CA origin est caculé basé sur tous les transactions normaux "
   ]
  },
  {
   "cell_type": "code",
   "execution_count": 69,
   "metadata": {},
   "outputs": [
    {
     "name": "stdout",
     "output_type": "stream",
     "text": [
      "15436477.790000001\n"
     ]
    }
   ],
   "source": [
    "b=df.loc[df['DAteTrAnsAction'] >= '2016-09-20','MontAnt'].to_numpy()\n",
    "CAorigin = np.sum(b[thttp://localhost:8892/notebooks/Desktop/School/Master%202/Big%20Data/%08ProjetFraud/BIG%20DATA.ipynb#Caculer-le-CAest_target==0])\n",
    "print(CAorigin)"
   ]
  },
  {
   "cell_type": "markdown",
   "metadata": {},
   "source": [
    "On calcule le lost sur le train "
   ]
  },
  {
   "cell_type": "code",
   "execution_count": 67,
   "metadata": {},
   "outputs": [
    {
     "name": "stdout",
     "output_type": "stream",
     "text": [
      "[ 8.034  4.     7.    ...  8.438 10.8    6.74 ]\n",
      "20432998.580690492\n"
     ]
    }
   ],
   "source": [
    "a=x_train['MontAnt'].to_numpy()\n",
    "a=(1-y_train.to_numpy())*0.2*a + y_train.to_numpy()*a*(1-np.exp(-a))\n",
    "print(a)\n",
    "print(sum(a))"
   ]
  },
  {
   "cell_type": "markdown",
   "metadata": {},
   "source": [
    "Donc on essaie de fit le meilleur modele avec sample_weight = lost"
   ]
  },
  {
   "cell_type": "code",
   "execution_count": 68,
   "metadata": {
    "scrolled": false
   },
   "outputs": [
    {
     "ename": "ValueError",
     "evalue": "Pipeline.fit does not accept the sample_weight parameter. You can pass parameters to specific steps of your pipeline using the stepname__parameter format, e.g. `Pipeline.fit(X, y, logisticregression__sample_weight=sample_weight)`.",
     "output_type": "error",
     "traceback": [
      "\u001b[0;31m---------------------------------------------------------------------------\u001b[0m",
      "\u001b[0;31mValueError\u001b[0m                                Traceback (most recent call last)",
      "\u001b[0;32m<ipython-input-68-ede19041aef8>\u001b[0m in \u001b[0;36m<module>\u001b[0;34m\u001b[0m\n\u001b[1;32m      2\u001b[0m RDbest6 = make_pipeline(StandardScaler(),RandomForestClassifier(bootstrap=True, class_weight={0:1, 1:375}, criterion='entropy', max_depth=200,min_samples_leaf=20,\n\u001b[1;32m      3\u001b[0m n_estimators=500, n_jobs=-1, random_state=5))\n\u001b[0;32m----> 4\u001b[0;31m \u001b[0mRDbest6\u001b[0m\u001b[0;34m.\u001b[0m\u001b[0mfit\u001b[0m\u001b[0;34m(\u001b[0m\u001b[0mx_train\u001b[0m\u001b[0;34m,\u001b[0m \u001b[0my_train\u001b[0m\u001b[0;34m,\u001b[0m \u001b[0msample_weight\u001b[0m\u001b[0;34m=\u001b[0m \u001b[0ma\u001b[0m\u001b[0;34m)\u001b[0m\u001b[0;34m\u001b[0m\u001b[0;34m\u001b[0m\u001b[0m\n\u001b[0m\u001b[1;32m      5\u001b[0m \u001b[0mdoneRF\u001b[0m \u001b[0;34m=\u001b[0m \u001b[0mtime\u001b[0m\u001b[0;34m(\u001b[0m\u001b[0;34m)\u001b[0m\u001b[0;34m\u001b[0m\u001b[0;34m\u001b[0m\u001b[0m\n\u001b[1;32m      6\u001b[0m \u001b[0;34m\u001b[0m\u001b[0m\n",
      "\u001b[0;32m~/opt/anaconda3/lib/python3.8/site-packages/sklearn/pipeline.py\u001b[0m in \u001b[0;36mfit\u001b[0;34m(self, X, y, **fit_params)\u001b[0m\n\u001b[1;32m    327\u001b[0m             \u001b[0mThis\u001b[0m \u001b[0mestimator\u001b[0m\u001b[0;34m\u001b[0m\u001b[0;34m\u001b[0m\u001b[0m\n\u001b[1;32m    328\u001b[0m         \"\"\"\n\u001b[0;32m--> 329\u001b[0;31m         \u001b[0mfit_params_steps\u001b[0m \u001b[0;34m=\u001b[0m \u001b[0mself\u001b[0m\u001b[0;34m.\u001b[0m\u001b[0m_check_fit_params\u001b[0m\u001b[0;34m(\u001b[0m\u001b[0;34m**\u001b[0m\u001b[0mfit_params\u001b[0m\u001b[0;34m)\u001b[0m\u001b[0;34m\u001b[0m\u001b[0;34m\u001b[0m\u001b[0m\n\u001b[0m\u001b[1;32m    330\u001b[0m         \u001b[0mXt\u001b[0m \u001b[0;34m=\u001b[0m \u001b[0mself\u001b[0m\u001b[0;34m.\u001b[0m\u001b[0m_fit\u001b[0m\u001b[0;34m(\u001b[0m\u001b[0mX\u001b[0m\u001b[0;34m,\u001b[0m \u001b[0my\u001b[0m\u001b[0;34m,\u001b[0m \u001b[0;34m**\u001b[0m\u001b[0mfit_params_steps\u001b[0m\u001b[0;34m)\u001b[0m\u001b[0;34m\u001b[0m\u001b[0;34m\u001b[0m\u001b[0m\n\u001b[1;32m    331\u001b[0m         with _print_elapsed_time('Pipeline',\n",
      "\u001b[0;32m~/opt/anaconda3/lib/python3.8/site-packages/sklearn/pipeline.py\u001b[0m in \u001b[0;36m_check_fit_params\u001b[0;34m(self, **fit_params)\u001b[0m\n\u001b[1;32m    241\u001b[0m         \u001b[0;32mfor\u001b[0m \u001b[0mpname\u001b[0m\u001b[0;34m,\u001b[0m \u001b[0mpval\u001b[0m \u001b[0;32min\u001b[0m \u001b[0mfit_params\u001b[0m\u001b[0;34m.\u001b[0m\u001b[0mitems\u001b[0m\u001b[0;34m(\u001b[0m\u001b[0;34m)\u001b[0m\u001b[0;34m:\u001b[0m\u001b[0;34m\u001b[0m\u001b[0;34m\u001b[0m\u001b[0m\n\u001b[1;32m    242\u001b[0m             \u001b[0;32mif\u001b[0m \u001b[0;34m'__'\u001b[0m \u001b[0;32mnot\u001b[0m \u001b[0;32min\u001b[0m \u001b[0mpname\u001b[0m\u001b[0;34m:\u001b[0m\u001b[0;34m\u001b[0m\u001b[0;34m\u001b[0m\u001b[0m\n\u001b[0;32m--> 243\u001b[0;31m                 raise ValueError(\n\u001b[0m\u001b[1;32m    244\u001b[0m                     \u001b[0;34m\"Pipeline.fit does not accept the {} parameter. \"\u001b[0m\u001b[0;34m\u001b[0m\u001b[0;34m\u001b[0m\u001b[0m\n\u001b[1;32m    245\u001b[0m                     \u001b[0;34m\"You can pass parameters to specific steps of your \"\u001b[0m\u001b[0;34m\u001b[0m\u001b[0;34m\u001b[0m\u001b[0m\n",
      "\u001b[0;31mValueError\u001b[0m: Pipeline.fit does not accept the sample_weight parameter. You can pass parameters to specific steps of your pipeline using the stepname__parameter format, e.g. `Pipeline.fit(X, y, logisticregression__sample_weight=sample_weight)`."
     ]
    }
   ],
   "source": [
    "startRF = time()\n",
    "RDbest6 = make_pipeline(StandardScaler(),RandomForestClassifier(bootstrap=True, class_weight={0:1, 1:375}, criterion='entropy', max_depth=200,min_samples_leaf=20,\n",
    "n_estimators=500, n_jobs=-1, random_state=5))\n",
    "RDbest6.fit(x_train, y_train, sample_weight= a) \n",
    "doneRF = time()\n",
    "\n",
    "tpsRF = round(doneRF - startRF,3)\n",
    "print(\"temps de calcul\" , tpsRF/60)\n",
    "\n",
    "print(metrics.classification_report(test_target, RDbest6.predict(test_features)))\n",
    "print(\"Score f1:\",f1_score(test_target,RDbest6.predict(test_features) ))\n",
    "print(metrics.classification_report(y_val, RDbest6.predict(x_val)))\n",
    "print (\"Score f1:\",f1_score(y_val, RDbest6.predict(x_val)))"
   ]
  },
  {
   "cell_type": "markdown",
   "metadata": {},
   "source": [
    "On a le resultat final "
   ]
  },
  {
   "cell_type": "code",
   "execution_count": 55,
   "metadata": {},
   "outputs": [
    {
     "name": "stdout",
     "output_type": "stream",
     "text": [
      "[ 9.082 12.412  3.286 ... 37.302  7.708  2.786]\n",
      "3167961.0491506224\n",
      "[ 45.41  62.06  16.43 ... 186.51  38.54  13.93]\n",
      "15354240.376848942\n"
     ]
    }
   ],
   "source": [
    "# Loss = a\n",
    "a=df.loc[df['DAteTrAnsAction'] >= '2016-09-20','MontAnt'].to_numpy()\n",
    "\n",
    "\n",
    "a=(1-test_target.to_numpy())*0.2*a + test_target.to_numpy()*a*(1-np.exp(-a))\n",
    "print(a)\n",
    "\n",
    "# Print loss a \n",
    "print(sum(a))\n",
    "\n",
    "b=df.loc[df['DAteTrAnsAction'] >= '2016-09-20','MontAnt'].to_numpy()\n",
    "print(b)\n",
    "CA=np.sum(b[test_target==0])-np.sum(((RDbest4.predict(test_features)-test_target)**2)*a)\n",
    "print(CA)"
   ]
  },
  {
   "cell_type": "markdown",
   "metadata": {},
   "source": [
    "Donc notre resultat est environ 80k$ moins que par rapport le CA original"
   ]
  },
  {
   "cell_type": "markdown",
   "metadata": {},
   "source": [
    "## Conclusion"
   ]
  },
  {
   "cell_type": "markdown",
   "metadata": {},
   "source": [
    "# Exporter and save "
   ]
  },
  {
   "cell_type": "code",
   "execution_count": 121,
   "metadata": {},
   "outputs": [],
   "source": [
    "  #%notebook '/Users/hoangkhanhle/Desktop/School/Master 2/Big Data/ProjetFraud/BIG DATA.ipynb'"
   ]
  }
 ],
 "metadata": {
  "kernelspec": {
   "display_name": "Python 3",
   "language": "python",
   "name": "python3"
  },
  "language_info": {
   "codemirror_mode": {
    "name": "ipython",
    "version": 3
   },
   "file_extension": ".py",
   "mimetype": "text/x-python",
   "name": "python",
   "nbconvert_exporter": "python",
   "pygments_lexer": "ipython3",
   "version": "3.8.3"
  }
 },
 "nbformat": 4,
 "nbformat_minor": 4
}
