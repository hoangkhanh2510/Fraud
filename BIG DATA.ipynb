{
 "cells": [
  {
   "cell_type": "markdown",
   "metadata": {},
   "source": [
    "# Détection de fraude bancaire\n",
    "### Big Data Mining M2 SISE : Pauline Lainé - Khanh Hoàng Lê"
   ]
  },
  {
   "cell_type": "markdown",
   "metadata": {},
   "source": [
    "## 1. Introduction"
   ]
  },
  {
   "cell_type": "markdown",
   "metadata": {},
   "source": [
    "Lorsqu'un client paye par chèque, il se peut que celui-ci ne paye jamais son panier, nous sommes alors dans le cas d'une fraude. Deux raisons peuvent être dû à une fraude. \n",
    "\n",
    "Le premier cas, c'est lorsque nous sommes dans le cas d'un chèque dit impayé, ce cas de figure apparait lorsque la personne ne possède pas le solde sur son compte en banque. L'autre cas de figure c'est lorsque nous avons à faire à un faux chèque. Un faux chèque peut se caractériser par une fausse identité ou lorsque le CMC7 est incorrect. Le CMC7 est une série de Caractères Magnétiques Codés à 7 bâtonnets situé en bas d'un chèque.\n",
    "\n",
    "Sur une période de 10 mois, ces fraudes se compte au nombre de 20 000 soit 0.6% des transactions réalisées, réprésentant un chiffre d'affaires de 2 millions d'euros qui équivaut à 1.1% du chiffre d'affaires total de l'enseigne. C'est un chiffre d'affaires perdu non négligable. \n",
    "\n",
    "Notre étude va alors se porter sur la détection des fraudes par chèque dans un contexte déséquilibré."
   ]
  },
  {
   "cell_type": "markdown",
   "metadata": {},
   "source": [
    "## 2. Les données"
   ]
  },
  {
   "cell_type": "markdown",
   "metadata": {},
   "source": [
    "Les données que nous allons utiliser provienne d'une enseigne de grande distribustion et d'organismes bancaires tels que la FNCI et la Banque de France. Nous avons une ligne par transaction sur la période du 21/03/2016 au 19/10/2016 soit une période de 7 mois. Chaque transaction est décrite par les 23 variables suivantes : \n",
    "\n",
    "- ZIBZIN : identifiant bancaire relatif à la personne\n",
    "- IDAvisAutorisAtionCheque : identifiant de la transaction en cours\n",
    "- Montant : montant de la transaction\n",
    "- DateTransaction : date de la transaction\n",
    "- CodeDecision : il s’agit d’une variable qui peut prendre ici 4 valeurs\n",
    "    - 0 : la transaction a été acceptée par le magasin\n",
    "    - 1 : la transaction et donc le client fait partie d’une liste blanche (bons payeurs). Aucun dans cette base de données\n",
    "    - 2 : le client fait d’une partie d’une liste noire, son historique indique c'est un mauvais payeur (des impayés en cours ou des incidents bancaires en cours), sa transaction est alors automatiquement refusée\n",
    "    - 3 : client ayant était arrêté par le système par le passé pour une raison plus ou moins fondée\n",
    "- VérifianceCPT1 : nombre de transactions effectuées par le même identifiant bancaire au cours du même jour\n",
    "- VérifianceCPT2 : nombre de transactions effectuées par le même identifiant bancaire au cours des trois derniers jours\n",
    "- VérifianceCPT3 : nombre de transactions effectuées par le même identifiant bancaire au cours des sept derniers jours\n",
    "- D2CB : durée de connaissance du client (par son identifiant bancaire), en jours. Pour des contraintes légales, cette durée de connaissance ne peut excéder deux ans\n",
    "- ScoringFP1 : score d’anormalité du panier relatif à une première famille de produits (ex : denrées alimentaires)\n",
    "- ScoringFP2 : score d’anormalité du panier relatif à une deuxième famille de produits(ex : électroniques)\n",
    "- ScoringFP3 : score d’anormalité du panier relatif à une troisième famille de produits (ex : autres)\n",
    "- TauxImpNb_RB : taux impayés enregistrés selon la région où a lieu la transaction\n",
    "- TauxImpNB_CPM : taux d’impayés relatif au magasin où a lieu la transaction\n",
    "- EcartNumCheq : différence entre les numéros de chèques\n",
    "- NbrMagasin3J : nombre de magasins différents fréquentés les 3 derniers jours\n",
    "- DiffDateTr1 : écart (en jours) à la précédente transaction\n",
    "- DiffDateTr2 : écart (en jours) à l’avant dernière transaction\n",
    "- DiffDateTr3 : écart (en jours) à l’antépénultième transaction\n",
    "-  CA3TRetMtt : montant des dernières transactions + montant de la transaction en cours\n",
    "- CA3TR : montant des trois dernières transactions\n",
    "- Heure : heure de la transaction\n",
    "- FlagImpaye : acception (0) ou refus de la transaction (1)\n",
    "\n",
    "Cette dernière variable \"FlagImpaye\" est celle que nous cherchons à prédire. La classe 0 correspondant aux transactions normales et acceptées et la classe 1 correspond aux fraudes, les transactions qui sont refusées.\n",
    "\n",
    "Voyons à présent de plus près à quoi ressemble nos données."
   ]
  },
  {
   "cell_type": "markdown",
   "metadata": {},
   "source": [
    "### Importation des librairies "
   ]
  },
  {
   "cell_type": "code",
   "execution_count": 1,
   "metadata": {},
   "outputs": [
    {
     "ename": "ModuleNotFoundError",
     "evalue": "No module named 'imblearn'",
     "output_type": "error",
     "traceback": [
      "\u001b[1;31m---------------------------------------------------------------------------\u001b[0m",
      "\u001b[1;31mModuleNotFoundError\u001b[0m                       Traceback (most recent call last)",
      "\u001b[1;32m<ipython-input-1-dcc23284bcf5>\u001b[0m in \u001b[0;36m<module>\u001b[1;34m\u001b[0m\n\u001b[0;32m     10\u001b[0m \u001b[1;32mfrom\u001b[0m \u001b[0msklearn\u001b[0m\u001b[1;33m.\u001b[0m\u001b[0mmetrics\u001b[0m \u001b[1;32mimport\u001b[0m \u001b[0mrecall_score\u001b[0m\u001b[1;33m\u001b[0m\u001b[1;33m\u001b[0m\u001b[0m\n\u001b[0;32m     11\u001b[0m \u001b[1;32mfrom\u001b[0m \u001b[0msklearn\u001b[0m\u001b[1;33m.\u001b[0m\u001b[0mmetrics\u001b[0m \u001b[1;32mimport\u001b[0m \u001b[0mf1_score\u001b[0m\u001b[1;33m\u001b[0m\u001b[1;33m\u001b[0m\u001b[0m\n\u001b[1;32m---> 12\u001b[1;33m \u001b[1;32mfrom\u001b[0m \u001b[0mimblearn\u001b[0m\u001b[1;33m.\u001b[0m\u001b[0mover_sampling\u001b[0m \u001b[1;32mimport\u001b[0m \u001b[0mSMOTE\u001b[0m\u001b[1;33m\u001b[0m\u001b[1;33m\u001b[0m\u001b[0m\n\u001b[0m\u001b[0;32m     13\u001b[0m \u001b[1;32mfrom\u001b[0m \u001b[0msklearn\u001b[0m\u001b[1;33m.\u001b[0m\u001b[0mpipeline\u001b[0m \u001b[1;32mimport\u001b[0m \u001b[0mmake_pipeline\u001b[0m\u001b[1;33m\u001b[0m\u001b[1;33m\u001b[0m\u001b[0m\n\u001b[0;32m     14\u001b[0m \u001b[1;32mfrom\u001b[0m \u001b[0msklearn\u001b[0m\u001b[1;33m.\u001b[0m\u001b[0mpreprocessing\u001b[0m \u001b[1;32mimport\u001b[0m \u001b[0mStandardScaler\u001b[0m\u001b[1;33m\u001b[0m\u001b[1;33m\u001b[0m\u001b[0m\n",
      "\u001b[1;31mModuleNotFoundError\u001b[0m: No module named 'imblearn'"
     ]
    }
   ],
   "source": [
    "import numpy as np\n",
    "import pandas as pd\n",
    "import missingno as mn\n",
    "import matplotlib.pyplot as plt\n",
    "from sklearn.svm import LinearSVC\n",
    "from collections import Counter\n",
    "from sklearn.datasets import make_classification\n",
    "from sklearn.ensemble import RandomForestClassifier\n",
    "from sklearn.model_selection import train_test_split\n",
    "from sklearn.metrics import recall_score\n",
    "from sklearn.metrics import f1_score\n",
    "from imblearn.over_sampling import SMOTE\n",
    "from sklearn.pipeline import make_pipeline\n",
    "from sklearn.preprocessing import StandardScaler\n",
    "import imblearn\n",
    "print(imblearn.__version__)"
   ]
  },
  {
   "cell_type": "markdown",
   "metadata": {},
   "source": [
    "### Importation du jeu de données "
   ]
  },
  {
   "cell_type": "code",
   "execution_count": 5,
   "metadata": {},
   "outputs": [],
   "source": [
    "import os\n",
    "os.chdir(\"D:/OneDrive/Documents/COURS/M2 SISE/Big Data Mining/Projet\")\n",
    "df = pd.read_csv(\"dataproject.csv\",encoding=\"utf-8\",header=0, sep =\";\",decimal=',')\n",
    "#df =pd.read_csv(\"/Users/hoangkhanhle/Desktop/School/Master 2/Big Data/dataproject.csv\",encoding=\"utf-8\",header=0, sep =\";\",decimal=',')"
   ]
  },
  {
   "cell_type": "code",
   "execution_count": 16,
   "metadata": {},
   "outputs": [
    {
     "data": {
      "text/html": [
       "<div>\n",
       "<style scoped>\n",
       "    .dataframe tbody tr th:only-of-type {\n",
       "        vertical-align: middle;\n",
       "    }\n",
       "\n",
       "    .dataframe tbody tr th {\n",
       "        vertical-align: top;\n",
       "    }\n",
       "\n",
       "    .dataframe thead th {\n",
       "        text-align: right;\n",
       "    }\n",
       "</style>\n",
       "<table border=\"1\" class=\"dataframe\">\n",
       "  <thead>\n",
       "    <tr style=\"text-align: right;\">\n",
       "      <th></th>\n",
       "      <th>ZIBZIN</th>\n",
       "      <th>IDAvisAutorisAtionCheque</th>\n",
       "      <th>MontAnt</th>\n",
       "      <th>DAteTrAnsAction</th>\n",
       "      <th>CodeDecision</th>\n",
       "      <th>VerifiAnceCPT1</th>\n",
       "      <th>VerifiAnceCPT2</th>\n",
       "      <th>VerifiAnceCPT3</th>\n",
       "      <th>D2CB</th>\n",
       "      <th>ScoringFP1</th>\n",
       "      <th>...</th>\n",
       "      <th>TAuxImpNB_CPM</th>\n",
       "      <th>EcArtNumCheq</th>\n",
       "      <th>NbrMAgAsin3J</th>\n",
       "      <th>DiffDAteTr1</th>\n",
       "      <th>DiffDAteTr2</th>\n",
       "      <th>DiffDAteTr3</th>\n",
       "      <th>CA3TRetMtt</th>\n",
       "      <th>CA3TR</th>\n",
       "      <th>Heure</th>\n",
       "      <th>FlAgImpAye</th>\n",
       "    </tr>\n",
       "  </thead>\n",
       "  <tbody>\n",
       "    <tr>\n",
       "      <th>0</th>\n",
       "      <td>A034010041908012010710730</td>\n",
       "      <td>71051532</td>\n",
       "      <td>40.17</td>\n",
       "      <td>2016-03-21 07:47:38</td>\n",
       "      <td>0</td>\n",
       "      <td>1</td>\n",
       "      <td>1</td>\n",
       "      <td>1</td>\n",
       "      <td>535</td>\n",
       "      <td>0.0</td>\n",
       "      <td>...</td>\n",
       "      <td>21.834061</td>\n",
       "      <td>0</td>\n",
       "      <td>1</td>\n",
       "      <td>4.0</td>\n",
       "      <td>4.0</td>\n",
       "      <td>4.0</td>\n",
       "      <td>40.17</td>\n",
       "      <td>0.0</td>\n",
       "      <td>28058</td>\n",
       "      <td>0</td>\n",
       "    </tr>\n",
       "    <tr>\n",
       "      <th>1</th>\n",
       "      <td>A035010041908006493331734</td>\n",
       "      <td>71051533</td>\n",
       "      <td>20.00</td>\n",
       "      <td>2016-03-21 08:04:57</td>\n",
       "      <td>0</td>\n",
       "      <td>0</td>\n",
       "      <td>0</td>\n",
       "      <td>0</td>\n",
       "      <td>358</td>\n",
       "      <td>0.0</td>\n",
       "      <td>...</td>\n",
       "      <td>12.586532</td>\n",
       "      <td>0</td>\n",
       "      <td>1</td>\n",
       "      <td>4.0</td>\n",
       "      <td>4.0</td>\n",
       "      <td>4.0</td>\n",
       "      <td>20.00</td>\n",
       "      <td>0.0</td>\n",
       "      <td>29097</td>\n",
       "      <td>0</td>\n",
       "    </tr>\n",
       "    <tr>\n",
       "      <th>2</th>\n",
       "      <td>A013010003908005150136747</td>\n",
       "      <td>71051534</td>\n",
       "      <td>35.00</td>\n",
       "      <td>2016-03-21 08:06:45</td>\n",
       "      <td>0</td>\n",
       "      <td>0</td>\n",
       "      <td>0</td>\n",
       "      <td>0</td>\n",
       "      <td>199</td>\n",
       "      <td>0.0</td>\n",
       "      <td>...</td>\n",
       "      <td>39.274924</td>\n",
       "      <td>0</td>\n",
       "      <td>1</td>\n",
       "      <td>4.0</td>\n",
       "      <td>4.0</td>\n",
       "      <td>4.0</td>\n",
       "      <td>35.00</td>\n",
       "      <td>0.0</td>\n",
       "      <td>29205</td>\n",
       "      <td>0</td>\n",
       "    </tr>\n",
       "    <tr>\n",
       "      <th>3</th>\n",
       "      <td>A013010041908025639221029</td>\n",
       "      <td>71051536</td>\n",
       "      <td>20.00</td>\n",
       "      <td>2016-03-21 08:11:38</td>\n",
       "      <td>0</td>\n",
       "      <td>0</td>\n",
       "      <td>0</td>\n",
       "      <td>0</td>\n",
       "      <td>38</td>\n",
       "      <td>0.0</td>\n",
       "      <td>...</td>\n",
       "      <td>39.274924</td>\n",
       "      <td>0</td>\n",
       "      <td>1</td>\n",
       "      <td>4.0</td>\n",
       "      <td>4.0</td>\n",
       "      <td>4.0</td>\n",
       "      <td>20.00</td>\n",
       "      <td>0.0</td>\n",
       "      <td>29498</td>\n",
       "      <td>0</td>\n",
       "    </tr>\n",
       "    <tr>\n",
       "      <th>4</th>\n",
       "      <td>A013010003908005556100283</td>\n",
       "      <td>71051538</td>\n",
       "      <td>20.00</td>\n",
       "      <td>2016-03-21 08:17:11</td>\n",
       "      <td>0</td>\n",
       "      <td>0</td>\n",
       "      <td>0</td>\n",
       "      <td>0</td>\n",
       "      <td>26</td>\n",
       "      <td>0.0</td>\n",
       "      <td>...</td>\n",
       "      <td>39.274924</td>\n",
       "      <td>0</td>\n",
       "      <td>1</td>\n",
       "      <td>4.0</td>\n",
       "      <td>4.0</td>\n",
       "      <td>4.0</td>\n",
       "      <td>20.00</td>\n",
       "      <td>0.0</td>\n",
       "      <td>29831</td>\n",
       "      <td>0</td>\n",
       "    </tr>\n",
       "  </tbody>\n",
       "</table>\n",
       "<p>5 rows × 23 columns</p>\n",
       "</div>"
      ],
      "text/plain": [
       "                      ZIBZIN  IDAvisAutorisAtionCheque  MontAnt  \\\n",
       "0  A034010041908012010710730                  71051532    40.17   \n",
       "1  A035010041908006493331734                  71051533    20.00   \n",
       "2  A013010003908005150136747                  71051534    35.00   \n",
       "3  A013010041908025639221029                  71051536    20.00   \n",
       "4  A013010003908005556100283                  71051538    20.00   \n",
       "\n",
       "       DAteTrAnsAction  CodeDecision  VerifiAnceCPT1  VerifiAnceCPT2  \\\n",
       "0  2016-03-21 07:47:38             0               1               1   \n",
       "1  2016-03-21 08:04:57             0               0               0   \n",
       "2  2016-03-21 08:06:45             0               0               0   \n",
       "3  2016-03-21 08:11:38             0               0               0   \n",
       "4  2016-03-21 08:17:11             0               0               0   \n",
       "\n",
       "   VerifiAnceCPT3  D2CB  ScoringFP1  ...  TAuxImpNB_CPM  EcArtNumCheq  \\\n",
       "0               1   535         0.0  ...      21.834061             0   \n",
       "1               0   358         0.0  ...      12.586532             0   \n",
       "2               0   199         0.0  ...      39.274924             0   \n",
       "3               0    38         0.0  ...      39.274924             0   \n",
       "4               0    26         0.0  ...      39.274924             0   \n",
       "\n",
       "   NbrMAgAsin3J  DiffDAteTr1  DiffDAteTr2  DiffDAteTr3  CA3TRetMtt  CA3TR  \\\n",
       "0             1          4.0          4.0          4.0       40.17    0.0   \n",
       "1             1          4.0          4.0          4.0       20.00    0.0   \n",
       "2             1          4.0          4.0          4.0       35.00    0.0   \n",
       "3             1          4.0          4.0          4.0       20.00    0.0   \n",
       "4             1          4.0          4.0          4.0       20.00    0.0   \n",
       "\n",
       "   Heure  FlAgImpAye  \n",
       "0  28058           0  \n",
       "1  29097           0  \n",
       "2  29205           0  \n",
       "3  29498           0  \n",
       "4  29831           0  \n",
       "\n",
       "[5 rows x 23 columns]"
      ]
     },
     "execution_count": 16,
     "metadata": {},
     "output_type": "execute_result"
    }
   ],
   "source": [
    "df.head()"
   ]
  },
  {
   "cell_type": "code",
   "execution_count": 19,
   "metadata": {},
   "outputs": [
    {
     "name": "stdout",
     "output_type": "stream",
     "text": [
      "(2231369, 23)\n",
      "<class 'pandas.core.frame.DataFrame'>\n",
      "RangeIndex: 2231369 entries, 0 to 2231368\n",
      "Data columns (total 23 columns):\n",
      " #   Column                    Dtype  \n",
      "---  ------                    -----  \n",
      " 0   ZIBZIN                    object \n",
      " 1   IDAvisAutorisAtionCheque  int64  \n",
      " 2   MontAnt                   float64\n",
      " 3   DAteTrAnsAction           object \n",
      " 4   CodeDecision              int64  \n",
      " 5   VerifiAnceCPT1            int64  \n",
      " 6   VerifiAnceCPT2            int64  \n",
      " 7   VerifiAnceCPT3            int64  \n",
      " 8   D2CB                      int64  \n",
      " 9   ScoringFP1                float64\n",
      " 10  ScoringFP2                float64\n",
      " 11  ScoringFP3                float64\n",
      " 12  TAuxImpNb_RB              float64\n",
      " 13  TAuxImpNB_CPM             float64\n",
      " 14  EcArtNumCheq              int64  \n",
      " 15  NbrMAgAsin3J              int64  \n",
      " 16  DiffDAteTr1               float64\n",
      " 17  DiffDAteTr2               float64\n",
      " 18  DiffDAteTr3               float64\n",
      " 19  CA3TRetMtt                float64\n",
      " 20  CA3TR                     float64\n",
      " 21  Heure                     int64  \n",
      " 22  FlAgImpAye                int64  \n",
      "dtypes: float64(11), int64(10), object(2)\n",
      "memory usage: 391.6+ MB\n",
      "None\n"
     ]
    }
   ],
   "source": [
    "print(np.shape(df))\n",
    "print(df.info())"
   ]
  },
  {
   "cell_type": "markdown",
   "metadata": {},
   "source": [
    "Nous avons une base de données de plus de 2 millions de transactions (2 231 369) caractérisé par 23 variables. La plus part sont quantitative de type \"int64\" et \"float64\". Deux variables sont de type qualitative : \"ZIBZIN\" qui correspond a l'indentifiant de la personne et la variable \"DAteTrAnsAction\" qui correspond à la date de la transaction."
   ]
  },
  {
   "cell_type": "code",
   "execution_count": 21,
   "metadata": {},
   "outputs": [
    {
     "data": {
      "text/html": [
       "<div>\n",
       "<style scoped>\n",
       "    .dataframe tbody tr th:only-of-type {\n",
       "        vertical-align: middle;\n",
       "    }\n",
       "\n",
       "    .dataframe tbody tr th {\n",
       "        vertical-align: top;\n",
       "    }\n",
       "\n",
       "    .dataframe thead th {\n",
       "        text-align: right;\n",
       "    }\n",
       "</style>\n",
       "<table border=\"1\" class=\"dataframe\">\n",
       "  <thead>\n",
       "    <tr style=\"text-align: right;\">\n",
       "      <th></th>\n",
       "      <th>IDAvisAutorisAtionCheque</th>\n",
       "      <th>MontAnt</th>\n",
       "      <th>CodeDecision</th>\n",
       "      <th>VerifiAnceCPT1</th>\n",
       "      <th>VerifiAnceCPT2</th>\n",
       "      <th>VerifiAnceCPT3</th>\n",
       "      <th>D2CB</th>\n",
       "      <th>ScoringFP1</th>\n",
       "      <th>ScoringFP2</th>\n",
       "      <th>ScoringFP3</th>\n",
       "      <th>...</th>\n",
       "      <th>TAuxImpNB_CPM</th>\n",
       "      <th>EcArtNumCheq</th>\n",
       "      <th>NbrMAgAsin3J</th>\n",
       "      <th>DiffDAteTr1</th>\n",
       "      <th>DiffDAteTr2</th>\n",
       "      <th>DiffDAteTr3</th>\n",
       "      <th>CA3TRetMtt</th>\n",
       "      <th>CA3TR</th>\n",
       "      <th>Heure</th>\n",
       "      <th>FlAgImpAye</th>\n",
       "    </tr>\n",
       "  </thead>\n",
       "  <tbody>\n",
       "    <tr>\n",
       "      <th>count</th>\n",
       "      <td>2.231369e+06</td>\n",
       "      <td>2.231369e+06</td>\n",
       "      <td>2.231369e+06</td>\n",
       "      <td>2.231369e+06</td>\n",
       "      <td>2.231369e+06</td>\n",
       "      <td>2.231369e+06</td>\n",
       "      <td>2.231369e+06</td>\n",
       "      <td>2.231369e+06</td>\n",
       "      <td>2.231369e+06</td>\n",
       "      <td>2.231369e+06</td>\n",
       "      <td>...</td>\n",
       "      <td>2.231369e+06</td>\n",
       "      <td>2.231369e+06</td>\n",
       "      <td>2.231369e+06</td>\n",
       "      <td>2.231369e+06</td>\n",
       "      <td>2.231369e+06</td>\n",
       "      <td>2.231369e+06</td>\n",
       "      <td>2.231369e+06</td>\n",
       "      <td>2.231369e+06</td>\n",
       "      <td>2.231369e+06</td>\n",
       "      <td>2.231369e+06</td>\n",
       "    </tr>\n",
       "    <tr>\n",
       "      <th>mean</th>\n",
       "      <td>7.356762e+07</td>\n",
       "      <td>5.991771e+01</td>\n",
       "      <td>1.288043e-02</td>\n",
       "      <td>3.991402e-01</td>\n",
       "      <td>4.296752e-01</td>\n",
       "      <td>4.816980e-01</td>\n",
       "      <td>2.477938e+02</td>\n",
       "      <td>3.100542e+00</td>\n",
       "      <td>6.882686e-01</td>\n",
       "      <td>1.769416e-01</td>\n",
       "      <td>...</td>\n",
       "      <td>3.256122e+01</td>\n",
       "      <td>6.724334e+03</td>\n",
       "      <td>1.034200e+00</td>\n",
       "      <td>3.947808e+00</td>\n",
       "      <td>4.234163e+00</td>\n",
       "      <td>4.266234e+00</td>\n",
       "      <td>6.683475e+01</td>\n",
       "      <td>6.917041e+00</td>\n",
       "      <td>5.347306e+04</td>\n",
       "      <td>2.804108e-03</td>\n",
       "    </tr>\n",
       "    <tr>\n",
       "      <th>std</th>\n",
       "      <td>1.458268e+06</td>\n",
       "      <td>7.980922e+01</td>\n",
       "      <td>1.682062e-01</td>\n",
       "      <td>5.250070e-01</td>\n",
       "      <td>6.056457e-01</td>\n",
       "      <td>7.339127e-01</td>\n",
       "      <td>2.131088e+02</td>\n",
       "      <td>3.047480e+01</td>\n",
       "      <td>9.336748e+00</td>\n",
       "      <td>5.662696e-01</td>\n",
       "      <td>...</td>\n",
       "      <td>3.475789e+01</td>\n",
       "      <td>1.742520e+05</td>\n",
       "      <td>1.862585e-01</td>\n",
       "      <td>1.078915e+00</td>\n",
       "      <td>5.510923e-01</td>\n",
       "      <td>4.643674e-01</td>\n",
       "      <td>8.929606e+01</td>\n",
       "      <td>3.550385e+01</td>\n",
       "      <td>1.200173e+04</td>\n",
       "      <td>5.287955e-02</td>\n",
       "    </tr>\n",
       "    <tr>\n",
       "      <th>min</th>\n",
       "      <td>7.105153e+07</td>\n",
       "      <td>1.000000e-02</td>\n",
       "      <td>0.000000e+00</td>\n",
       "      <td>0.000000e+00</td>\n",
       "      <td>0.000000e+00</td>\n",
       "      <td>0.000000e+00</td>\n",
       "      <td>1.000000e+00</td>\n",
       "      <td>0.000000e+00</td>\n",
       "      <td>-4.969986e+01</td>\n",
       "      <td>0.000000e+00</td>\n",
       "      <td>...</td>\n",
       "      <td>0.000000e+00</td>\n",
       "      <td>0.000000e+00</td>\n",
       "      <td>1.000000e+00</td>\n",
       "      <td>0.000000e+00</td>\n",
       "      <td>4.745370e-04</td>\n",
       "      <td>1.365741e-03</td>\n",
       "      <td>1.000000e-02</td>\n",
       "      <td>0.000000e+00</td>\n",
       "      <td>1.336000e+03</td>\n",
       "      <td>0.000000e+00</td>\n",
       "    </tr>\n",
       "    <tr>\n",
       "      <th>25%</th>\n",
       "      <td>7.232987e+07</td>\n",
       "      <td>2.500000e+01</td>\n",
       "      <td>0.000000e+00</td>\n",
       "      <td>0.000000e+00</td>\n",
       "      <td>0.000000e+00</td>\n",
       "      <td>0.000000e+00</td>\n",
       "      <td>1.000000e+00</td>\n",
       "      <td>5.874265e-03</td>\n",
       "      <td>-2.869431e+00</td>\n",
       "      <td>1.179973e-03</td>\n",
       "      <td>...</td>\n",
       "      <td>1.390821e+01</td>\n",
       "      <td>0.000000e+00</td>\n",
       "      <td>1.000000e+00</td>\n",
       "      <td>4.000000e+00</td>\n",
       "      <td>4.000000e+00</td>\n",
       "      <td>4.000000e+00</td>\n",
       "      <td>2.792000e+01</td>\n",
       "      <td>0.000000e+00</td>\n",
       "      <td>4.248500e+04</td>\n",
       "      <td>0.000000e+00</td>\n",
       "    </tr>\n",
       "    <tr>\n",
       "      <th>50%</th>\n",
       "      <td>7.353719e+07</td>\n",
       "      <td>4.235000e+01</td>\n",
       "      <td>0.000000e+00</td>\n",
       "      <td>0.000000e+00</td>\n",
       "      <td>0.000000e+00</td>\n",
       "      <td>0.000000e+00</td>\n",
       "      <td>2.430000e+02</td>\n",
       "      <td>1.543502e-02</td>\n",
       "      <td>0.000000e+00</td>\n",
       "      <td>2.131271e-03</td>\n",
       "      <td>...</td>\n",
       "      <td>2.526529e+01</td>\n",
       "      <td>0.000000e+00</td>\n",
       "      <td>1.000000e+00</td>\n",
       "      <td>4.000000e+00</td>\n",
       "      <td>4.000000e+00</td>\n",
       "      <td>4.000000e+00</td>\n",
       "      <td>4.732000e+01</td>\n",
       "      <td>0.000000e+00</td>\n",
       "      <td>5.488200e+04</td>\n",
       "      <td>0.000000e+00</td>\n",
       "    </tr>\n",
       "    <tr>\n",
       "      <th>75%</th>\n",
       "      <td>7.480167e+07</td>\n",
       "      <td>7.205000e+01</td>\n",
       "      <td>0.000000e+00</td>\n",
       "      <td>1.000000e+00</td>\n",
       "      <td>1.000000e+00</td>\n",
       "      <td>1.000000e+00</td>\n",
       "      <td>4.680000e+02</td>\n",
       "      <td>1.370299e-01</td>\n",
       "      <td>5.289664e+00</td>\n",
       "      <td>1.533859e-02</td>\n",
       "      <td>...</td>\n",
       "      <td>3.927492e+01</td>\n",
       "      <td>0.000000e+00</td>\n",
       "      <td>1.000000e+00</td>\n",
       "      <td>5.000000e+00</td>\n",
       "      <td>5.000000e+00</td>\n",
       "      <td>5.000000e+00</td>\n",
       "      <td>8.130000e+01</td>\n",
       "      <td>0.000000e+00</td>\n",
       "      <td>6.390700e+04</td>\n",
       "      <td>0.000000e+00</td>\n",
       "    </tr>\n",
       "    <tr>\n",
       "      <th>max</th>\n",
       "      <td>7.619241e+07</td>\n",
       "      <td>1.698534e+04</td>\n",
       "      <td>3.000000e+00</td>\n",
       "      <td>1.500000e+01</td>\n",
       "      <td>4.000000e+01</td>\n",
       "      <td>4.000000e+01</td>\n",
       "      <td>5.510000e+02</td>\n",
       "      <td>1.680000e+04</td>\n",
       "      <td>4.702998e+01</td>\n",
       "      <td>1.839140e+01</td>\n",
       "      <td>...</td>\n",
       "      <td>7.142857e+02</td>\n",
       "      <td>9.993474e+06</td>\n",
       "      <td>1.000000e+01</td>\n",
       "      <td>5.000000e+00</td>\n",
       "      <td>5.000000e+00</td>\n",
       "      <td>5.000000e+00</td>\n",
       "      <td>1.698534e+04</td>\n",
       "      <td>1.060000e+04</td>\n",
       "      <td>8.256400e+04</td>\n",
       "      <td>1.000000e+00</td>\n",
       "    </tr>\n",
       "  </tbody>\n",
       "</table>\n",
       "<p>8 rows × 21 columns</p>\n",
       "</div>"
      ],
      "text/plain": [
       "       IDAvisAutorisAtionCheque       MontAnt  CodeDecision  VerifiAnceCPT1  \\\n",
       "count              2.231369e+06  2.231369e+06  2.231369e+06    2.231369e+06   \n",
       "mean               7.356762e+07  5.991771e+01  1.288043e-02    3.991402e-01   \n",
       "std                1.458268e+06  7.980922e+01  1.682062e-01    5.250070e-01   \n",
       "min                7.105153e+07  1.000000e-02  0.000000e+00    0.000000e+00   \n",
       "25%                7.232987e+07  2.500000e+01  0.000000e+00    0.000000e+00   \n",
       "50%                7.353719e+07  4.235000e+01  0.000000e+00    0.000000e+00   \n",
       "75%                7.480167e+07  7.205000e+01  0.000000e+00    1.000000e+00   \n",
       "max                7.619241e+07  1.698534e+04  3.000000e+00    1.500000e+01   \n",
       "\n",
       "       VerifiAnceCPT2  VerifiAnceCPT3          D2CB    ScoringFP1  \\\n",
       "count    2.231369e+06    2.231369e+06  2.231369e+06  2.231369e+06   \n",
       "mean     4.296752e-01    4.816980e-01  2.477938e+02  3.100542e+00   \n",
       "std      6.056457e-01    7.339127e-01  2.131088e+02  3.047480e+01   \n",
       "min      0.000000e+00    0.000000e+00  1.000000e+00  0.000000e+00   \n",
       "25%      0.000000e+00    0.000000e+00  1.000000e+00  5.874265e-03   \n",
       "50%      0.000000e+00    0.000000e+00  2.430000e+02  1.543502e-02   \n",
       "75%      1.000000e+00    1.000000e+00  4.680000e+02  1.370299e-01   \n",
       "max      4.000000e+01    4.000000e+01  5.510000e+02  1.680000e+04   \n",
       "\n",
       "         ScoringFP2    ScoringFP3  ...  TAuxImpNB_CPM  EcArtNumCheq  \\\n",
       "count  2.231369e+06  2.231369e+06  ...   2.231369e+06  2.231369e+06   \n",
       "mean   6.882686e-01  1.769416e-01  ...   3.256122e+01  6.724334e+03   \n",
       "std    9.336748e+00  5.662696e-01  ...   3.475789e+01  1.742520e+05   \n",
       "min   -4.969986e+01  0.000000e+00  ...   0.000000e+00  0.000000e+00   \n",
       "25%   -2.869431e+00  1.179973e-03  ...   1.390821e+01  0.000000e+00   \n",
       "50%    0.000000e+00  2.131271e-03  ...   2.526529e+01  0.000000e+00   \n",
       "75%    5.289664e+00  1.533859e-02  ...   3.927492e+01  0.000000e+00   \n",
       "max    4.702998e+01  1.839140e+01  ...   7.142857e+02  9.993474e+06   \n",
       "\n",
       "       NbrMAgAsin3J   DiffDAteTr1   DiffDAteTr2   DiffDAteTr3    CA3TRetMtt  \\\n",
       "count  2.231369e+06  2.231369e+06  2.231369e+06  2.231369e+06  2.231369e+06   \n",
       "mean   1.034200e+00  3.947808e+00  4.234163e+00  4.266234e+00  6.683475e+01   \n",
       "std    1.862585e-01  1.078915e+00  5.510923e-01  4.643674e-01  8.929606e+01   \n",
       "min    1.000000e+00  0.000000e+00  4.745370e-04  1.365741e-03  1.000000e-02   \n",
       "25%    1.000000e+00  4.000000e+00  4.000000e+00  4.000000e+00  2.792000e+01   \n",
       "50%    1.000000e+00  4.000000e+00  4.000000e+00  4.000000e+00  4.732000e+01   \n",
       "75%    1.000000e+00  5.000000e+00  5.000000e+00  5.000000e+00  8.130000e+01   \n",
       "max    1.000000e+01  5.000000e+00  5.000000e+00  5.000000e+00  1.698534e+04   \n",
       "\n",
       "              CA3TR         Heure    FlAgImpAye  \n",
       "count  2.231369e+06  2.231369e+06  2.231369e+06  \n",
       "mean   6.917041e+00  5.347306e+04  2.804108e-03  \n",
       "std    3.550385e+01  1.200173e+04  5.287955e-02  \n",
       "min    0.000000e+00  1.336000e+03  0.000000e+00  \n",
       "25%    0.000000e+00  4.248500e+04  0.000000e+00  \n",
       "50%    0.000000e+00  5.488200e+04  0.000000e+00  \n",
       "75%    0.000000e+00  6.390700e+04  0.000000e+00  \n",
       "max    1.060000e+04  8.256400e+04  1.000000e+00  \n",
       "\n",
       "[8 rows x 21 columns]"
      ]
     },
     "execution_count": 21,
     "metadata": {},
     "output_type": "execute_result"
    }
   ],
   "source": [
    "df.describe()"
   ]
  },
  {
   "cell_type": "code",
   "execution_count": 22,
   "metadata": {},
   "outputs": [
    {
     "data": {
      "text/plain": [
       "<matplotlib.axes._subplots.AxesSubplot at 0x1b2257721f0>"
      ]
     },
     "execution_count": 22,
     "metadata": {},
     "output_type": "execute_result"
    },
    {
     "data": {
      "image/png": "[encoded data removed]",
      "text/plain": [
       "<Figure size 1800x720 with 2 Axes>"
      ]
     },
     "metadata": {
      "needs_background": "light"
     },
     "output_type": "display_data"
    }
   ],
   "source": [
    "# Null Values\n",
    "mn.matrix(df)"
   ]
  },
  {
   "cell_type": "code",
   "execution_count": 12,
   "metadata": {},
   "outputs": [
    {
     "data": {
      "text/html": [
       "<div>\n",
       "<style scoped>\n",
       "    .dataframe tbody tr th:only-of-type {\n",
       "        vertical-align: middle;\n",
       "    }\n",
       "\n",
       "    .dataframe tbody tr th {\n",
       "        vertical-align: top;\n",
       "    }\n",
       "\n",
       "    .dataframe thead th {\n",
       "        text-align: right;\n",
       "    }\n",
       "</style>\n",
       "<table border=\"1\" class=\"dataframe\">\n",
       "  <thead>\n",
       "    <tr style=\"text-align: right;\">\n",
       "      <th></th>\n",
       "      <th>Column Name</th>\n",
       "      <th>Null Values</th>\n",
       "      <th>Null Values Percentage</th>\n",
       "    </tr>\n",
       "  </thead>\n",
       "  <tbody>\n",
       "    <tr>\n",
       "      <th>0</th>\n",
       "      <td>ZIBZIN</td>\n",
       "      <td>0</td>\n",
       "      <td>0.0</td>\n",
       "    </tr>\n",
       "    <tr>\n",
       "      <th>12</th>\n",
       "      <td>TAuxImpNb_RB</td>\n",
       "      <td>0</td>\n",
       "      <td>0.0</td>\n",
       "    </tr>\n",
       "    <tr>\n",
       "      <th>21</th>\n",
       "      <td>Heure</td>\n",
       "      <td>0</td>\n",
       "      <td>0.0</td>\n",
       "    </tr>\n",
       "    <tr>\n",
       "      <th>20</th>\n",
       "      <td>CA3TR</td>\n",
       "      <td>0</td>\n",
       "      <td>0.0</td>\n",
       "    </tr>\n",
       "    <tr>\n",
       "      <th>19</th>\n",
       "      <td>CA3TRetMtt</td>\n",
       "      <td>0</td>\n",
       "      <td>0.0</td>\n",
       "    </tr>\n",
       "    <tr>\n",
       "      <th>18</th>\n",
       "      <td>DiffDAteTr3</td>\n",
       "      <td>0</td>\n",
       "      <td>0.0</td>\n",
       "    </tr>\n",
       "    <tr>\n",
       "      <th>17</th>\n",
       "      <td>DiffDAteTr2</td>\n",
       "      <td>0</td>\n",
       "      <td>0.0</td>\n",
       "    </tr>\n",
       "    <tr>\n",
       "      <th>16</th>\n",
       "      <td>DiffDAteTr1</td>\n",
       "      <td>0</td>\n",
       "      <td>0.0</td>\n",
       "    </tr>\n",
       "    <tr>\n",
       "      <th>15</th>\n",
       "      <td>NbrMAgAsin3J</td>\n",
       "      <td>0</td>\n",
       "      <td>0.0</td>\n",
       "    </tr>\n",
       "    <tr>\n",
       "      <th>14</th>\n",
       "      <td>EcArtNumCheq</td>\n",
       "      <td>0</td>\n",
       "      <td>0.0</td>\n",
       "    </tr>\n",
       "    <tr>\n",
       "      <th>13</th>\n",
       "      <td>TAuxImpNB_CPM</td>\n",
       "      <td>0</td>\n",
       "      <td>0.0</td>\n",
       "    </tr>\n",
       "    <tr>\n",
       "      <th>11</th>\n",
       "      <td>ScoringFP3</td>\n",
       "      <td>0</td>\n",
       "      <td>0.0</td>\n",
       "    </tr>\n",
       "    <tr>\n",
       "      <th>1</th>\n",
       "      <td>IDAvisAutorisAtionCheque</td>\n",
       "      <td>0</td>\n",
       "      <td>0.0</td>\n",
       "    </tr>\n",
       "    <tr>\n",
       "      <th>10</th>\n",
       "      <td>ScoringFP2</td>\n",
       "      <td>0</td>\n",
       "      <td>0.0</td>\n",
       "    </tr>\n",
       "    <tr>\n",
       "      <th>9</th>\n",
       "      <td>ScoringFP1</td>\n",
       "      <td>0</td>\n",
       "      <td>0.0</td>\n",
       "    </tr>\n",
       "    <tr>\n",
       "      <th>8</th>\n",
       "      <td>D2CB</td>\n",
       "      <td>0</td>\n",
       "      <td>0.0</td>\n",
       "    </tr>\n",
       "    <tr>\n",
       "      <th>7</th>\n",
       "      <td>VerifiAnceCPT3</td>\n",
       "      <td>0</td>\n",
       "      <td>0.0</td>\n",
       "    </tr>\n",
       "    <tr>\n",
       "      <th>6</th>\n",
       "      <td>VerifiAnceCPT2</td>\n",
       "      <td>0</td>\n",
       "      <td>0.0</td>\n",
       "    </tr>\n",
       "    <tr>\n",
       "      <th>5</th>\n",
       "      <td>VerifiAnceCPT1</td>\n",
       "      <td>0</td>\n",
       "      <td>0.0</td>\n",
       "    </tr>\n",
       "    <tr>\n",
       "      <th>4</th>\n",
       "      <td>CodeDecision</td>\n",
       "      <td>0</td>\n",
       "      <td>0.0</td>\n",
       "    </tr>\n",
       "    <tr>\n",
       "      <th>3</th>\n",
       "      <td>DAteTrAnsAction</td>\n",
       "      <td>0</td>\n",
       "      <td>0.0</td>\n",
       "    </tr>\n",
       "    <tr>\n",
       "      <th>2</th>\n",
       "      <td>MontAnt</td>\n",
       "      <td>0</td>\n",
       "      <td>0.0</td>\n",
       "    </tr>\n",
       "    <tr>\n",
       "      <th>22</th>\n",
       "      <td>FlAgImpAye</td>\n",
       "      <td>0</td>\n",
       "      <td>0.0</td>\n",
       "    </tr>\n",
       "  </tbody>\n",
       "</table>\n",
       "</div>"
      ],
      "text/plain": [
       "                 Column Name  Null Values  Null Values Percentage\n",
       "0                     ZIBZIN            0                     0.0\n",
       "12              TAuxImpNb_RB            0                     0.0\n",
       "21                     Heure            0                     0.0\n",
       "20                     CA3TR            0                     0.0\n",
       "19                CA3TRetMtt            0                     0.0\n",
       "18               DiffDAteTr3            0                     0.0\n",
       "17               DiffDAteTr2            0                     0.0\n",
       "16               DiffDAteTr1            0                     0.0\n",
       "15              NbrMAgAsin3J            0                     0.0\n",
       "14              EcArtNumCheq            0                     0.0\n",
       "13             TAuxImpNB_CPM            0                     0.0\n",
       "11                ScoringFP3            0                     0.0\n",
       "1   IDAvisAutorisAtionCheque            0                     0.0\n",
       "10                ScoringFP2            0                     0.0\n",
       "9                 ScoringFP1            0                     0.0\n",
       "8                       D2CB            0                     0.0\n",
       "7             VerifiAnceCPT3            0                     0.0\n",
       "6             VerifiAnceCPT2            0                     0.0\n",
       "5             VerifiAnceCPT1            0                     0.0\n",
       "4               CodeDecision            0                     0.0\n",
       "3            DAteTrAnsAction            0                     0.0\n",
       "2                    MontAnt            0                     0.0\n",
       "22                FlAgImpAye            0                     0.0"
      ]
     },
     "execution_count": 12,
     "metadata": {},
     "output_type": "execute_result"
    }
   ],
   "source": [
    "null_df_perc = pd.DataFrame((df.isnull().sum())*100/df.shape[0]).reset_index()\n",
    "null_df_perc.columns = ['Column Name', 'Null Values Percentage']\n",
    "null_df_value = pd.DataFrame(df.isnull().sum()).reset_index()\n",
    "null_df_value.columns = ['Column Name', 'Null Values']\n",
    "null_df = pd.merge(null_df_value, null_df_perc, on='Column Name')\n",
    "null_df.sort_values(by='Null Values Percentage', ascending=False)"
   ]
  },
  {
   "cell_type": "code",
   "execution_count": 14,
   "metadata": {},
   "outputs": [
    {
     "name": "stdout",
     "output_type": "stream",
     "text": [
      "ZIBZIN                      0\n",
      "IDAvisAutorisAtionCheque    0\n",
      "MontAnt                     0\n",
      "DAteTrAnsAction             0\n",
      "CodeDecision                0\n",
      "VerifiAnceCPT1              0\n",
      "VerifiAnceCPT2              0\n",
      "VerifiAnceCPT3              0\n",
      "D2CB                        0\n",
      "ScoringFP1                  0\n",
      "ScoringFP2                  0\n",
      "ScoringFP3                  0\n",
      "TAuxImpNb_RB                0\n",
      "TAuxImpNB_CPM               0\n",
      "EcArtNumCheq                0\n",
      "NbrMAgAsin3J                0\n",
      "DiffDAteTr1                 0\n",
      "DiffDAteTr2                 0\n",
      "DiffDAteTr3                 0\n",
      "CA3TRetMtt                  0\n",
      "CA3TR                       0\n",
      "Heure                       0\n",
      "FlAgImpAye                  0\n",
      "dtype: int64\n"
     ]
    }
   ],
   "source": [
    "print(df.isnull().sum())"
   ]
  },
  {
   "cell_type": "markdown",
   "metadata": {},
   "source": [
    "Il y a 0 null values "
   ]
  },
  {
   "cell_type": "markdown",
   "metadata": {},
   "source": [
    "# Analyse univarié"
   ]
  },
  {
   "cell_type": "code",
   "execution_count": 6,
   "metadata": {},
   "outputs": [
    {
     "data": {
      "text/plain": [
       "0    2225112\n",
       "1       6257\n",
       "Name: FlAgImpAye, dtype: int64"
      ]
     },
     "execution_count": 6,
     "metadata": {},
     "output_type": "execute_result"
    }
   ],
   "source": [
    "pd.value_counts(df['FlAgImpAye'])"
   ]
  },
  {
   "cell_type": "markdown",
   "metadata": {},
   "source": [
    "On peut voir que la classe \"frauduleuse\" est extremement petite par rapport que la classe normale. En fait, dans ce cas la, oversampling sera mieux comme on ne veut pas perdre les infos importants sur les classes"
   ]
  },
  {
   "cell_type": "markdown",
   "metadata": {},
   "source": [
    "## Extraire Mois pour Train et Test"
   ]
  },
  {
   "cell_type": "markdown",
   "metadata": {},
   "source": [
    "Le but est de creer train et test chrono, pas en aléatoire donc nous allons observer la repartition de mois"
   ]
  },
  {
   "cell_type": "code",
   "execution_count": 83,
   "metadata": {},
   "outputs": [
    {
     "name": "stdout",
     "output_type": "stream",
     "text": [
      "<class 'pandas.core.frame.DataFrame'>\n",
      "RangeIndex: 2231369 entries, 0 to 2231368\n",
      "Data columns (total 24 columns):\n",
      " #   Column                    Dtype         \n",
      "---  ------                    -----         \n",
      " 0   ZIBZIN                    object        \n",
      " 1   IDAvisAutorisAtionCheque  int64         \n",
      " 2   MontAnt                   float64       \n",
      " 3   DAteTrAnsAction           datetime64[ns]\n",
      " 4   CodeDecision              int64         \n",
      " 5   VerifiAnceCPT1            int64         \n",
      " 6   VerifiAnceCPT2            int64         \n",
      " 7   VerifiAnceCPT3            int64         \n",
      " 8   D2CB                      int64         \n",
      " 9   ScoringFP1                float64       \n",
      " 10  ScoringFP2                float64       \n",
      " 11  ScoringFP3                float64       \n",
      " 12  TAuxImpNb_RB              float64       \n",
      " 13  TAuxImpNB_CPM             float64       \n",
      " 14  EcArtNumCheq              int64         \n",
      " 15  NbrMAgAsin3J              int64         \n",
      " 16  DiffDAteTr1               float64       \n",
      " 17  DiffDAteTr2               float64       \n",
      " 18  DiffDAteTr3               float64       \n",
      " 19  CA3TRetMtt                float64       \n",
      " 20  CA3TR                     float64       \n",
      " 21  Heure                     int64         \n",
      " 22  FlAgImpAye                int64         \n",
      " 23  Month                     int64         \n",
      "dtypes: datetime64[ns](1), float64(11), int64(11), object(1)\n",
      "memory usage: 408.6+ MB\n",
      "None\n"
     ]
    }
   ],
   "source": [
    "df['DAteTrAnsAction'] = pd.to_datetime(df['DAteTrAnsAction'])\n",
    "print(df.info())"
   ]
  },
  {
   "cell_type": "code",
   "execution_count": 75,
   "metadata": {},
   "outputs": [
    {
     "name": "stdout",
     "output_type": "stream",
     "text": [
      "[ 3  4  5  6  7  8  9 10]\n"
     ]
    }
   ],
   "source": [
    "df['Month']=df['DAteTrAnsAction'].dt.month\n",
    "a=pd.value_counts(df['Month'])\n",
    "print(df['Month'].unique())"
   ]
  },
  {
   "cell_type": "code",
   "execution_count": 76,
   "metadata": {},
   "outputs": [
    {
     "data": {
      "image/png": "[encoded data removed]",
      "text/plain": [
       "<Figure size 360x360 with 1 Axes>"
      ]
     },
     "metadata": {},
     "output_type": "display_data"
    }
   ],
   "source": [
    "plot = a.plot.pie(y='Month', figsize=(5, 5),autopct='%1.1f%%')"
   ]
  },
  {
   "cell_type": "markdown",
   "metadata": {},
   "source": [
    "Donc nous avons 8 mois en total,le premier et le dernier et celui qui a le moins activité."
   ]
  },
  {
   "cell_type": "markdown",
   "metadata": {},
   "source": [
    "# Train et Test"
   ]
  },
  {
   "cell_type": "code",
   "execution_count": 131,
   "metadata": {},
   "outputs": [
    {
     "name": "stdout",
     "output_type": "stream",
     "text": [
      "['2016-03-21T07:47:38.000000000' '2016-03-21T08:04:57.000000000'\n",
      " '2016-03-21T08:06:45.000000000' ... '2016-09-19T21:15:19.000000000'\n",
      " '2016-09-19T21:43:41.000000000' '2016-09-19T21:51:09.000000000']\n",
      "['2016-09-20T07:33:50.000000000' '2016-09-20T08:05:18.000000000'\n",
      " '2016-09-20T08:06:20.000000000' ... '2016-10-19T21:29:04.000000000'\n",
      " '2016-10-19T21:46:26.000000000' '2016-10-19T21:57:52.000000000']\n"
     ]
    }
   ],
   "source": [
    "Apprenti = df.loc[df['DAteTrAnsAction'] < '2016-09-20'] \n",
    "Test = df.loc[df['DAteTrAnsAction'] >= '2016-09-20'] \n",
    "print(Apprenti['DAteTrAnsAction'].unique())\n",
    "print(Test['DAteTrAnsAction'].unique())"
   ]
  },
  {
   "cell_type": "markdown",
   "metadata": {},
   "source": [
    "On va créer les variables en supprimant les valeurs ID + Date + Heure qui ne nous concernce pas vraiment"
   ]
  },
  {
   "cell_type": "code",
   "execution_count": 147,
   "metadata": {},
   "outputs": [
    {
     "name": "stdout",
     "output_type": "stream",
     "text": [
      "<class 'pandas.core.frame.DataFrame'>\n",
      "Int64Index: 1967226 entries, 0 to 1967225\n",
      "Data columns (total 18 columns):\n",
      " #   Column          Dtype  \n",
      "---  ------          -----  \n",
      " 0   MontAnt         float64\n",
      " 1   CodeDecision    int64  \n",
      " 2   VerifiAnceCPT1  int64  \n",
      " 3   VerifiAnceCPT2  int64  \n",
      " 4   VerifiAnceCPT3  int64  \n",
      " 5   D2CB            int64  \n",
      " 6   ScoringFP1      float64\n",
      " 7   ScoringFP2      float64\n",
      " 8   ScoringFP3      float64\n",
      " 9   TAuxImpNb_RB    float64\n",
      " 10  TAuxImpNB_CPM   float64\n",
      " 11  EcArtNumCheq    int64  \n",
      " 12  NbrMAgAsin3J    int64  \n",
      " 13  DiffDAteTr1     float64\n",
      " 14  DiffDAteTr2     float64\n",
      " 15  DiffDAteTr3     float64\n",
      " 16  CA3TRetMtt      float64\n",
      " 17  CA3TR           float64\n",
      "dtypes: float64(11), int64(7)\n",
      "memory usage: 285.2 MB\n",
      "None\n",
      "0          0\n",
      "1          0\n",
      "2          0\n",
      "3          0\n",
      "4          0\n",
      "          ..\n",
      "1967221    0\n",
      "1967222    0\n",
      "1967223    0\n",
      "1967224    0\n",
      "1967225    1\n",
      "Name: FlAgImpAye, Length: 1967226, dtype: int64\n"
     ]
    }
   ],
   "source": [
    "training_features= Apprenti.drop(Apprenti.columns[[0, 1,3,21,22,23]], axis=1) \n",
    "training_target = Apprenti['FlAgImpAye']\n",
    "#print(X_train.shape)\n",
    "print(training_features.info())\n",
    "print(training_target)"
   ]
  },
  {
   "cell_type": "markdown",
   "metadata": {},
   "source": [
    "Donc on va définir l'ensemble d'entrainement, de validation et test."
   ]
  },
  {
   "cell_type": "code",
   "execution_count": 148,
   "metadata": {},
   "outputs": [],
   "source": [
    "x_train, x_val, y_train, y_val = train_test_split(training_features, training_target,\n",
    "                                                  test_size = 0.3,\n",
    "                                                  shuffle=False \n",
    "                                                  )"
   ]
  },
  {
   "cell_type": "code",
   "execution_count": 149,
   "metadata": {},
   "outputs": [],
   "source": [
    "test_features= Test.drop(Apprenti.columns[[0, 1, 3,21,22,23]], axis=1) \n",
    "test_target = Test['FlAgImpAye']"
   ]
  },
  {
   "cell_type": "markdown",
   "metadata": {},
   "source": [
    "Test ( en commentaire )"
   ]
  },
  {
   "cell_type": "code",
   "execution_count": 24,
   "metadata": {},
   "outputs": [],
   "source": [
    "def plot_decision_function(X, y, clf, ax):\n",
    "    plot_step = 0.02\n",
    "    x_min, x_max = X[:, 0].min() - 1, X[:, 0].max() + 1\n",
    "    y_min, y_max = X[:, 1].min() - 1, X[:, 1].max() + 1\n",
    "    xx, yy = np.meshgrid(np.arange(x_min, x_max, plot_step),\n",
    "                         np.arange(y_min, y_max, plot_step))\n",
    "\n",
    "    Z = clf.predict(np.c_[xx.ravel(), yy.ravel()])\n",
    "    Z = Z.reshape(xx.shape)\n",
    "    ax.contourf(xx, yy, Z, alpha=0.4)\n",
    "    ax.scatter(X[:, 0], X[:, 1], alpha=0.8, c=y, edgecolor='k')"
   ]
  },
  {
   "cell_type": "code",
   "execution_count": 25,
   "metadata": {
    "collapsed": true
   },
   "outputs": [
    {
     "ename": "TypeError",
     "evalue": "'(slice(None, None, None), slice(None, 2, None))' is an invalid key",
     "output_type": "error",
     "traceback": [
      "\u001b[0;31m---------------------------------------------------------------------------\u001b[0m",
      "\u001b[0;31mTypeError\u001b[0m                                 Traceback (most recent call last)",
      "\u001b[0;32m<ipython-input-25-73daa54ef3e3>\u001b[0m in \u001b[0;36m<module>\u001b[0;34m\u001b[0m\n\u001b[1;32m      1\u001b[0m \u001b[0max\u001b[0m \u001b[0;34m=\u001b[0m \u001b[0mplt\u001b[0m\u001b[0;34m.\u001b[0m\u001b[0mgca\u001b[0m\u001b[0;34m(\u001b[0m\u001b[0;34m)\u001b[0m\u001b[0;34m\u001b[0m\u001b[0;34m\u001b[0m\u001b[0m\n\u001b[0;32m----> 2\u001b[0;31m \u001b[0mplot_decision_function\u001b[0m\u001b[0;34m(\u001b[0m\u001b[0mX\u001b[0m\u001b[0;34m[\u001b[0m\u001b[0;34m:\u001b[0m\u001b[0;34m,\u001b[0m \u001b[0;34m:\u001b[0m\u001b[0;36m2\u001b[0m\u001b[0;34m]\u001b[0m\u001b[0;34m[\u001b[0m\u001b[0;34m:\u001b[0m\u001b[0;36m1000\u001b[0m\u001b[0;34m]\u001b[0m\u001b[0;34m,\u001b[0m \u001b[0my\u001b[0m\u001b[0;34m[\u001b[0m\u001b[0;34m:\u001b[0m\u001b[0;36m1000\u001b[0m\u001b[0;34m]\u001b[0m\u001b[0;34m,\u001b[0m \u001b[0mLinearSVC\u001b[0m\u001b[0;34m(\u001b[0m\u001b[0;34m)\u001b[0m\u001b[0;34m.\u001b[0m\u001b[0mfit\u001b[0m\u001b[0;34m(\u001b[0m\u001b[0mX\u001b[0m\u001b[0;34m[\u001b[0m\u001b[0;34m:\u001b[0m\u001b[0;34m,\u001b[0m \u001b[0;34m:\u001b[0m\u001b[0;36m2\u001b[0m\u001b[0;34m]\u001b[0m\u001b[0;34m[\u001b[0m\u001b[0;34m:\u001b[0m\u001b[0;36m5000\u001b[0m\u001b[0;34m]\u001b[0m\u001b[0;34m,\u001b[0m \u001b[0my\u001b[0m\u001b[0;34m[\u001b[0m\u001b[0;34m:\u001b[0m\u001b[0;36m5000\u001b[0m\u001b[0;34m]\u001b[0m\u001b[0;34m)\u001b[0m\u001b[0;34m,\u001b[0m \u001b[0max\u001b[0m\u001b[0;34m)\u001b[0m\u001b[0;34m\u001b[0m\u001b[0;34m\u001b[0m\u001b[0m\n\u001b[0m",
      "\u001b[0;32m~/opt/anaconda3/lib/python3.8/site-packages/pandas/core/frame.py\u001b[0m in \u001b[0;36m__getitem__\u001b[0;34m(self, key)\u001b[0m\n\u001b[1;32m   2798\u001b[0m             \u001b[0;32mif\u001b[0m \u001b[0mself\u001b[0m\u001b[0;34m.\u001b[0m\u001b[0mcolumns\u001b[0m\u001b[0;34m.\u001b[0m\u001b[0mnlevels\u001b[0m \u001b[0;34m>\u001b[0m \u001b[0;36m1\u001b[0m\u001b[0;34m:\u001b[0m\u001b[0;34m\u001b[0m\u001b[0;34m\u001b[0m\u001b[0m\n\u001b[1;32m   2799\u001b[0m                 \u001b[0;32mreturn\u001b[0m \u001b[0mself\u001b[0m\u001b[0;34m.\u001b[0m\u001b[0m_getitem_multilevel\u001b[0m\u001b[0;34m(\u001b[0m\u001b[0mkey\u001b[0m\u001b[0;34m)\u001b[0m\u001b[0;34m\u001b[0m\u001b[0;34m\u001b[0m\u001b[0m\n\u001b[0;32m-> 2800\u001b[0;31m             \u001b[0mindexer\u001b[0m \u001b[0;34m=\u001b[0m \u001b[0mself\u001b[0m\u001b[0;34m.\u001b[0m\u001b[0mcolumns\u001b[0m\u001b[0;34m.\u001b[0m\u001b[0mget_loc\u001b[0m\u001b[0;34m(\u001b[0m\u001b[0mkey\u001b[0m\u001b[0;34m)\u001b[0m\u001b[0;34m\u001b[0m\u001b[0;34m\u001b[0m\u001b[0m\n\u001b[0m\u001b[1;32m   2801\u001b[0m             \u001b[0;32mif\u001b[0m \u001b[0mis_integer\u001b[0m\u001b[0;34m(\u001b[0m\u001b[0mindexer\u001b[0m\u001b[0;34m)\u001b[0m\u001b[0;34m:\u001b[0m\u001b[0;34m\u001b[0m\u001b[0;34m\u001b[0m\u001b[0m\n\u001b[1;32m   2802\u001b[0m                 \u001b[0mindexer\u001b[0m \u001b[0;34m=\u001b[0m \u001b[0;34m[\u001b[0m\u001b[0mindexer\u001b[0m\u001b[0;34m]\u001b[0m\u001b[0;34m\u001b[0m\u001b[0;34m\u001b[0m\u001b[0m\n",
      "\u001b[0;32m~/opt/anaconda3/lib/python3.8/site-packages/pandas/core/indexes/base.py\u001b[0m in \u001b[0;36mget_loc\u001b[0;34m(self, key, method, tolerance)\u001b[0m\n\u001b[1;32m   2644\u001b[0m                 )\n\u001b[1;32m   2645\u001b[0m             \u001b[0;32mtry\u001b[0m\u001b[0;34m:\u001b[0m\u001b[0;34m\u001b[0m\u001b[0;34m\u001b[0m\u001b[0m\n\u001b[0;32m-> 2646\u001b[0;31m                 \u001b[0;32mreturn\u001b[0m \u001b[0mself\u001b[0m\u001b[0;34m.\u001b[0m\u001b[0m_engine\u001b[0m\u001b[0;34m.\u001b[0m\u001b[0mget_loc\u001b[0m\u001b[0;34m(\u001b[0m\u001b[0mkey\u001b[0m\u001b[0;34m)\u001b[0m\u001b[0;34m\u001b[0m\u001b[0;34m\u001b[0m\u001b[0m\n\u001b[0m\u001b[1;32m   2647\u001b[0m             \u001b[0;32mexcept\u001b[0m \u001b[0mKeyError\u001b[0m\u001b[0;34m:\u001b[0m\u001b[0;34m\u001b[0m\u001b[0;34m\u001b[0m\u001b[0m\n\u001b[1;32m   2648\u001b[0m                 \u001b[0;32mreturn\u001b[0m \u001b[0mself\u001b[0m\u001b[0;34m.\u001b[0m\u001b[0m_engine\u001b[0m\u001b[0;34m.\u001b[0m\u001b[0mget_loc\u001b[0m\u001b[0;34m(\u001b[0m\u001b[0mself\u001b[0m\u001b[0;34m.\u001b[0m\u001b[0m_maybe_cast_indexer\u001b[0m\u001b[0;34m(\u001b[0m\u001b[0mkey\u001b[0m\u001b[0;34m)\u001b[0m\u001b[0;34m)\u001b[0m\u001b[0;34m\u001b[0m\u001b[0;34m\u001b[0m\u001b[0m\n",
      "\u001b[0;32mpandas/_libs/index.pyx\u001b[0m in \u001b[0;36mpandas._libs.index.IndexEngine.get_loc\u001b[0;34m()\u001b[0m\n",
      "\u001b[0;32mpandas/_libs/index.pyx\u001b[0m in \u001b[0;36mpandas._libs.index.IndexEngine.get_loc\u001b[0;34m()\u001b[0m\n",
      "\u001b[0;31mTypeError\u001b[0m: '(slice(None, None, None), slice(None, 2, None))' is an invalid key"
     ]
    },
    {
     "data": {
      "image/png": "[encoded data removed]",
      "text/plain": [
       "<Figure size 432x288 with 1 Axes>"
      ]
     },
     "metadata": {
      "needs_background": "light"
     },
     "output_type": "display_data"
    }
   ],
   "source": [
    "ax = plt.gca()\n",
    "plot_decision_function(X[:, :2][:1000], y[:1000], LinearSVC().fit(X[:, :2][:5000], y[:5000]), ax)"
   ]
  },
  {
   "cell_type": "markdown",
   "metadata": {},
   "source": [
    "# SMOTE OverSamplingwith Random Forest"
   ]
  },
  {
   "cell_type": "code",
   "execution_count": 26,
   "metadata": {},
   "outputs": [],
   "source": [
    "#training_features, test_features, \\\n",
    "#training_target, test_target, = train_test_split(df.drop(df.columns[[0, 1, 3,21,22]], axis=1),\n",
    "                                               #df['FlAgImpAye'],\n",
    "                                               #test_size = .1,\n",
    "                                               #random_state=12)"
   ]
  },
  {
   "cell_type": "code",
   "execution_count": 27,
   "metadata": {},
   "outputs": [],
   "source": [
    "#x_train, x_val, y_train, y_val = train_test_split(training_features, training_target,\n",
    "                                                  #test_size = .1,\n",
    "                                                 # random_state=12)"
   ]
  },
  {
   "cell_type": "code",
   "execution_count": 150,
   "metadata": {},
   "outputs": [],
   "source": [
    "sm = SMOTE(random_state=12)\n",
    "x_train_res, y_train_res = sm.fit_sample(x_train, y_train)\n"
   ]
  },
  {
   "cell_type": "code",
   "execution_count": 117,
   "metadata": {},
   "outputs": [
    {
     "data": {
      "text/plain": [
       "Pipeline(steps=[('standardscaler', StandardScaler()),\n",
       "                ('randomforestclassifier',\n",
       "                 RandomForestClassifier(n_estimators=25, random_state=12))])"
      ]
     },
     "execution_count": 117,
     "metadata": {},
     "output_type": "execute_result"
    }
   ],
   "source": [
    "pipe = make_pipeline(StandardScaler(), RandomForestClassifier(n_estimators=25, random_state=12))\n",
    "#clf_rf = RandomForestClassifier(n_estimators=25, random_state=12)\n",
    "#clf_rf.fit(x_train_res, y_train_res)\n",
    "pipe.fit(x_train_res, y_train_res) "
   ]
  },
  {
   "cell_type": "code",
   "execution_count": 37,
   "metadata": {},
   "outputs": [
    {
     "name": "stdout",
     "output_type": "stream",
     "text": [
      "Validation Results\n",
      "0.9935366290881568\n",
      "0.1099290780141844\n",
      "0.08720112517580873\n",
      "\n",
      "Test Results\n",
      "0.9933807481502396\n",
      "0.10725552050473186\n",
      "0.08431494110353377\n"
     ]
    }
   ],
   "source": [
    "print ('Validation Results')\n",
    "print (clf_rf.score(x_val, y_val))\n",
    "print (recall_score(y_val, clf_rf.predict(x_val)))\n",
    "print (f1_score(y_val, clf_rf.predict(x_val)))\n",
    "print ('\\nTest Results')\n",
    "print (clf_rf.score(test_features, test_target))\n",
    "print (recall_score(test_target, clf_rf.predict(test_features)))\n",
    "print (f1_score(test_target, clf_rf.predict(test_features)))"
   ]
  },
  {
   "cell_type": "markdown",
   "metadata": {},
   "source": [
    "# Exporter and save "
   ]
  },
  {
   "cell_type": "code",
   "execution_count": 102,
   "metadata": {},
   "outputs": [
    {
     "ename": "FileNotFoundError",
     "evalue": "[Errno 2] No such file or directory: \"'/Users/hoangkhanhle/Desktop/School/Master 2/Big Data/ProjetFraud/BIG DATA.ipynb'\"",
     "output_type": "error",
     "traceback": [
      "\u001b[0;31m---------------------------------------------------------------------------\u001b[0m",
      "\u001b[0;31mFileNotFoundError\u001b[0m                         Traceback (most recent call last)",
      "\u001b[0;32m<ipython-input-102-ec9c4de6987e>\u001b[0m in \u001b[0;36m<module>\u001b[0;34m\u001b[0m\n\u001b[0;32m----> 1\u001b[0;31m \u001b[0mget_ipython\u001b[0m\u001b[0;34m(\u001b[0m\u001b[0;34m)\u001b[0m\u001b[0;34m.\u001b[0m\u001b[0mrun_line_magic\u001b[0m\u001b[0;34m(\u001b[0m\u001b[0;34m'notebook'\u001b[0m\u001b[0;34m,\u001b[0m \u001b[0;34m\"'/Users/hoangkhanhle/Desktop/School/Master 2/Big Data/ProjetFraud/BIG DATA.ipynb'\"\u001b[0m\u001b[0;34m)\u001b[0m\u001b[0;34m\u001b[0m\u001b[0;34m\u001b[0m\u001b[0m\n\u001b[0m",
      "\u001b[0;32m~/opt/anaconda3/lib/python3.8/site-packages/IPython/core/interactiveshell.py\u001b[0m in \u001b[0;36mrun_line_magic\u001b[0;34m(self, magic_name, line, _stack_depth)\u001b[0m\n\u001b[1;32m   2324\u001b[0m                 \u001b[0mkwargs\u001b[0m\u001b[0;34m[\u001b[0m\u001b[0;34m'local_ns'\u001b[0m\u001b[0;34m]\u001b[0m \u001b[0;34m=\u001b[0m \u001b[0msys\u001b[0m\u001b[0;34m.\u001b[0m\u001b[0m_getframe\u001b[0m\u001b[0;34m(\u001b[0m\u001b[0mstack_depth\u001b[0m\u001b[0;34m)\u001b[0m\u001b[0;34m.\u001b[0m\u001b[0mf_locals\u001b[0m\u001b[0;34m\u001b[0m\u001b[0;34m\u001b[0m\u001b[0m\n\u001b[1;32m   2325\u001b[0m             \u001b[0;32mwith\u001b[0m \u001b[0mself\u001b[0m\u001b[0;34m.\u001b[0m\u001b[0mbuiltin_trap\u001b[0m\u001b[0;34m:\u001b[0m\u001b[0;34m\u001b[0m\u001b[0;34m\u001b[0m\u001b[0m\n\u001b[0;32m-> 2326\u001b[0;31m                 \u001b[0mresult\u001b[0m \u001b[0;34m=\u001b[0m \u001b[0mfn\u001b[0m\u001b[0;34m(\u001b[0m\u001b[0;34m*\u001b[0m\u001b[0margs\u001b[0m\u001b[0;34m,\u001b[0m \u001b[0;34m**\u001b[0m\u001b[0mkwargs\u001b[0m\u001b[0;34m)\u001b[0m\u001b[0;34m\u001b[0m\u001b[0;34m\u001b[0m\u001b[0m\n\u001b[0m\u001b[1;32m   2327\u001b[0m             \u001b[0;32mreturn\u001b[0m \u001b[0mresult\u001b[0m\u001b[0;34m\u001b[0m\u001b[0;34m\u001b[0m\u001b[0m\n\u001b[1;32m   2328\u001b[0m \u001b[0;34m\u001b[0m\u001b[0m\n",
      "\u001b[0;32m<decorator-gen-41>\u001b[0m in \u001b[0;36mnotebook\u001b[0;34m(self, s)\u001b[0m\n",
      "\u001b[0;32m~/opt/anaconda3/lib/python3.8/site-packages/IPython/core/magic.py\u001b[0m in \u001b[0;36m<lambda>\u001b[0;34m(f, *a, **k)\u001b[0m\n\u001b[1;32m    185\u001b[0m     \u001b[0;31m# but it's overkill for just that one bit of state.\u001b[0m\u001b[0;34m\u001b[0m\u001b[0;34m\u001b[0m\u001b[0;34m\u001b[0m\u001b[0m\n\u001b[1;32m    186\u001b[0m     \u001b[0;32mdef\u001b[0m \u001b[0mmagic_deco\u001b[0m\u001b[0;34m(\u001b[0m\u001b[0marg\u001b[0m\u001b[0;34m)\u001b[0m\u001b[0;34m:\u001b[0m\u001b[0;34m\u001b[0m\u001b[0;34m\u001b[0m\u001b[0m\n\u001b[0;32m--> 187\u001b[0;31m         \u001b[0mcall\u001b[0m \u001b[0;34m=\u001b[0m \u001b[0;32mlambda\u001b[0m \u001b[0mf\u001b[0m\u001b[0;34m,\u001b[0m \u001b[0;34m*\u001b[0m\u001b[0ma\u001b[0m\u001b[0;34m,\u001b[0m \u001b[0;34m**\u001b[0m\u001b[0mk\u001b[0m\u001b[0;34m:\u001b[0m \u001b[0mf\u001b[0m\u001b[0;34m(\u001b[0m\u001b[0;34m*\u001b[0m\u001b[0ma\u001b[0m\u001b[0;34m,\u001b[0m \u001b[0;34m**\u001b[0m\u001b[0mk\u001b[0m\u001b[0;34m)\u001b[0m\u001b[0;34m\u001b[0m\u001b[0;34m\u001b[0m\u001b[0m\n\u001b[0m\u001b[1;32m    188\u001b[0m \u001b[0;34m\u001b[0m\u001b[0m\n\u001b[1;32m    189\u001b[0m         \u001b[0;32mif\u001b[0m \u001b[0mcallable\u001b[0m\u001b[0;34m(\u001b[0m\u001b[0marg\u001b[0m\u001b[0;34m)\u001b[0m\u001b[0;34m:\u001b[0m\u001b[0;34m\u001b[0m\u001b[0;34m\u001b[0m\u001b[0m\n",
      "\u001b[0;32m~/opt/anaconda3/lib/python3.8/site-packages/IPython/core/magics/basic.py\u001b[0m in \u001b[0;36mnotebook\u001b[0;34m(self, s)\u001b[0m\n\u001b[1;32m    591\u001b[0m             ))\n\u001b[1;32m    592\u001b[0m         \u001b[0mnb\u001b[0m \u001b[0;34m=\u001b[0m \u001b[0mv4\u001b[0m\u001b[0;34m.\u001b[0m\u001b[0mnew_notebook\u001b[0m\u001b[0;34m(\u001b[0m\u001b[0mcells\u001b[0m\u001b[0;34m=\u001b[0m\u001b[0mcells\u001b[0m\u001b[0;34m)\u001b[0m\u001b[0;34m\u001b[0m\u001b[0;34m\u001b[0m\u001b[0m\n\u001b[0;32m--> 593\u001b[0;31m         \u001b[0;32mwith\u001b[0m \u001b[0mio\u001b[0m\u001b[0;34m.\u001b[0m\u001b[0mopen\u001b[0m\u001b[0;34m(\u001b[0m\u001b[0margs\u001b[0m\u001b[0;34m.\u001b[0m\u001b[0mfilename\u001b[0m\u001b[0;34m,\u001b[0m \u001b[0;34m'w'\u001b[0m\u001b[0;34m,\u001b[0m \u001b[0mencoding\u001b[0m\u001b[0;34m=\u001b[0m\u001b[0;34m'utf-8'\u001b[0m\u001b[0;34m)\u001b[0m \u001b[0;32mas\u001b[0m \u001b[0mf\u001b[0m\u001b[0;34m:\u001b[0m\u001b[0;34m\u001b[0m\u001b[0;34m\u001b[0m\u001b[0m\n\u001b[0m\u001b[1;32m    594\u001b[0m             \u001b[0mwrite\u001b[0m\u001b[0;34m(\u001b[0m\u001b[0mnb\u001b[0m\u001b[0;34m,\u001b[0m \u001b[0mf\u001b[0m\u001b[0;34m,\u001b[0m \u001b[0mversion\u001b[0m\u001b[0;34m=\u001b[0m\u001b[0;36m4\u001b[0m\u001b[0;34m)\u001b[0m\u001b[0;34m\u001b[0m\u001b[0;34m\u001b[0m\u001b[0m\n\u001b[1;32m    595\u001b[0m \u001b[0;34m\u001b[0m\u001b[0m\n",
      "\u001b[0;31mFileNotFoundError\u001b[0m: [Errno 2] No such file or directory: \"'/Users/hoangkhanhle/Desktop/School/Master 2/Big Data/ProjetFraud/BIG DATA.ipynb'\""
     ]
    }
   ],
   "source": [
    "  %notebook '/Users/hoangkhanhle/Desktop/School/Master 2/Big Data/ProjetFraud/BIG DATA.ipynb'"
   ]
  },
  {
   "cell_type": "code",
   "execution_count": null,
   "metadata": {},
   "outputs": [],
   "source": []
  }
 ],
 "metadata": {
  "kernelspec": {
   "display_name": "Python 3",
   "language": "python",
   "name": "python3"
  },
  "language_info": {
   "codemirror_mode": {
    "name": "ipython",
    "version": 3
   },
   "file_extension": ".py",
   "mimetype": "text/x-python",
   "name": "python",
   "nbconvert_exporter": "python",
   "pygments_lexer": "ipython3",
   "version": "3.8.3"
  }
 },
 "nbformat": 4,
 "nbformat_minor": 4
}
