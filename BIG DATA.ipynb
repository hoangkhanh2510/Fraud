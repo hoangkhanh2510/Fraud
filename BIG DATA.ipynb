{
 "cells": [
  {
   "cell_type": "code",
   "execution_count": 115,
   "metadata": {},
   "outputs": [],
   "source": [
    "import numpy as np\n",
    "import pandas as pd\n",
    "import missingno as mn\n",
    "import matplotlib.pyplot as plt\n",
    "from sklearn.svm import LinearSVC\n",
    "from collections import Counter\n",
    "from sklearn.datasets import make_classification\n",
    "from sklearn.ensemble import RandomForestClassifier\n",
    "from sklearn.model_selection import train_test_split\n",
    "from sklearn.metrics import recall_score\n",
    "from sklearn.metrics import f1_score\n",
    "from imblearn.over_sampling import SMOTE\n",
    "from sklearn.pipeline import make_pipeline\n",
    "from sklearn.preprocessing import StandardScaler"
   ]
  },
  {
   "cell_type": "code",
   "execution_count": 3,
   "metadata": {},
   "outputs": [
    {
     "name": "stdout",
     "output_type": "stream",
     "text": [
      "0.7.0\n"
     ]
    }
   ],
   "source": [
    "import imblearn\n",
    "print(imblearn.__version__)"
   ]
  },
  {
   "cell_type": "markdown",
   "metadata": {},
   "source": [
    "# Importation des données"
   ]
  },
  {
   "cell_type": "code",
   "execution_count": 18,
   "metadata": {},
   "outputs": [],
   "source": [
    "df =pd.read_csv(\"/Users/hoangkhanhle/Desktop/School/Master 2/Big Data/dataproject.csv\",encoding=\"utf-8\",header=0, sep =\";\",decimal=',')"
   ]
  },
  {
   "cell_type": "markdown",
   "metadata": {},
   "source": [
    "Il faut faire par chronologie, pas aleatoire, donc par mois , en fonction de la date \n",
    "train = 2 mois valide \n",
    "test = 1 mois "
   ]
  },
  {
   "cell_type": "code",
   "execution_count": 19,
   "metadata": {},
   "outputs": [
    {
     "data": {
      "text/html": [
       "<div>\n",
       "<style scoped>\n",
       "    .dataframe tbody tr th:only-of-type {\n",
       "        vertical-align: middle;\n",
       "    }\n",
       "\n",
       "    .dataframe tbody tr th {\n",
       "        vertical-align: top;\n",
       "    }\n",
       "\n",
       "    .dataframe thead th {\n",
       "        text-align: right;\n",
       "    }\n",
       "</style>\n",
       "<table border=\"1\" class=\"dataframe\">\n",
       "  <thead>\n",
       "    <tr style=\"text-align: right;\">\n",
       "      <th></th>\n",
       "      <th>ZIBZIN</th>\n",
       "      <th>IDAvisAutorisAtionCheque</th>\n",
       "      <th>MontAnt</th>\n",
       "      <th>DAteTrAnsAction</th>\n",
       "      <th>CodeDecision</th>\n",
       "      <th>VerifiAnceCPT1</th>\n",
       "      <th>VerifiAnceCPT2</th>\n",
       "      <th>VerifiAnceCPT3</th>\n",
       "      <th>D2CB</th>\n",
       "      <th>ScoringFP1</th>\n",
       "      <th>...</th>\n",
       "      <th>TAuxImpNB_CPM</th>\n",
       "      <th>EcArtNumCheq</th>\n",
       "      <th>NbrMAgAsin3J</th>\n",
       "      <th>DiffDAteTr1</th>\n",
       "      <th>DiffDAteTr2</th>\n",
       "      <th>DiffDAteTr3</th>\n",
       "      <th>CA3TRetMtt</th>\n",
       "      <th>CA3TR</th>\n",
       "      <th>Heure</th>\n",
       "      <th>FlAgImpAye</th>\n",
       "    </tr>\n",
       "  </thead>\n",
       "  <tbody>\n",
       "    <tr>\n",
       "      <th>0</th>\n",
       "      <td>A034010041908012010710730</td>\n",
       "      <td>71051532</td>\n",
       "      <td>40.17</td>\n",
       "      <td>2016-03-21 07:47:38</td>\n",
       "      <td>0</td>\n",
       "      <td>1</td>\n",
       "      <td>1</td>\n",
       "      <td>1</td>\n",
       "      <td>535</td>\n",
       "      <td>0.000000</td>\n",
       "      <td>...</td>\n",
       "      <td>21.834061</td>\n",
       "      <td>0</td>\n",
       "      <td>1</td>\n",
       "      <td>4.0</td>\n",
       "      <td>4.0</td>\n",
       "      <td>4.0</td>\n",
       "      <td>40.17</td>\n",
       "      <td>0.0</td>\n",
       "      <td>28058</td>\n",
       "      <td>0</td>\n",
       "    </tr>\n",
       "    <tr>\n",
       "      <th>1</th>\n",
       "      <td>A035010041908006493331734</td>\n",
       "      <td>71051533</td>\n",
       "      <td>20.00</td>\n",
       "      <td>2016-03-21 08:04:57</td>\n",
       "      <td>0</td>\n",
       "      <td>0</td>\n",
       "      <td>0</td>\n",
       "      <td>0</td>\n",
       "      <td>358</td>\n",
       "      <td>0.000000</td>\n",
       "      <td>...</td>\n",
       "      <td>12.586532</td>\n",
       "      <td>0</td>\n",
       "      <td>1</td>\n",
       "      <td>4.0</td>\n",
       "      <td>4.0</td>\n",
       "      <td>4.0</td>\n",
       "      <td>20.00</td>\n",
       "      <td>0.0</td>\n",
       "      <td>29097</td>\n",
       "      <td>0</td>\n",
       "    </tr>\n",
       "    <tr>\n",
       "      <th>2</th>\n",
       "      <td>A013010003908005150136747</td>\n",
       "      <td>71051534</td>\n",
       "      <td>35.00</td>\n",
       "      <td>2016-03-21 08:06:45</td>\n",
       "      <td>0</td>\n",
       "      <td>0</td>\n",
       "      <td>0</td>\n",
       "      <td>0</td>\n",
       "      <td>199</td>\n",
       "      <td>0.000000</td>\n",
       "      <td>...</td>\n",
       "      <td>39.274924</td>\n",
       "      <td>0</td>\n",
       "      <td>1</td>\n",
       "      <td>4.0</td>\n",
       "      <td>4.0</td>\n",
       "      <td>4.0</td>\n",
       "      <td>35.00</td>\n",
       "      <td>0.0</td>\n",
       "      <td>29205</td>\n",
       "      <td>0</td>\n",
       "    </tr>\n",
       "    <tr>\n",
       "      <th>3</th>\n",
       "      <td>A013010041908025639221029</td>\n",
       "      <td>71051536</td>\n",
       "      <td>20.00</td>\n",
       "      <td>2016-03-21 08:11:38</td>\n",
       "      <td>0</td>\n",
       "      <td>0</td>\n",
       "      <td>0</td>\n",
       "      <td>0</td>\n",
       "      <td>38</td>\n",
       "      <td>0.000000</td>\n",
       "      <td>...</td>\n",
       "      <td>39.274924</td>\n",
       "      <td>0</td>\n",
       "      <td>1</td>\n",
       "      <td>4.0</td>\n",
       "      <td>4.0</td>\n",
       "      <td>4.0</td>\n",
       "      <td>20.00</td>\n",
       "      <td>0.0</td>\n",
       "      <td>29498</td>\n",
       "      <td>0</td>\n",
       "    </tr>\n",
       "    <tr>\n",
       "      <th>4</th>\n",
       "      <td>A013010003908005556100283</td>\n",
       "      <td>71051538</td>\n",
       "      <td>20.00</td>\n",
       "      <td>2016-03-21 08:17:11</td>\n",
       "      <td>0</td>\n",
       "      <td>0</td>\n",
       "      <td>0</td>\n",
       "      <td>0</td>\n",
       "      <td>26</td>\n",
       "      <td>0.000000</td>\n",
       "      <td>...</td>\n",
       "      <td>39.274924</td>\n",
       "      <td>0</td>\n",
       "      <td>1</td>\n",
       "      <td>4.0</td>\n",
       "      <td>4.0</td>\n",
       "      <td>4.0</td>\n",
       "      <td>20.00</td>\n",
       "      <td>0.0</td>\n",
       "      <td>29831</td>\n",
       "      <td>0</td>\n",
       "    </tr>\n",
       "    <tr>\n",
       "      <th>5</th>\n",
       "      <td>A007010278908891620264901</td>\n",
       "      <td>71051539</td>\n",
       "      <td>35.09</td>\n",
       "      <td>2016-03-21 08:17:26</td>\n",
       "      <td>0</td>\n",
       "      <td>0</td>\n",
       "      <td>0</td>\n",
       "      <td>0</td>\n",
       "      <td>459</td>\n",
       "      <td>0.000000</td>\n",
       "      <td>...</td>\n",
       "      <td>35.523979</td>\n",
       "      <td>0</td>\n",
       "      <td>1</td>\n",
       "      <td>4.0</td>\n",
       "      <td>4.0</td>\n",
       "      <td>4.0</td>\n",
       "      <td>35.09</td>\n",
       "      <td>0.0</td>\n",
       "      <td>29846</td>\n",
       "      <td>0</td>\n",
       "    </tr>\n",
       "    <tr>\n",
       "      <th>6</th>\n",
       "      <td>A056010003908116850002378</td>\n",
       "      <td>71051541</td>\n",
       "      <td>60.00</td>\n",
       "      <td>2016-03-21 08:19:56</td>\n",
       "      <td>0</td>\n",
       "      <td>0</td>\n",
       "      <td>0</td>\n",
       "      <td>0</td>\n",
       "      <td>500</td>\n",
       "      <td>0.000000</td>\n",
       "      <td>...</td>\n",
       "      <td>12.586532</td>\n",
       "      <td>0</td>\n",
       "      <td>1</td>\n",
       "      <td>4.0</td>\n",
       "      <td>4.0</td>\n",
       "      <td>4.0</td>\n",
       "      <td>60.00</td>\n",
       "      <td>0.0</td>\n",
       "      <td>29996</td>\n",
       "      <td>0</td>\n",
       "    </tr>\n",
       "    <tr>\n",
       "      <th>7</th>\n",
       "      <td>A034013506908085106167163</td>\n",
       "      <td>71051542</td>\n",
       "      <td>120.00</td>\n",
       "      <td>2016-03-21 08:20:42</td>\n",
       "      <td>0</td>\n",
       "      <td>1</td>\n",
       "      <td>1</td>\n",
       "      <td>1</td>\n",
       "      <td>389</td>\n",
       "      <td>0.308483</td>\n",
       "      <td>...</td>\n",
       "      <td>21.834061</td>\n",
       "      <td>0</td>\n",
       "      <td>1</td>\n",
       "      <td>4.0</td>\n",
       "      <td>4.0</td>\n",
       "      <td>4.0</td>\n",
       "      <td>120.00</td>\n",
       "      <td>0.0</td>\n",
       "      <td>30042</td>\n",
       "      <td>0</td>\n",
       "    </tr>\n",
       "    <tr>\n",
       "      <th>8</th>\n",
       "      <td>A056015589908090385895930</td>\n",
       "      <td>71051544</td>\n",
       "      <td>59.25</td>\n",
       "      <td>2016-03-21 08:21:04</td>\n",
       "      <td>0</td>\n",
       "      <td>1</td>\n",
       "      <td>1</td>\n",
       "      <td>1</td>\n",
       "      <td>538</td>\n",
       "      <td>0.000000</td>\n",
       "      <td>...</td>\n",
       "      <td>12.586532</td>\n",
       "      <td>0</td>\n",
       "      <td>1</td>\n",
       "      <td>4.0</td>\n",
       "      <td>4.0</td>\n",
       "      <td>4.0</td>\n",
       "      <td>59.25</td>\n",
       "      <td>0.0</td>\n",
       "      <td>30064</td>\n",
       "      <td>0</td>\n",
       "    </tr>\n",
       "    <tr>\n",
       "      <th>9</th>\n",
       "      <td>A056015589908093500453310</td>\n",
       "      <td>71051548</td>\n",
       "      <td>17.00</td>\n",
       "      <td>2016-03-21 08:22:56</td>\n",
       "      <td>0</td>\n",
       "      <td>0</td>\n",
       "      <td>0</td>\n",
       "      <td>0</td>\n",
       "      <td>13</td>\n",
       "      <td>0.000000</td>\n",
       "      <td>...</td>\n",
       "      <td>12.586532</td>\n",
       "      <td>0</td>\n",
       "      <td>1</td>\n",
       "      <td>4.0</td>\n",
       "      <td>4.0</td>\n",
       "      <td>4.0</td>\n",
       "      <td>17.00</td>\n",
       "      <td>0.0</td>\n",
       "      <td>30176</td>\n",
       "      <td>0</td>\n",
       "    </tr>\n",
       "  </tbody>\n",
       "</table>\n",
       "<p>10 rows × 23 columns</p>\n",
       "</div>"
      ],
      "text/plain": [
       "                      ZIBZIN  IDAvisAutorisAtionCheque  MontAnt  \\\n",
       "0  A034010041908012010710730                  71051532    40.17   \n",
       "1  A035010041908006493331734                  71051533    20.00   \n",
       "2  A013010003908005150136747                  71051534    35.00   \n",
       "3  A013010041908025639221029                  71051536    20.00   \n",
       "4  A013010003908005556100283                  71051538    20.00   \n",
       "5  A007010278908891620264901                  71051539    35.09   \n",
       "6  A056010003908116850002378                  71051541    60.00   \n",
       "7  A034013506908085106167163                  71051542   120.00   \n",
       "8  A056015589908090385895930                  71051544    59.25   \n",
       "9  A056015589908093500453310                  71051548    17.00   \n",
       "\n",
       "       DAteTrAnsAction  CodeDecision  VerifiAnceCPT1  VerifiAnceCPT2  \\\n",
       "0  2016-03-21 07:47:38             0               1               1   \n",
       "1  2016-03-21 08:04:57             0               0               0   \n",
       "2  2016-03-21 08:06:45             0               0               0   \n",
       "3  2016-03-21 08:11:38             0               0               0   \n",
       "4  2016-03-21 08:17:11             0               0               0   \n",
       "5  2016-03-21 08:17:26             0               0               0   \n",
       "6  2016-03-21 08:19:56             0               0               0   \n",
       "7  2016-03-21 08:20:42             0               1               1   \n",
       "8  2016-03-21 08:21:04             0               1               1   \n",
       "9  2016-03-21 08:22:56             0               0               0   \n",
       "\n",
       "   VerifiAnceCPT3  D2CB  ScoringFP1  ...  TAuxImpNB_CPM  EcArtNumCheq  \\\n",
       "0               1   535    0.000000  ...      21.834061             0   \n",
       "1               0   358    0.000000  ...      12.586532             0   \n",
       "2               0   199    0.000000  ...      39.274924             0   \n",
       "3               0    38    0.000000  ...      39.274924             0   \n",
       "4               0    26    0.000000  ...      39.274924             0   \n",
       "5               0   459    0.000000  ...      35.523979             0   \n",
       "6               0   500    0.000000  ...      12.586532             0   \n",
       "7               1   389    0.308483  ...      21.834061             0   \n",
       "8               1   538    0.000000  ...      12.586532             0   \n",
       "9               0    13    0.000000  ...      12.586532             0   \n",
       "\n",
       "   NbrMAgAsin3J  DiffDAteTr1  DiffDAteTr2  DiffDAteTr3  CA3TRetMtt  CA3TR  \\\n",
       "0             1          4.0          4.0          4.0       40.17    0.0   \n",
       "1             1          4.0          4.0          4.0       20.00    0.0   \n",
       "2             1          4.0          4.0          4.0       35.00    0.0   \n",
       "3             1          4.0          4.0          4.0       20.00    0.0   \n",
       "4             1          4.0          4.0          4.0       20.00    0.0   \n",
       "5             1          4.0          4.0          4.0       35.09    0.0   \n",
       "6             1          4.0          4.0          4.0       60.00    0.0   \n",
       "7             1          4.0          4.0          4.0      120.00    0.0   \n",
       "8             1          4.0          4.0          4.0       59.25    0.0   \n",
       "9             1          4.0          4.0          4.0       17.00    0.0   \n",
       "\n",
       "   Heure  FlAgImpAye  \n",
       "0  28058           0  \n",
       "1  29097           0  \n",
       "2  29205           0  \n",
       "3  29498           0  \n",
       "4  29831           0  \n",
       "5  29846           0  \n",
       "6  29996           0  \n",
       "7  30042           0  \n",
       "8  30064           0  \n",
       "9  30176           0  \n",
       "\n",
       "[10 rows x 23 columns]"
      ]
     },
     "execution_count": 19,
     "metadata": {},
     "output_type": "execute_result"
    }
   ],
   "source": [
    "df.head(10)"
   ]
  },
  {
   "cell_type": "code",
   "execution_count": 20,
   "metadata": {},
   "outputs": [
    {
     "name": "stdout",
     "output_type": "stream",
     "text": [
      "<class 'pandas.core.frame.DataFrame'>\n",
      "RangeIndex: 2231369 entries, 0 to 2231368\n",
      "Data columns (total 23 columns):\n",
      " #   Column                    Dtype  \n",
      "---  ------                    -----  \n",
      " 0   ZIBZIN                    object \n",
      " 1   IDAvisAutorisAtionCheque  int64  \n",
      " 2   MontAnt                   float64\n",
      " 3   DAteTrAnsAction           object \n",
      " 4   CodeDecision              int64  \n",
      " 5   VerifiAnceCPT1            int64  \n",
      " 6   VerifiAnceCPT2            int64  \n",
      " 7   VerifiAnceCPT3            int64  \n",
      " 8   D2CB                      int64  \n",
      " 9   ScoringFP1                float64\n",
      " 10  ScoringFP2                float64\n",
      " 11  ScoringFP3                float64\n",
      " 12  TAuxImpNb_RB              float64\n",
      " 13  TAuxImpNB_CPM             float64\n",
      " 14  EcArtNumCheq              int64  \n",
      " 15  NbrMAgAsin3J              int64  \n",
      " 16  DiffDAteTr1               float64\n",
      " 17  DiffDAteTr2               float64\n",
      " 18  DiffDAteTr3               float64\n",
      " 19  CA3TRetMtt                float64\n",
      " 20  CA3TR                     float64\n",
      " 21  Heure                     int64  \n",
      " 22  FlAgImpAye                int64  \n",
      "dtypes: float64(11), int64(10), object(2)\n",
      "memory usage: 391.6+ MB\n"
     ]
    }
   ],
   "source": [
    "df.info()"
   ]
  },
  {
   "cell_type": "code",
   "execution_count": 6,
   "metadata": {},
   "outputs": [
    {
     "name": "stdout",
     "output_type": "stream",
     "text": [
      "ZIBZIN                      object\n",
      "IDAvisAutorisAtionCheque     int64\n",
      "MontAnt                     object\n",
      "DAteTrAnsAction             object\n",
      "CodeDecision                 int64\n",
      "VerifiAnceCPT1               int64\n",
      "VerifiAnceCPT2               int64\n",
      "VerifiAnceCPT3               int64\n",
      "D2CB                         int64\n",
      "ScoringFP1                  object\n",
      "ScoringFP2                  object\n",
      "ScoringFP3                  object\n",
      "TAuxImpNb_RB                object\n",
      "TAuxImpNB_CPM               object\n",
      "EcArtNumCheq                 int64\n",
      "NbrMAgAsin3J                 int64\n",
      "DiffDAteTr1                 object\n",
      "DiffDAteTr2                 object\n",
      "DiffDAteTr3                 object\n",
      "CA3TRetMtt                  object\n",
      "CA3TR                       object\n",
      "Heure                        int64\n",
      "FlAgImpAye                   int64\n",
      "dtype: object\n"
     ]
    }
   ],
   "source": [
    "print(df.dtypes)"
   ]
  },
  {
   "cell_type": "code",
   "execution_count": 7,
   "metadata": {},
   "outputs": [
    {
     "data": {
      "text/html": [
       "<div>\n",
       "<style scoped>\n",
       "    .dataframe tbody tr th:only-of-type {\n",
       "        vertical-align: middle;\n",
       "    }\n",
       "\n",
       "    .dataframe tbody tr th {\n",
       "        vertical-align: top;\n",
       "    }\n",
       "\n",
       "    .dataframe thead th {\n",
       "        text-align: right;\n",
       "    }\n",
       "</style>\n",
       "<table border=\"1\" class=\"dataframe\">\n",
       "  <thead>\n",
       "    <tr style=\"text-align: right;\">\n",
       "      <th></th>\n",
       "      <th>IDAvisAutorisAtionCheque</th>\n",
       "      <th>CodeDecision</th>\n",
       "      <th>VerifiAnceCPT1</th>\n",
       "      <th>VerifiAnceCPT2</th>\n",
       "      <th>VerifiAnceCPT3</th>\n",
       "      <th>D2CB</th>\n",
       "      <th>EcArtNumCheq</th>\n",
       "      <th>NbrMAgAsin3J</th>\n",
       "      <th>Heure</th>\n",
       "      <th>FlAgImpAye</th>\n",
       "    </tr>\n",
       "  </thead>\n",
       "  <tbody>\n",
       "    <tr>\n",
       "      <th>count</th>\n",
       "      <td>2.231369e+06</td>\n",
       "      <td>2.231369e+06</td>\n",
       "      <td>2.231369e+06</td>\n",
       "      <td>2.231369e+06</td>\n",
       "      <td>2.231369e+06</td>\n",
       "      <td>2.231369e+06</td>\n",
       "      <td>2.231369e+06</td>\n",
       "      <td>2.231369e+06</td>\n",
       "      <td>2.231369e+06</td>\n",
       "      <td>2.231369e+06</td>\n",
       "    </tr>\n",
       "    <tr>\n",
       "      <th>mean</th>\n",
       "      <td>7.356762e+07</td>\n",
       "      <td>1.288043e-02</td>\n",
       "      <td>3.991402e-01</td>\n",
       "      <td>4.296752e-01</td>\n",
       "      <td>4.816980e-01</td>\n",
       "      <td>2.477938e+02</td>\n",
       "      <td>6.724334e+03</td>\n",
       "      <td>1.034200e+00</td>\n",
       "      <td>5.347306e+04</td>\n",
       "      <td>2.804108e-03</td>\n",
       "    </tr>\n",
       "    <tr>\n",
       "      <th>std</th>\n",
       "      <td>1.458268e+06</td>\n",
       "      <td>1.682062e-01</td>\n",
       "      <td>5.250070e-01</td>\n",
       "      <td>6.056457e-01</td>\n",
       "      <td>7.339127e-01</td>\n",
       "      <td>2.131088e+02</td>\n",
       "      <td>1.742520e+05</td>\n",
       "      <td>1.862585e-01</td>\n",
       "      <td>1.200173e+04</td>\n",
       "      <td>5.287955e-02</td>\n",
       "    </tr>\n",
       "    <tr>\n",
       "      <th>min</th>\n",
       "      <td>7.105153e+07</td>\n",
       "      <td>0.000000e+00</td>\n",
       "      <td>0.000000e+00</td>\n",
       "      <td>0.000000e+00</td>\n",
       "      <td>0.000000e+00</td>\n",
       "      <td>1.000000e+00</td>\n",
       "      <td>0.000000e+00</td>\n",
       "      <td>1.000000e+00</td>\n",
       "      <td>1.336000e+03</td>\n",
       "      <td>0.000000e+00</td>\n",
       "    </tr>\n",
       "    <tr>\n",
       "      <th>25%</th>\n",
       "      <td>7.232987e+07</td>\n",
       "      <td>0.000000e+00</td>\n",
       "      <td>0.000000e+00</td>\n",
       "      <td>0.000000e+00</td>\n",
       "      <td>0.000000e+00</td>\n",
       "      <td>1.000000e+00</td>\n",
       "      <td>0.000000e+00</td>\n",
       "      <td>1.000000e+00</td>\n",
       "      <td>4.248500e+04</td>\n",
       "      <td>0.000000e+00</td>\n",
       "    </tr>\n",
       "    <tr>\n",
       "      <th>50%</th>\n",
       "      <td>7.353719e+07</td>\n",
       "      <td>0.000000e+00</td>\n",
       "      <td>0.000000e+00</td>\n",
       "      <td>0.000000e+00</td>\n",
       "      <td>0.000000e+00</td>\n",
       "      <td>2.430000e+02</td>\n",
       "      <td>0.000000e+00</td>\n",
       "      <td>1.000000e+00</td>\n",
       "      <td>5.488200e+04</td>\n",
       "      <td>0.000000e+00</td>\n",
       "    </tr>\n",
       "    <tr>\n",
       "      <th>75%</th>\n",
       "      <td>7.480167e+07</td>\n",
       "      <td>0.000000e+00</td>\n",
       "      <td>1.000000e+00</td>\n",
       "      <td>1.000000e+00</td>\n",
       "      <td>1.000000e+00</td>\n",
       "      <td>4.680000e+02</td>\n",
       "      <td>0.000000e+00</td>\n",
       "      <td>1.000000e+00</td>\n",
       "      <td>6.390700e+04</td>\n",
       "      <td>0.000000e+00</td>\n",
       "    </tr>\n",
       "    <tr>\n",
       "      <th>max</th>\n",
       "      <td>7.619241e+07</td>\n",
       "      <td>3.000000e+00</td>\n",
       "      <td>1.500000e+01</td>\n",
       "      <td>4.000000e+01</td>\n",
       "      <td>4.000000e+01</td>\n",
       "      <td>5.510000e+02</td>\n",
       "      <td>9.993474e+06</td>\n",
       "      <td>1.000000e+01</td>\n",
       "      <td>8.256400e+04</td>\n",
       "      <td>1.000000e+00</td>\n",
       "    </tr>\n",
       "  </tbody>\n",
       "</table>\n",
       "</div>"
      ],
      "text/plain": [
       "       IDAvisAutorisAtionCheque  CodeDecision  VerifiAnceCPT1  VerifiAnceCPT2  \\\n",
       "count              2.231369e+06  2.231369e+06    2.231369e+06    2.231369e+06   \n",
       "mean               7.356762e+07  1.288043e-02    3.991402e-01    4.296752e-01   \n",
       "std                1.458268e+06  1.682062e-01    5.250070e-01    6.056457e-01   \n",
       "min                7.105153e+07  0.000000e+00    0.000000e+00    0.000000e+00   \n",
       "25%                7.232987e+07  0.000000e+00    0.000000e+00    0.000000e+00   \n",
       "50%                7.353719e+07  0.000000e+00    0.000000e+00    0.000000e+00   \n",
       "75%                7.480167e+07  0.000000e+00    1.000000e+00    1.000000e+00   \n",
       "max                7.619241e+07  3.000000e+00    1.500000e+01    4.000000e+01   \n",
       "\n",
       "       VerifiAnceCPT3          D2CB  EcArtNumCheq  NbrMAgAsin3J         Heure  \\\n",
       "count    2.231369e+06  2.231369e+06  2.231369e+06  2.231369e+06  2.231369e+06   \n",
       "mean     4.816980e-01  2.477938e+02  6.724334e+03  1.034200e+00  5.347306e+04   \n",
       "std      7.339127e-01  2.131088e+02  1.742520e+05  1.862585e-01  1.200173e+04   \n",
       "min      0.000000e+00  1.000000e+00  0.000000e+00  1.000000e+00  1.336000e+03   \n",
       "25%      0.000000e+00  1.000000e+00  0.000000e+00  1.000000e+00  4.248500e+04   \n",
       "50%      0.000000e+00  2.430000e+02  0.000000e+00  1.000000e+00  5.488200e+04   \n",
       "75%      1.000000e+00  4.680000e+02  0.000000e+00  1.000000e+00  6.390700e+04   \n",
       "max      4.000000e+01  5.510000e+02  9.993474e+06  1.000000e+01  8.256400e+04   \n",
       "\n",
       "         FlAgImpAye  \n",
       "count  2.231369e+06  \n",
       "mean   2.804108e-03  \n",
       "std    5.287955e-02  \n",
       "min    0.000000e+00  \n",
       "25%    0.000000e+00  \n",
       "50%    0.000000e+00  \n",
       "75%    0.000000e+00  \n",
       "max    1.000000e+00  "
      ]
     },
     "execution_count": 7,
     "metadata": {},
     "output_type": "execute_result"
    }
   ],
   "source": [
    "df.describe()"
   ]
  },
  {
   "cell_type": "markdown",
   "metadata": {},
   "source": [
    "# Null values"
   ]
  },
  {
   "cell_type": "code",
   "execution_count": 10,
   "metadata": {},
   "outputs": [
    {
     "data": {
      "text/plain": [
       "<matplotlib.axes._subplots.AxesSubplot at 0x7f865ac15dc0>"
      ]
     },
     "execution_count": 10,
     "metadata": {},
     "output_type": "execute_result"
    },
    {
     "data": {
      "image/png": "[encoded data removed]",
      "text/plain": [
       "<Figure size 1800x720 with 2 Axes>"
      ]
     },
     "metadata": {
      "needs_background": "light"
     },
     "output_type": "display_data"
    }
   ],
   "source": [
    "# Null Values\n",
    "mn.matrix(df)"
   ]
  },
  {
   "cell_type": "code",
   "execution_count": 12,
   "metadata": {},
   "outputs": [
    {
     "data": {
      "text/html": [
       "<div>\n",
       "<style scoped>\n",
       "    .dataframe tbody tr th:only-of-type {\n",
       "        vertical-align: middle;\n",
       "    }\n",
       "\n",
       "    .dataframe tbody tr th {\n",
       "        vertical-align: top;\n",
       "    }\n",
       "\n",
       "    .dataframe thead th {\n",
       "        text-align: right;\n",
       "    }\n",
       "</style>\n",
       "<table border=\"1\" class=\"dataframe\">\n",
       "  <thead>\n",
       "    <tr style=\"text-align: right;\">\n",
       "      <th></th>\n",
       "      <th>Column Name</th>\n",
       "      <th>Null Values</th>\n",
       "      <th>Null Values Percentage</th>\n",
       "    </tr>\n",
       "  </thead>\n",
       "  <tbody>\n",
       "    <tr>\n",
       "      <th>0</th>\n",
       "      <td>ZIBZIN</td>\n",
       "      <td>0</td>\n",
       "      <td>0.0</td>\n",
       "    </tr>\n",
       "    <tr>\n",
       "      <th>12</th>\n",
       "      <td>TAuxImpNb_RB</td>\n",
       "      <td>0</td>\n",
       "      <td>0.0</td>\n",
       "    </tr>\n",
       "    <tr>\n",
       "      <th>21</th>\n",
       "      <td>Heure</td>\n",
       "      <td>0</td>\n",
       "      <td>0.0</td>\n",
       "    </tr>\n",
       "    <tr>\n",
       "      <th>20</th>\n",
       "      <td>CA3TR</td>\n",
       "      <td>0</td>\n",
       "      <td>0.0</td>\n",
       "    </tr>\n",
       "    <tr>\n",
       "      <th>19</th>\n",
       "      <td>CA3TRetMtt</td>\n",
       "      <td>0</td>\n",
       "      <td>0.0</td>\n",
       "    </tr>\n",
       "    <tr>\n",
       "      <th>18</th>\n",
       "      <td>DiffDAteTr3</td>\n",
       "      <td>0</td>\n",
       "      <td>0.0</td>\n",
       "    </tr>\n",
       "    <tr>\n",
       "      <th>17</th>\n",
       "      <td>DiffDAteTr2</td>\n",
       "      <td>0</td>\n",
       "      <td>0.0</td>\n",
       "    </tr>\n",
       "    <tr>\n",
       "      <th>16</th>\n",
       "      <td>DiffDAteTr1</td>\n",
       "      <td>0</td>\n",
       "      <td>0.0</td>\n",
       "    </tr>\n",
       "    <tr>\n",
       "      <th>15</th>\n",
       "      <td>NbrMAgAsin3J</td>\n",
       "      <td>0</td>\n",
       "      <td>0.0</td>\n",
       "    </tr>\n",
       "    <tr>\n",
       "      <th>14</th>\n",
       "      <td>EcArtNumCheq</td>\n",
       "      <td>0</td>\n",
       "      <td>0.0</td>\n",
       "    </tr>\n",
       "    <tr>\n",
       "      <th>13</th>\n",
       "      <td>TAuxImpNB_CPM</td>\n",
       "      <td>0</td>\n",
       "      <td>0.0</td>\n",
       "    </tr>\n",
       "    <tr>\n",
       "      <th>11</th>\n",
       "      <td>ScoringFP3</td>\n",
       "      <td>0</td>\n",
       "      <td>0.0</td>\n",
       "    </tr>\n",
       "    <tr>\n",
       "      <th>1</th>\n",
       "      <td>IDAvisAutorisAtionCheque</td>\n",
       "      <td>0</td>\n",
       "      <td>0.0</td>\n",
       "    </tr>\n",
       "    <tr>\n",
       "      <th>10</th>\n",
       "      <td>ScoringFP2</td>\n",
       "      <td>0</td>\n",
       "      <td>0.0</td>\n",
       "    </tr>\n",
       "    <tr>\n",
       "      <th>9</th>\n",
       "      <td>ScoringFP1</td>\n",
       "      <td>0</td>\n",
       "      <td>0.0</td>\n",
       "    </tr>\n",
       "    <tr>\n",
       "      <th>8</th>\n",
       "      <td>D2CB</td>\n",
       "      <td>0</td>\n",
       "      <td>0.0</td>\n",
       "    </tr>\n",
       "    <tr>\n",
       "      <th>7</th>\n",
       "      <td>VerifiAnceCPT3</td>\n",
       "      <td>0</td>\n",
       "      <td>0.0</td>\n",
       "    </tr>\n",
       "    <tr>\n",
       "      <th>6</th>\n",
       "      <td>VerifiAnceCPT2</td>\n",
       "      <td>0</td>\n",
       "      <td>0.0</td>\n",
       "    </tr>\n",
       "    <tr>\n",
       "      <th>5</th>\n",
       "      <td>VerifiAnceCPT1</td>\n",
       "      <td>0</td>\n",
       "      <td>0.0</td>\n",
       "    </tr>\n",
       "    <tr>\n",
       "      <th>4</th>\n",
       "      <td>CodeDecision</td>\n",
       "      <td>0</td>\n",
       "      <td>0.0</td>\n",
       "    </tr>\n",
       "    <tr>\n",
       "      <th>3</th>\n",
       "      <td>DAteTrAnsAction</td>\n",
       "      <td>0</td>\n",
       "      <td>0.0</td>\n",
       "    </tr>\n",
       "    <tr>\n",
       "      <th>2</th>\n",
       "      <td>MontAnt</td>\n",
       "      <td>0</td>\n",
       "      <td>0.0</td>\n",
       "    </tr>\n",
       "    <tr>\n",
       "      <th>22</th>\n",
       "      <td>FlAgImpAye</td>\n",
       "      <td>0</td>\n",
       "      <td>0.0</td>\n",
       "    </tr>\n",
       "  </tbody>\n",
       "</table>\n",
       "</div>"
      ],
      "text/plain": [
       "                 Column Name  Null Values  Null Values Percentage\n",
       "0                     ZIBZIN            0                     0.0\n",
       "12              TAuxImpNb_RB            0                     0.0\n",
       "21                     Heure            0                     0.0\n",
       "20                     CA3TR            0                     0.0\n",
       "19                CA3TRetMtt            0                     0.0\n",
       "18               DiffDAteTr3            0                     0.0\n",
       "17               DiffDAteTr2            0                     0.0\n",
       "16               DiffDAteTr1            0                     0.0\n",
       "15              NbrMAgAsin3J            0                     0.0\n",
       "14              EcArtNumCheq            0                     0.0\n",
       "13             TAuxImpNB_CPM            0                     0.0\n",
       "11                ScoringFP3            0                     0.0\n",
       "1   IDAvisAutorisAtionCheque            0                     0.0\n",
       "10                ScoringFP2            0                     0.0\n",
       "9                 ScoringFP1            0                     0.0\n",
       "8                       D2CB            0                     0.0\n",
       "7             VerifiAnceCPT3            0                     0.0\n",
       "6             VerifiAnceCPT2            0                     0.0\n",
       "5             VerifiAnceCPT1            0                     0.0\n",
       "4               CodeDecision            0                     0.0\n",
       "3            DAteTrAnsAction            0                     0.0\n",
       "2                    MontAnt            0                     0.0\n",
       "22                FlAgImpAye            0                     0.0"
      ]
     },
     "execution_count": 12,
     "metadata": {},
     "output_type": "execute_result"
    }
   ],
   "source": [
    "null_df_perc = pd.DataFrame((df.isnull().sum())*100/df.shape[0]).reset_index()\n",
    "null_df_perc.columns = ['Column Name', 'Null Values Percentage']\n",
    "null_df_value = pd.DataFrame(df.isnull().sum()).reset_index()\n",
    "null_df_value.columns = ['Column Name', 'Null Values']\n",
    "null_df = pd.merge(null_df_value, null_df_perc, on='Column Name')\n",
    "null_df.sort_values(by='Null Values Percentage', ascending=False)"
   ]
  },
  {
   "cell_type": "code",
   "execution_count": 14,
   "metadata": {},
   "outputs": [
    {
     "name": "stdout",
     "output_type": "stream",
     "text": [
      "ZIBZIN                      0\n",
      "IDAvisAutorisAtionCheque    0\n",
      "MontAnt                     0\n",
      "DAteTrAnsAction             0\n",
      "CodeDecision                0\n",
      "VerifiAnceCPT1              0\n",
      "VerifiAnceCPT2              0\n",
      "VerifiAnceCPT3              0\n",
      "D2CB                        0\n",
      "ScoringFP1                  0\n",
      "ScoringFP2                  0\n",
      "ScoringFP3                  0\n",
      "TAuxImpNb_RB                0\n",
      "TAuxImpNB_CPM               0\n",
      "EcArtNumCheq                0\n",
      "NbrMAgAsin3J                0\n",
      "DiffDAteTr1                 0\n",
      "DiffDAteTr2                 0\n",
      "DiffDAteTr3                 0\n",
      "CA3TRetMtt                  0\n",
      "CA3TR                       0\n",
      "Heure                       0\n",
      "FlAgImpAye                  0\n",
      "dtype: int64\n"
     ]
    }
   ],
   "source": [
    "print(df.isnull().sum())"
   ]
  },
  {
   "cell_type": "markdown",
   "metadata": {},
   "source": [
    "Il y a 0 null values "
   ]
  },
  {
   "cell_type": "markdown",
   "metadata": {},
   "source": [
    "# Analyse univarié"
   ]
  },
  {
   "cell_type": "code",
   "execution_count": 6,
   "metadata": {},
   "outputs": [
    {
     "data": {
      "text/plain": [
       "0    2225112\n",
       "1       6257\n",
       "Name: FlAgImpAye, dtype: int64"
      ]
     },
     "execution_count": 6,
     "metadata": {},
     "output_type": "execute_result"
    }
   ],
   "source": [
    "pd.value_counts(df['FlAgImpAye'])"
   ]
  },
  {
   "cell_type": "markdown",
   "metadata": {},
   "source": [
    "On peut voir que la classe \"frauduleuse\" est extremement petite par rapport que la classe normale. En fait, dans ce cas la, oversampling sera mieux comme on ne veut pas perdre les infos importants sur les classes"
   ]
  },
  {
   "cell_type": "markdown",
   "metadata": {},
   "source": [
    "## Extraire Mois pour Train et Test"
   ]
  },
  {
   "cell_type": "markdown",
   "metadata": {},
   "source": [
    "Le but est de creer train et test chrono, pas en aléatoire donc nous allons observer la repartition de mois"
   ]
  },
  {
   "cell_type": "code",
   "execution_count": 83,
   "metadata": {},
   "outputs": [
    {
     "name": "stdout",
     "output_type": "stream",
     "text": [
      "<class 'pandas.core.frame.DataFrame'>\n",
      "RangeIndex: 2231369 entries, 0 to 2231368\n",
      "Data columns (total 24 columns):\n",
      " #   Column                    Dtype         \n",
      "---  ------                    -----         \n",
      " 0   ZIBZIN                    object        \n",
      " 1   IDAvisAutorisAtionCheque  int64         \n",
      " 2   MontAnt                   float64       \n",
      " 3   DAteTrAnsAction           datetime64[ns]\n",
      " 4   CodeDecision              int64         \n",
      " 5   VerifiAnceCPT1            int64         \n",
      " 6   VerifiAnceCPT2            int64         \n",
      " 7   VerifiAnceCPT3            int64         \n",
      " 8   D2CB                      int64         \n",
      " 9   ScoringFP1                float64       \n",
      " 10  ScoringFP2                float64       \n",
      " 11  ScoringFP3                float64       \n",
      " 12  TAuxImpNb_RB              float64       \n",
      " 13  TAuxImpNB_CPM             float64       \n",
      " 14  EcArtNumCheq              int64         \n",
      " 15  NbrMAgAsin3J              int64         \n",
      " 16  DiffDAteTr1               float64       \n",
      " 17  DiffDAteTr2               float64       \n",
      " 18  DiffDAteTr3               float64       \n",
      " 19  CA3TRetMtt                float64       \n",
      " 20  CA3TR                     float64       \n",
      " 21  Heure                     int64         \n",
      " 22  FlAgImpAye                int64         \n",
      " 23  Month                     int64         \n",
      "dtypes: datetime64[ns](1), float64(11), int64(11), object(1)\n",
      "memory usage: 408.6+ MB\n",
      "None\n"
     ]
    }
   ],
   "source": [
    "df['DAteTrAnsAction'] = pd.to_datetime(df['DAteTrAnsAction'])\n",
    "print(df.info())"
   ]
  },
  {
   "cell_type": "code",
   "execution_count": 75,
   "metadata": {},
   "outputs": [
    {
     "name": "stdout",
     "output_type": "stream",
     "text": [
      "[ 3  4  5  6  7  8  9 10]\n"
     ]
    }
   ],
   "source": [
    "df['Month']=df['DAteTrAnsAction'].dt.month\n",
    "a=pd.value_counts(df['Month'])\n",
    "print(df['Month'].unique())"
   ]
  },
  {
   "cell_type": "code",
   "execution_count": 76,
   "metadata": {},
   "outputs": [
    {
     "data": {
      "image/png": "[encoded data removed]",
      "text/plain": [
       "<Figure size 360x360 with 1 Axes>"
      ]
     },
     "metadata": {},
     "output_type": "display_data"
    }
   ],
   "source": [
    "plot = a.plot.pie(y='Month', figsize=(5, 5),autopct='%1.1f%%')"
   ]
  },
  {
   "cell_type": "markdown",
   "metadata": {},
   "source": [
    "Donc nous avons 8 mois en total,le premier et le dernier et celui qui a le moins activité."
   ]
  },
  {
   "cell_type": "markdown",
   "metadata": {},
   "source": [
    "# Train et Test"
   ]
  },
  {
   "cell_type": "code",
   "execution_count": 131,
   "metadata": {},
   "outputs": [
    {
     "name": "stdout",
     "output_type": "stream",
     "text": [
      "['2016-03-21T07:47:38.000000000' '2016-03-21T08:04:57.000000000'\n",
      " '2016-03-21T08:06:45.000000000' ... '2016-09-19T21:15:19.000000000'\n",
      " '2016-09-19T21:43:41.000000000' '2016-09-19T21:51:09.000000000']\n",
      "['2016-09-20T07:33:50.000000000' '2016-09-20T08:05:18.000000000'\n",
      " '2016-09-20T08:06:20.000000000' ... '2016-10-19T21:29:04.000000000'\n",
      " '2016-10-19T21:46:26.000000000' '2016-10-19T21:57:52.000000000']\n"
     ]
    }
   ],
   "source": [
    "Apprenti = df.loc[df['DAteTrAnsAction'] < '2016-09-20'] \n",
    "Test = df.loc[df['DAteTrAnsAction'] >= '2016-09-20'] \n",
    "print(Apprenti['DAteTrAnsAction'].unique())\n",
    "print(Test['DAteTrAnsAction'].unique())"
   ]
  },
  {
   "cell_type": "markdown",
   "metadata": {},
   "source": [
    "On va créer les variables en supprimant les valeurs ID + Date + Heure qui ne nous concernce pas vraiment"
   ]
  },
  {
   "cell_type": "code",
   "execution_count": 147,
   "metadata": {},
   "outputs": [
    {
     "name": "stdout",
     "output_type": "stream",
     "text": [
      "<class 'pandas.core.frame.DataFrame'>\n",
      "Int64Index: 1967226 entries, 0 to 1967225\n",
      "Data columns (total 18 columns):\n",
      " #   Column          Dtype  \n",
      "---  ------          -----  \n",
      " 0   MontAnt         float64\n",
      " 1   CodeDecision    int64  \n",
      " 2   VerifiAnceCPT1  int64  \n",
      " 3   VerifiAnceCPT2  int64  \n",
      " 4   VerifiAnceCPT3  int64  \n",
      " 5   D2CB            int64  \n",
      " 6   ScoringFP1      float64\n",
      " 7   ScoringFP2      float64\n",
      " 8   ScoringFP3      float64\n",
      " 9   TAuxImpNb_RB    float64\n",
      " 10  TAuxImpNB_CPM   float64\n",
      " 11  EcArtNumCheq    int64  \n",
      " 12  NbrMAgAsin3J    int64  \n",
      " 13  DiffDAteTr1     float64\n",
      " 14  DiffDAteTr2     float64\n",
      " 15  DiffDAteTr3     float64\n",
      " 16  CA3TRetMtt      float64\n",
      " 17  CA3TR           float64\n",
      "dtypes: float64(11), int64(7)\n",
      "memory usage: 285.2 MB\n",
      "None\n",
      "0          0\n",
      "1          0\n",
      "2          0\n",
      "3          0\n",
      "4          0\n",
      "          ..\n",
      "1967221    0\n",
      "1967222    0\n",
      "1967223    0\n",
      "1967224    0\n",
      "1967225    1\n",
      "Name: FlAgImpAye, Length: 1967226, dtype: int64\n"
     ]
    }
   ],
   "source": [
    "training_features= Apprenti.drop(Apprenti.columns[[0, 1,3,21,22,23]], axis=1) \n",
    "training_target = Apprenti['FlAgImpAye']\n",
    "#print(X_train.shape)\n",
    "print(training_features.info())\n",
    "print(training_target)"
   ]
  },
  {
   "cell_type": "markdown",
   "metadata": {},
   "source": [
    "Donc on va définir l'ensemble d'entrainement, de validation et test."
   ]
  },
  {
   "cell_type": "code",
   "execution_count": 148,
   "metadata": {},
   "outputs": [],
   "source": [
    "x_train, x_val, y_train, y_val = train_test_split(training_features, training_target,\n",
    "                                                  test_size = 0.3,\n",
    "                                                  shuffle=False \n",
    "                                                  )"
   ]
  },
  {
   "cell_type": "code",
   "execution_count": 149,
   "metadata": {},
   "outputs": [],
   "source": [
    "test_features= Test.drop(Apprenti.columns[[0, 1, 3,21,22,23]], axis=1) \n",
    "test_target = Test['FlAgImpAye']"
   ]
  },
  {
   "cell_type": "markdown",
   "metadata": {},
   "source": [
    "Test ( en commentaire )"
   ]
  },
  {
   "cell_type": "code",
   "execution_count": 24,
   "metadata": {},
   "outputs": [],
   "source": [
    "def plot_decision_function(X, y, clf, ax):\n",
    "    plot_step = 0.02\n",
    "    x_min, x_max = X[:, 0].min() - 1, X[:, 0].max() + 1\n",
    "    y_min, y_max = X[:, 1].min() - 1, X[:, 1].max() + 1\n",
    "    xx, yy = np.meshgrid(np.arange(x_min, x_max, plot_step),\n",
    "                         np.arange(y_min, y_max, plot_step))\n",
    "\n",
    "    Z = clf.predict(np.c_[xx.ravel(), yy.ravel()])\n",
    "    Z = Z.reshape(xx.shape)\n",
    "    ax.contourf(xx, yy, Z, alpha=0.4)\n",
    "    ax.scatter(X[:, 0], X[:, 1], alpha=0.8, c=y, edgecolor='k')"
   ]
  },
  {
   "cell_type": "code",
   "execution_count": 25,
   "metadata": {
    "collapsed": true
   },
   "outputs": [
    {
     "ename": "TypeError",
     "evalue": "'(slice(None, None, None), slice(None, 2, None))' is an invalid key",
     "output_type": "error",
     "traceback": [
      "\u001b[0;31m---------------------------------------------------------------------------\u001b[0m",
      "\u001b[0;31mTypeError\u001b[0m                                 Traceback (most recent call last)",
      "\u001b[0;32m<ipython-input-25-73daa54ef3e3>\u001b[0m in \u001b[0;36m<module>\u001b[0;34m\u001b[0m\n\u001b[1;32m      1\u001b[0m \u001b[0max\u001b[0m \u001b[0;34m=\u001b[0m \u001b[0mplt\u001b[0m\u001b[0;34m.\u001b[0m\u001b[0mgca\u001b[0m\u001b[0;34m(\u001b[0m\u001b[0;34m)\u001b[0m\u001b[0;34m\u001b[0m\u001b[0;34m\u001b[0m\u001b[0m\n\u001b[0;32m----> 2\u001b[0;31m \u001b[0mplot_decision_function\u001b[0m\u001b[0;34m(\u001b[0m\u001b[0mX\u001b[0m\u001b[0;34m[\u001b[0m\u001b[0;34m:\u001b[0m\u001b[0;34m,\u001b[0m \u001b[0;34m:\u001b[0m\u001b[0;36m2\u001b[0m\u001b[0;34m]\u001b[0m\u001b[0;34m[\u001b[0m\u001b[0;34m:\u001b[0m\u001b[0;36m1000\u001b[0m\u001b[0;34m]\u001b[0m\u001b[0;34m,\u001b[0m \u001b[0my\u001b[0m\u001b[0;34m[\u001b[0m\u001b[0;34m:\u001b[0m\u001b[0;36m1000\u001b[0m\u001b[0;34m]\u001b[0m\u001b[0;34m,\u001b[0m \u001b[0mLinearSVC\u001b[0m\u001b[0;34m(\u001b[0m\u001b[0;34m)\u001b[0m\u001b[0;34m.\u001b[0m\u001b[0mfit\u001b[0m\u001b[0;34m(\u001b[0m\u001b[0mX\u001b[0m\u001b[0;34m[\u001b[0m\u001b[0;34m:\u001b[0m\u001b[0;34m,\u001b[0m \u001b[0;34m:\u001b[0m\u001b[0;36m2\u001b[0m\u001b[0;34m]\u001b[0m\u001b[0;34m[\u001b[0m\u001b[0;34m:\u001b[0m\u001b[0;36m5000\u001b[0m\u001b[0;34m]\u001b[0m\u001b[0;34m,\u001b[0m \u001b[0my\u001b[0m\u001b[0;34m[\u001b[0m\u001b[0;34m:\u001b[0m\u001b[0;36m5000\u001b[0m\u001b[0;34m]\u001b[0m\u001b[0;34m)\u001b[0m\u001b[0;34m,\u001b[0m \u001b[0max\u001b[0m\u001b[0;34m)\u001b[0m\u001b[0;34m\u001b[0m\u001b[0;34m\u001b[0m\u001b[0m\n\u001b[0m",
      "\u001b[0;32m~/opt/anaconda3/lib/python3.8/site-packages/pandas/core/frame.py\u001b[0m in \u001b[0;36m__getitem__\u001b[0;34m(self, key)\u001b[0m\n\u001b[1;32m   2798\u001b[0m             \u001b[0;32mif\u001b[0m \u001b[0mself\u001b[0m\u001b[0;34m.\u001b[0m\u001b[0mcolumns\u001b[0m\u001b[0;34m.\u001b[0m\u001b[0mnlevels\u001b[0m \u001b[0;34m>\u001b[0m \u001b[0;36m1\u001b[0m\u001b[0;34m:\u001b[0m\u001b[0;34m\u001b[0m\u001b[0;34m\u001b[0m\u001b[0m\n\u001b[1;32m   2799\u001b[0m                 \u001b[0;32mreturn\u001b[0m \u001b[0mself\u001b[0m\u001b[0;34m.\u001b[0m\u001b[0m_getitem_multilevel\u001b[0m\u001b[0;34m(\u001b[0m\u001b[0mkey\u001b[0m\u001b[0;34m)\u001b[0m\u001b[0;34m\u001b[0m\u001b[0;34m\u001b[0m\u001b[0m\n\u001b[0;32m-> 2800\u001b[0;31m             \u001b[0mindexer\u001b[0m \u001b[0;34m=\u001b[0m \u001b[0mself\u001b[0m\u001b[0;34m.\u001b[0m\u001b[0mcolumns\u001b[0m\u001b[0;34m.\u001b[0m\u001b[0mget_loc\u001b[0m\u001b[0;34m(\u001b[0m\u001b[0mkey\u001b[0m\u001b[0;34m)\u001b[0m\u001b[0;34m\u001b[0m\u001b[0;34m\u001b[0m\u001b[0m\n\u001b[0m\u001b[1;32m   2801\u001b[0m             \u001b[0;32mif\u001b[0m \u001b[0mis_integer\u001b[0m\u001b[0;34m(\u001b[0m\u001b[0mindexer\u001b[0m\u001b[0;34m)\u001b[0m\u001b[0;34m:\u001b[0m\u001b[0;34m\u001b[0m\u001b[0;34m\u001b[0m\u001b[0m\n\u001b[1;32m   2802\u001b[0m                 \u001b[0mindexer\u001b[0m \u001b[0;34m=\u001b[0m \u001b[0;34m[\u001b[0m\u001b[0mindexer\u001b[0m\u001b[0;34m]\u001b[0m\u001b[0;34m\u001b[0m\u001b[0;34m\u001b[0m\u001b[0m\n",
      "\u001b[0;32m~/opt/anaconda3/lib/python3.8/site-packages/pandas/core/indexes/base.py\u001b[0m in \u001b[0;36mget_loc\u001b[0;34m(self, key, method, tolerance)\u001b[0m\n\u001b[1;32m   2644\u001b[0m                 )\n\u001b[1;32m   2645\u001b[0m             \u001b[0;32mtry\u001b[0m\u001b[0;34m:\u001b[0m\u001b[0;34m\u001b[0m\u001b[0;34m\u001b[0m\u001b[0m\n\u001b[0;32m-> 2646\u001b[0;31m                 \u001b[0;32mreturn\u001b[0m \u001b[0mself\u001b[0m\u001b[0;34m.\u001b[0m\u001b[0m_engine\u001b[0m\u001b[0;34m.\u001b[0m\u001b[0mget_loc\u001b[0m\u001b[0;34m(\u001b[0m\u001b[0mkey\u001b[0m\u001b[0;34m)\u001b[0m\u001b[0;34m\u001b[0m\u001b[0;34m\u001b[0m\u001b[0m\n\u001b[0m\u001b[1;32m   2647\u001b[0m             \u001b[0;32mexcept\u001b[0m \u001b[0mKeyError\u001b[0m\u001b[0;34m:\u001b[0m\u001b[0;34m\u001b[0m\u001b[0;34m\u001b[0m\u001b[0m\n\u001b[1;32m   2648\u001b[0m                 \u001b[0;32mreturn\u001b[0m \u001b[0mself\u001b[0m\u001b[0;34m.\u001b[0m\u001b[0m_engine\u001b[0m\u001b[0;34m.\u001b[0m\u001b[0mget_loc\u001b[0m\u001b[0;34m(\u001b[0m\u001b[0mself\u001b[0m\u001b[0;34m.\u001b[0m\u001b[0m_maybe_cast_indexer\u001b[0m\u001b[0;34m(\u001b[0m\u001b[0mkey\u001b[0m\u001b[0;34m)\u001b[0m\u001b[0;34m)\u001b[0m\u001b[0;34m\u001b[0m\u001b[0;34m\u001b[0m\u001b[0m\n",
      "\u001b[0;32mpandas/_libs/index.pyx\u001b[0m in \u001b[0;36mpandas._libs.index.IndexEngine.get_loc\u001b[0;34m()\u001b[0m\n",
      "\u001b[0;32mpandas/_libs/index.pyx\u001b[0m in \u001b[0;36mpandas._libs.index.IndexEngine.get_loc\u001b[0;34m()\u001b[0m\n",
      "\u001b[0;31mTypeError\u001b[0m: '(slice(None, None, None), slice(None, 2, None))' is an invalid key"
     ]
    },
    {
     "data": {
      "image/png": "[encoded data removed]",
      "text/plain": [
       "<Figure size 432x288 with 1 Axes>"
      ]
     },
     "metadata": {
      "needs_background": "light"
     },
     "output_type": "display_data"
    }
   ],
   "source": [
    "ax = plt.gca()\n",
    "plot_decision_function(X[:, :2][:1000], y[:1000], LinearSVC().fit(X[:, :2][:5000], y[:5000]), ax)"
   ]
  },
  {
   "cell_type": "markdown",
   "metadata": {},
   "source": [
    "# SMOTE OverSamplingwith Random Forest"
   ]
  },
  {
   "cell_type": "code",
   "execution_count": 26,
   "metadata": {},
   "outputs": [],
   "source": [
    "#training_features, test_features, \\\n",
    "#training_target, test_target, = train_test_split(df.drop(df.columns[[0, 1, 3,21,22]], axis=1),\n",
    "                                               #df['FlAgImpAye'],\n",
    "                                               #test_size = .1,\n",
    "                                               #random_state=12)"
   ]
  },
  {
   "cell_type": "code",
   "execution_count": 27,
   "metadata": {},
   "outputs": [],
   "source": [
    "#x_train, x_val, y_train, y_val = train_test_split(training_features, training_target,\n",
    "                                                  #test_size = .1,\n",
    "                                                 # random_state=12)"
   ]
  },
  {
   "cell_type": "code",
   "execution_count": 150,
   "metadata": {},
   "outputs": [],
   "source": [
    "sm = SMOTE(random_state=12)\n",
    "x_train_res, y_train_res = sm.fit_sample(x_train, y_train)\n"
   ]
  },
  {
   "cell_type": "code",
   "execution_count": 117,
   "metadata": {},
   "outputs": [
    {
     "data": {
      "text/plain": [
       "Pipeline(steps=[('standardscaler', StandardScaler()),\n",
       "                ('randomforestclassifier',\n",
       "                 RandomForestClassifier(n_estimators=25, random_state=12))])"
      ]
     },
     "execution_count": 117,
     "metadata": {},
     "output_type": "execute_result"
    }
   ],
   "source": [
    "pipe = make_pipeline(StandardScaler(), RandomForestClassifier(n_estimators=25, random_state=12))\n",
    "#clf_rf = RandomForestClassifier(n_estimators=25, random_state=12)\n",
    "#clf_rf.fit(x_train_res, y_train_res)\n",
    "pipe.fit(x_train_res, y_train_res) "
   ]
  },
  {
   "cell_type": "code",
   "execution_count": 37,
   "metadata": {},
   "outputs": [
    {
     "name": "stdout",
     "output_type": "stream",
     "text": [
      "Validation Results\n",
      "0.9935366290881568\n",
      "0.1099290780141844\n",
      "0.08720112517580873\n",
      "\n",
      "Test Results\n",
      "0.9933807481502396\n",
      "0.10725552050473186\n",
      "0.08431494110353377\n"
     ]
    }
   ],
   "source": [
    "print ('Validation Results')\n",
    "print (clf_rf.score(x_val, y_val))\n",
    "print (recall_score(y_val, clf_rf.predict(x_val)))\n",
    "print (f1_score(y_val, clf_rf.predict(x_val)))\n",
    "print ('\\nTest Results')\n",
    "print (clf_rf.score(test_features, test_target))\n",
    "print (recall_score(test_target, clf_rf.predict(test_features)))\n",
    "print (f1_score(test_target, clf_rf.predict(test_features)))"
   ]
  },
  {
   "cell_type": "markdown",
   "metadata": {},
   "source": [
    "# Exporter and save "
   ]
  },
  {
   "cell_type": "code",
   "execution_count": 102,
   "metadata": {},
   "outputs": [
    {
     "ename": "FileNotFoundError",
     "evalue": "[Errno 2] No such file or directory: \"'/Users/hoangkhanhle/Desktop/School/Master 2/Big Data/ProjetFraud/BIG DATA.ipynb'\"",
     "output_type": "error",
     "traceback": [
      "\u001b[0;31m---------------------------------------------------------------------------\u001b[0m",
      "\u001b[0;31mFileNotFoundError\u001b[0m                         Traceback (most recent call last)",
      "\u001b[0;32m<ipython-input-102-ec9c4de6987e>\u001b[0m in \u001b[0;36m<module>\u001b[0;34m\u001b[0m\n\u001b[0;32m----> 1\u001b[0;31m \u001b[0mget_ipython\u001b[0m\u001b[0;34m(\u001b[0m\u001b[0;34m)\u001b[0m\u001b[0;34m.\u001b[0m\u001b[0mrun_line_magic\u001b[0m\u001b[0;34m(\u001b[0m\u001b[0;34m'notebook'\u001b[0m\u001b[0;34m,\u001b[0m \u001b[0;34m\"'/Users/hoangkhanhle/Desktop/School/Master 2/Big Data/ProjetFraud/BIG DATA.ipynb'\"\u001b[0m\u001b[0;34m)\u001b[0m\u001b[0;34m\u001b[0m\u001b[0;34m\u001b[0m\u001b[0m\n\u001b[0m",
      "\u001b[0;32m~/opt/anaconda3/lib/python3.8/site-packages/IPython/core/interactiveshell.py\u001b[0m in \u001b[0;36mrun_line_magic\u001b[0;34m(self, magic_name, line, _stack_depth)\u001b[0m\n\u001b[1;32m   2324\u001b[0m                 \u001b[0mkwargs\u001b[0m\u001b[0;34m[\u001b[0m\u001b[0;34m'local_ns'\u001b[0m\u001b[0;34m]\u001b[0m \u001b[0;34m=\u001b[0m \u001b[0msys\u001b[0m\u001b[0;34m.\u001b[0m\u001b[0m_getframe\u001b[0m\u001b[0;34m(\u001b[0m\u001b[0mstack_depth\u001b[0m\u001b[0;34m)\u001b[0m\u001b[0;34m.\u001b[0m\u001b[0mf_locals\u001b[0m\u001b[0;34m\u001b[0m\u001b[0;34m\u001b[0m\u001b[0m\n\u001b[1;32m   2325\u001b[0m             \u001b[0;32mwith\u001b[0m \u001b[0mself\u001b[0m\u001b[0;34m.\u001b[0m\u001b[0mbuiltin_trap\u001b[0m\u001b[0;34m:\u001b[0m\u001b[0;34m\u001b[0m\u001b[0;34m\u001b[0m\u001b[0m\n\u001b[0;32m-> 2326\u001b[0;31m                 \u001b[0mresult\u001b[0m \u001b[0;34m=\u001b[0m \u001b[0mfn\u001b[0m\u001b[0;34m(\u001b[0m\u001b[0;34m*\u001b[0m\u001b[0margs\u001b[0m\u001b[0;34m,\u001b[0m \u001b[0;34m**\u001b[0m\u001b[0mkwargs\u001b[0m\u001b[0;34m)\u001b[0m\u001b[0;34m\u001b[0m\u001b[0;34m\u001b[0m\u001b[0m\n\u001b[0m\u001b[1;32m   2327\u001b[0m             \u001b[0;32mreturn\u001b[0m \u001b[0mresult\u001b[0m\u001b[0;34m\u001b[0m\u001b[0;34m\u001b[0m\u001b[0m\n\u001b[1;32m   2328\u001b[0m \u001b[0;34m\u001b[0m\u001b[0m\n",
      "\u001b[0;32m<decorator-gen-41>\u001b[0m in \u001b[0;36mnotebook\u001b[0;34m(self, s)\u001b[0m\n",
      "\u001b[0;32m~/opt/anaconda3/lib/python3.8/site-packages/IPython/core/magic.py\u001b[0m in \u001b[0;36m<lambda>\u001b[0;34m(f, *a, **k)\u001b[0m\n\u001b[1;32m    185\u001b[0m     \u001b[0;31m# but it's overkill for just that one bit of state.\u001b[0m\u001b[0;34m\u001b[0m\u001b[0;34m\u001b[0m\u001b[0;34m\u001b[0m\u001b[0m\n\u001b[1;32m    186\u001b[0m     \u001b[0;32mdef\u001b[0m \u001b[0mmagic_deco\u001b[0m\u001b[0;34m(\u001b[0m\u001b[0marg\u001b[0m\u001b[0;34m)\u001b[0m\u001b[0;34m:\u001b[0m\u001b[0;34m\u001b[0m\u001b[0;34m\u001b[0m\u001b[0m\n\u001b[0;32m--> 187\u001b[0;31m         \u001b[0mcall\u001b[0m \u001b[0;34m=\u001b[0m \u001b[0;32mlambda\u001b[0m \u001b[0mf\u001b[0m\u001b[0;34m,\u001b[0m \u001b[0;34m*\u001b[0m\u001b[0ma\u001b[0m\u001b[0;34m,\u001b[0m \u001b[0;34m**\u001b[0m\u001b[0mk\u001b[0m\u001b[0;34m:\u001b[0m \u001b[0mf\u001b[0m\u001b[0;34m(\u001b[0m\u001b[0;34m*\u001b[0m\u001b[0ma\u001b[0m\u001b[0;34m,\u001b[0m \u001b[0;34m**\u001b[0m\u001b[0mk\u001b[0m\u001b[0;34m)\u001b[0m\u001b[0;34m\u001b[0m\u001b[0;34m\u001b[0m\u001b[0m\n\u001b[0m\u001b[1;32m    188\u001b[0m \u001b[0;34m\u001b[0m\u001b[0m\n\u001b[1;32m    189\u001b[0m         \u001b[0;32mif\u001b[0m \u001b[0mcallable\u001b[0m\u001b[0;34m(\u001b[0m\u001b[0marg\u001b[0m\u001b[0;34m)\u001b[0m\u001b[0;34m:\u001b[0m\u001b[0;34m\u001b[0m\u001b[0;34m\u001b[0m\u001b[0m\n",
      "\u001b[0;32m~/opt/anaconda3/lib/python3.8/site-packages/IPython/core/magics/basic.py\u001b[0m in \u001b[0;36mnotebook\u001b[0;34m(self, s)\u001b[0m\n\u001b[1;32m    591\u001b[0m             ))\n\u001b[1;32m    592\u001b[0m         \u001b[0mnb\u001b[0m \u001b[0;34m=\u001b[0m \u001b[0mv4\u001b[0m\u001b[0;34m.\u001b[0m\u001b[0mnew_notebook\u001b[0m\u001b[0;34m(\u001b[0m\u001b[0mcells\u001b[0m\u001b[0;34m=\u001b[0m\u001b[0mcells\u001b[0m\u001b[0;34m)\u001b[0m\u001b[0;34m\u001b[0m\u001b[0;34m\u001b[0m\u001b[0m\n\u001b[0;32m--> 593\u001b[0;31m         \u001b[0;32mwith\u001b[0m \u001b[0mio\u001b[0m\u001b[0;34m.\u001b[0m\u001b[0mopen\u001b[0m\u001b[0;34m(\u001b[0m\u001b[0margs\u001b[0m\u001b[0;34m.\u001b[0m\u001b[0mfilename\u001b[0m\u001b[0;34m,\u001b[0m \u001b[0;34m'w'\u001b[0m\u001b[0;34m,\u001b[0m \u001b[0mencoding\u001b[0m\u001b[0;34m=\u001b[0m\u001b[0;34m'utf-8'\u001b[0m\u001b[0;34m)\u001b[0m \u001b[0;32mas\u001b[0m \u001b[0mf\u001b[0m\u001b[0;34m:\u001b[0m\u001b[0;34m\u001b[0m\u001b[0;34m\u001b[0m\u001b[0m\n\u001b[0m\u001b[1;32m    594\u001b[0m             \u001b[0mwrite\u001b[0m\u001b[0;34m(\u001b[0m\u001b[0mnb\u001b[0m\u001b[0;34m,\u001b[0m \u001b[0mf\u001b[0m\u001b[0;34m,\u001b[0m \u001b[0mversion\u001b[0m\u001b[0;34m=\u001b[0m\u001b[0;36m4\u001b[0m\u001b[0;34m)\u001b[0m\u001b[0;34m\u001b[0m\u001b[0;34m\u001b[0m\u001b[0m\n\u001b[1;32m    595\u001b[0m \u001b[0;34m\u001b[0m\u001b[0m\n",
      "\u001b[0;31mFileNotFoundError\u001b[0m: [Errno 2] No such file or directory: \"'/Users/hoangkhanhle/Desktop/School/Master 2/Big Data/ProjetFraud/BIG DATA.ipynb'\""
     ]
    }
   ],
   "source": [
    "  %notebook '/Users/hoangkhanhle/Desktop/School/Master 2/Big Data/ProjetFraud/BIG DATA.ipynb'"
   ]
  },
  {
   "cell_type": "code",
   "execution_count": null,
   "metadata": {},
   "outputs": [],
   "source": []
  }
 ],
 "metadata": {
  "kernelspec": {
   "display_name": "Python 3",
   "language": "python",
   "name": "python3"
  },
  "language_info": {
   "codemirror_mode": {
    "name": "ipython",
    "version": 3
   },
   "file_extension": ".py",
   "mimetype": "text/x-python",
   "name": "python",
   "nbconvert_exporter": "python",
   "pygments_lexer": "ipython3",
   "version": "3.8.3"
  }
 },
 "nbformat": 4,
 "nbformat_minor": 4
}
